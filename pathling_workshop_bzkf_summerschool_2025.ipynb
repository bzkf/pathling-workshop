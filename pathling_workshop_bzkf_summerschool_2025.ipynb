{
 "cells": [
  {
   "cell_type": "markdown",
   "id": "f47398a2-7c19-464d-8e27-ae7d0b2ab489",
   "metadata": {},
   "source": [
    "# Summer School Ideas\n"
   ]
  },
  {
   "cell_type": "code",
   "execution_count": 1,
   "id": "a5bb6345-88a3-48c3-a07f-dbcc14f45a18",
   "metadata": {
    "execution": {
     "iopub.execute_input": "2025-06-04T15:19:48.761748Z",
     "iopub.status.busy": "2025-06-04T15:19:48.761324Z",
     "iopub.status.idle": "2025-06-04T15:19:52.045653Z",
     "shell.execute_reply": "2025-06-04T15:19:52.044091Z",
     "shell.execute_reply.started": "2025-06-04T15:19:48.761710Z"
    }
   },
   "outputs": [
    {
     "name": "stdout",
     "output_type": "stream",
     "text": [
      "Reading package lists... Done\n",
      "\u001b[1;31mE: \u001b[0mCould not open lock file /var/lib/apt/lists/lock - open (13: Permission denied)\u001b[0m\n",
      "\u001b[1;31mE: \u001b[0mUnable to lock directory /var/lib/apt/lists/\u001b[0m\n",
      "\u001b[1;33mW: \u001b[0mProblem unlinking the file /var/cache/apt/pkgcache.bin - RemoveCaches (13: Permission denied)\u001b[0m\n",
      "\u001b[1;33mW: \u001b[0mProblem unlinking the file /var/cache/apt/srcpkgcache.bin - RemoveCaches (13: Permission denied)\u001b[0m\n",
      "\u001b[1;31mE: \u001b[0mCould not open lock file /var/lib/dpkg/lock-frontend - open (13: Permission denied)\u001b[0m\n",
      "\u001b[1;31mE: \u001b[0mUnable to acquire the dpkg frontend lock (/var/lib/dpkg/lock-frontend), are you root?\u001b[0m\n",
      "Requirement already satisfied: pathling==7.2.0 in /home/jasmin/git/bzkf_graph_experiments/.venv/lib/python3.11/site-packages (7.2.0)\n",
      "Requirement already satisfied: deltalake==0.25.4 in /home/jasmin/git/bzkf_graph_experiments/.venv/lib/python3.11/site-packages (0.25.4)\n",
      "Requirement already satisfied: pandas==2.2.2 in /home/jasmin/git/bzkf_graph_experiments/.venv/lib/python3.11/site-packages (2.2.2)\n",
      "Requirement already satisfied: polars==1.26.0 in /home/jasmin/git/bzkf_graph_experiments/.venv/lib/python3.11/site-packages (1.26.0)\n",
      "Requirement already satisfied: pyspark<3.6.0,>=3.5.3 in /home/jasmin/git/bzkf_graph_experiments/.venv/lib/python3.11/site-packages (from pathling==7.2.0) (3.5.5)\n",
      "Requirement already satisfied: deprecated>=1.2.13 in /home/jasmin/git/bzkf_graph_experiments/.venv/lib/python3.11/site-packages (from pathling==7.2.0) (1.2.14)\n",
      "Requirement already satisfied: pyarrow<19,>=16 in /home/jasmin/git/bzkf_graph_experiments/.venv/lib/python3.11/site-packages (from deltalake==0.25.4) (18.1.0)\n",
      "Requirement already satisfied: numpy>=1.23.2 in /home/jasmin/git/bzkf_graph_experiments/.venv/lib/python3.11/site-packages (from pandas==2.2.2) (1.26.4)\n",
      "Requirement already satisfied: python-dateutil>=2.8.2 in /home/jasmin/git/bzkf_graph_experiments/.venv/lib/python3.11/site-packages (from pandas==2.2.2) (2.9.0.post0)\n",
      "Requirement already satisfied: pytz>=2020.1 in /home/jasmin/git/bzkf_graph_experiments/.venv/lib/python3.11/site-packages (from pandas==2.2.2) (2024.1)\n",
      "Requirement already satisfied: tzdata>=2022.7 in /home/jasmin/git/bzkf_graph_experiments/.venv/lib/python3.11/site-packages (from pandas==2.2.2) (2024.1)\n",
      "Requirement already satisfied: wrapt<2,>=1.10 in /home/jasmin/git/bzkf_graph_experiments/.venv/lib/python3.11/site-packages (from deprecated>=1.2.13->pathling==7.2.0) (1.16.0)\n",
      "Requirement already satisfied: py4j==0.10.9.7 in /home/jasmin/git/bzkf_graph_experiments/.venv/lib/python3.11/site-packages (from pyspark<3.6.0,>=3.5.3->pathling==7.2.0) (0.10.9.7)\n",
      "Requirement already satisfied: six>=1.5 in /home/jasmin/git/bzkf_graph_experiments/.venv/lib/python3.11/site-packages (from python-dateutil>=2.8.2->pandas==2.2.2) (1.16.0)\n",
      "\n",
      "\u001b[1m[\u001b[0m\u001b[34;49mnotice\u001b[0m\u001b[1;39;49m]\u001b[0m\u001b[39;49m A new release of pip is available: \u001b[0m\u001b[31;49m24.2\u001b[0m\u001b[39;49m -> \u001b[0m\u001b[32;49m25.1.1\u001b[0m\n",
      "\u001b[1m[\u001b[0m\u001b[34;49mnotice\u001b[0m\u001b[1;39;49m]\u001b[0m\u001b[39;49m To update, run: \u001b[0m\u001b[32;49mpip install --upgrade pip\u001b[0m\n"
     ]
    }
   ],
   "source": [
    "!apt update\n",
    "!apt install -y openjdk-17-jdk-headless\n",
    "!pip install pathling==7.2.0 deltalake==0.25.4 pandas==2.2.2 polars==1.26.0"
   ]
  },
  {
   "cell_type": "markdown",
   "id": "c8ee90f5-824d-4490-8262-222507de5662",
   "metadata": {
    "execution": {
     "iopub.execute_input": "2025-05-28T08:22:49.178122Z",
     "iopub.status.busy": "2025-05-28T08:22:49.177510Z",
     "iopub.status.idle": "2025-05-28T08:22:51.539759Z",
     "shell.execute_reply": "2025-05-28T08:22:51.538139Z",
     "shell.execute_reply.started": "2025-05-28T08:22:49.178066Z"
    }
   },
   "source": [
    "# Intro gemeinsam"
   ]
  },
  {
   "cell_type": "code",
   "execution_count": 4,
   "id": "19ad03d7-6ac7-4811-bb04-7135d128b119",
   "metadata": {
    "execution": {
     "iopub.execute_input": "2025-06-04T15:13:30.194826Z",
     "iopub.status.busy": "2025-06-04T15:13:30.193896Z",
     "iopub.status.idle": "2025-06-04T15:13:30.236055Z",
     "shell.execute_reply": "2025-06-04T15:13:30.234642Z",
     "shell.execute_reply.started": "2025-06-04T15:13:30.194780Z"
    }
   },
   "outputs": [
    {
     "name": "stderr",
     "output_type": "stream",
     "text": [
      "25/06/04 17:28:30 WARN SimpleFunctionRegistry: The function date_diff replaced a previously registered function.\n"
     ]
    }
   ],
   "source": [
    "from pathling import PathlingContext, Expression as exp\n",
    "from pyspark.sql import SparkSession\n",
    "\n",
    "spark = (\n",
    "    SparkSession.builder.config(\n",
    "        \"spark.jars.packages\",\n",
    "        \"au.csiro.pathling:library-runtime:6.4.2,\"\n",
    "        \"io.delta:delta-core_2.12:2.4.0,\"\n",
    "        \"org.apache.hadoop:hadoop-aws:3.3.4\",\n",
    "    )\n",
    "    .config(\"spark.sql.extensions\", \"io.delta.sql.DeltaSparkSessionExtension\")\n",
    "    .config(\n",
    "        \"spark.sql.catalog.spark_catalog\",\n",
    "        \"org.apache.spark.sql.delta.catalog.DeltaCatalog\",\n",
    "    )\n",
    "    .config(\n",
    "        \"spark.hadoop.fs.s3a.endpoint\",\n",
    "        \"rook-ceph-rgw-ceph-nvme-object.storage-ceph-nvme.svc\",\n",
    "    )\n",
    "    .config(\"spark.pathling.encoding.enableExtensions\", \"true\")\n",
    "    .config(\"spark.pathling.fhirPath.allowExtensions\", \"true\")\n",
    "    .config(\"spark.hadoop.fs.s3a.connection.ssl.enabled\", \"false\")\n",
    "    .config(\"spark.executor.memory\", \"8g\")\n",
    "    .config(\"spark.driver.memory\", \"10g\")\n",
    "    .config(\"spark.hadoop.fs.s3a.path.style.access\", \"true\")\n",
    "    .config(\"spark.hadoop.fs.s3a.signing-algorithm\", \"S3SignerType\")\n",
    "    .config(\"spark.serializer\", \"org.apache.spark.serializer.KryoSerializer\")\n",
    "    # .config(\"spark.hadoop.fs.s3a.committer.name\", \"magic\")\n",
    "    # .config(\"spark.hadoop.fs.s3a.committer.magic.enabled\", \"true\")\n",
    "    .getOrCreate()\n",
    ")\n",
    "\n",
    "spark.sparkContext.setCheckpointDir(\"/tmp\")\n",
    "\n",
    "pc = PathlingContext.create(spark,\n",
    "                            enable_delta=True,\n",
    "                            enable_extensions=True)\n"
   ]
  },
  {
   "cell_type": "code",
   "execution_count": 32,
   "id": "2d884aaf-f281-4831-8fda-af369daadb85",
   "metadata": {
    "execution": {
     "iopub.execute_input": "2025-06-04T15:13:30.698469Z",
     "iopub.status.busy": "2025-06-04T15:13:30.697837Z",
     "iopub.status.idle": "2025-06-04T15:13:30.705668Z",
     "shell.execute_reply": "2025-06-04T15:13:30.704245Z",
     "shell.execute_reply.started": "2025-06-04T15:13:30.698415Z"
    }
   },
   "outputs": [],
   "source": [
    "from pathling import Expression as exp\n",
    "from pyspark.sql.functions import col, regexp_replace"
   ]
  },
  {
   "cell_type": "code",
   "execution_count": 9,
   "id": "8511c788-e0c5-47cf-bda4-b75038d86075",
   "metadata": {
    "execution": {
     "iopub.execute_input": "2025-06-04T15:13:30.763239Z",
     "iopub.status.busy": "2025-06-04T15:13:30.762898Z",
     "iopub.status.idle": "2025-06-04T15:13:31.999544Z",
     "shell.execute_reply": "2025-06-04T15:13:31.997885Z",
     "shell.execute_reply.started": "2025-06-04T15:13:30.763208Z"
    }
   },
   "outputs": [
    {
     "name": "stderr",
     "output_type": "stream",
     "text": [
      "                                                                                \r"
     ]
    }
   ],
   "source": [
    "### Load Patient Data\n",
    "# Wir laden die einzelnen FHIR-Bundles in eine Pathling data source\n",
    "\n",
    "# !!Vorher müssen die json-Files in den Ordner data/ hier in die Laufzeit hochgeladen werden!!\n",
    "# TO DO: curl repo and download images here\n",
    "\n",
    "data = pc.read.bundles(\n",
    "    \"./data\", [\"Patient\", \"Condition\", \"Observation\", \"Procedure\"]\n",
    ")"
   ]
  },
  {
   "cell_type": "code",
   "execution_count": 10,
   "id": "a7abc06b-10a8-4550-bcf8-85439b7a1eed",
   "metadata": {
    "execution": {
     "iopub.execute_input": "2025-06-04T15:13:32.002806Z",
     "iopub.status.busy": "2025-06-04T15:13:32.002249Z",
     "iopub.status.idle": "2025-06-04T15:13:32.009376Z",
     "shell.execute_reply": "2025-06-04T15:13:32.008418Z",
     "shell.execute_reply.started": "2025-06-04T15:13:32.002753Z"
    }
   },
   "outputs": [
    {
     "data": {
      "text/plain": [
       "<pathling.datasource.DataSource at 0x7347c8d30f90>"
      ]
     },
     "execution_count": 10,
     "metadata": {},
     "output_type": "execute_result"
    }
   ],
   "source": [
    "data"
   ]
  },
  {
   "cell_type": "markdown",
   "id": "4c07e9d5-4a49-4144-a1e3-37a0820f493e",
   "metadata": {},
   "source": [
    "_______________________________________________________________________"
   ]
  },
  {
   "cell_type": "markdown",
   "id": "781897be-b1af-428b-a036-c2cae5f1c703",
   "metadata": {},
   "source": [
    "# MII Resourcen - Erweiterungsmodul Onkologie\n",
    "## Implementation Guide\n",
    "https://simplifier.net/guide/mii-ig-modul-onkologie-2024-de/MIIIGModulOnkologie?version=current"
   ]
  },
  {
   "cell_type": "markdown",
   "id": "67a50695-b1e7-4c60-a670-7f3754848b5e",
   "metadata": {},
   "source": [
    "# THEMEN:\n",
    "## 1. Extract\n",
    "## 2. Combining Resource Types\n",
    "### 2.1 Join \n",
    "### 2.2 Resolve \n",
    "### 2.3 ReverseResolve\n",
    "________________________________________________________________________"
   ]
  },
  {
   "cell_type": "markdown",
   "id": "12e68dc2-c2df-4c96-af4c-391564e165ae",
   "metadata": {},
   "source": [
    "# 1. Extract"
   ]
  },
  {
   "cell_type": "markdown",
   "id": "d61e7b40-a051-494b-bbbc-b663f87d45fd",
   "metadata": {},
   "source": [
    "## PATIENT -- RESOURCENTYP: PATIENT\n",
    "https://www.medizininformatik-initiative.de/Kerndatensatz/Modul_Person_Version_2/MIIIGModulPerson-TechnischeImplementierung-FHIR-Profile-PseudonymisiertePatientinPatient.html "
   ]
  },
  {
   "cell_type": "code",
   "execution_count": 11,
   "id": "d24e2385-d2dd-4be3-a2aa-10b3b1ae3732",
   "metadata": {
    "execution": {
     "iopub.execute_input": "2025-06-04T15:15:31.709830Z",
     "iopub.status.busy": "2025-06-04T15:15:31.709550Z",
     "iopub.status.idle": "2025-06-04T15:15:34.784578Z",
     "shell.execute_reply": "2025-06-04T15:15:34.783058Z",
     "shell.execute_reply.started": "2025-06-04T15:15:31.709801Z"
    }
   },
   "outputs": [
    {
     "name": "stderr",
     "output_type": "stream",
     "text": [
      "25/06/04 17:30:03 WARN SparkStringUtils: Truncated the string representation of a plan since it was too large. This behavior can be adjusted by setting 'spark.sql.debug.maxToStringFields'.\n",
      "                                                                                \r"
     ]
    },
    {
     "name": "stdout",
     "output_type": "stream",
     "text": [
      "72\n"
     ]
    }
   ],
   "source": [
    "### Extract Patient Data\n",
    "\n",
    "# Wir nutzen `extract`, um nur den Resourcentyp Patient aus der Pathling datasource zu extrahieren und in einen Pyspark Dataframe zu laden\n",
    "# mithilfe von FHIR Path Ausdrücken können wir in Arrays verschachtelte FHIR Elemente \"ausklappen\" und als Spalte darstellen\n",
    "# exp(\"<FHIR Path Ausdruck>\", \"<Spaltenname>\")\n",
    "\n",
    "# Dabei extrahieren wir:\n",
    "# - die einmalige FHIR Resource ID für jede Patientenresource\n",
    "# - die pseudonymisierte Patienten-ID\n",
    "# - das Geschlecht\n",
    "# - das Geburtsdatum\n",
    "# - das Sterbedatum\n",
    "\n",
    "patients = data.extract(\n",
    "    \"Patient\",\n",
    "    columns=[\n",
    "        exp(\"id\", \"patient_resource_id\"),\n",
    "        exp(\"identifier.value\", \"patid_pseudonym\"),\n",
    "        exp(\"gender\", \"gender\"),\n",
    "        exp(\"birthDate\", \"birth_date\"),\n",
    "        exp(\"deceasedDateTime\", \"deceased_datetime\"),\n",
    "    ],\n",
    ")\n",
    "\n",
    "# da die extract Funktion relativ resourcenintensiv werden kann in Abhängigkeit der Datenmenge, und da Spark \"lazy\" agiert, lohnt es sich hier Spark Checkpoint einzusetzen\n",
    "# \"lazy\" bedeutet, dass Spark alle Befehle in einer To Do Liste sammelt und erst nach einer \"Action\" ausführt.\n",
    "# Außerdem speichert Spark keinen materialisierten Zwischenstand des dataframes, wenn man das nicht ausdrücklich verlangt\n",
    "# mithilfe des Checkpoints können wir einen solchen Zwischenstand des dataframes zwischenspeichern und verhindern somit, dass Spark dieselben Schritte immer wieder ausführt\n",
    "# das \"count\" brauchen wir hier als Action, damit auch der checkpoint sofort ausgeführt wird und nicht aufgrund der \"laziness\" in die To Do Liste wandert\n",
    "# mithilfe von spark.sparkContext.setCheckpointDir() können wir den Speicherort der Checkpoints festlegen\n",
    "\n",
    "patients = patients.checkpoint(eager=True)\n",
    "patients_count = patients.count() # enforce checkpoint\n",
    "\n",
    "print(patients_count)"
   ]
  },
  {
   "cell_type": "code",
   "execution_count": 16,
   "id": "878ed3d5-23db-456a-bc40-369b02f0cdaa",
   "metadata": {
    "execution": {
     "iopub.execute_input": "2025-06-04T15:15:34.787558Z",
     "iopub.status.busy": "2025-06-04T15:15:34.786415Z",
     "iopub.status.idle": "2025-06-04T15:15:34.831527Z",
     "shell.execute_reply": "2025-06-04T15:15:34.830257Z",
     "shell.execute_reply.started": "2025-06-04T15:15:34.787506Z"
    }
   },
   "outputs": [
    {
     "name": "stdout",
     "output_type": "stream",
     "text": [
      "+-------------------+----------------+------+----------+-----------------+\n",
      "|patient_resource_id| patid_pseudonym|gender|birth_date|deceased_datetime|\n",
      "+-------------------+----------------+------+----------+-----------------+\n",
      "|   ab0f1ed341372001|2b652c00c32a7f23|  male|1965-07-29|             NULL|\n",
      "|   5cc1af2309e29e00|ed9dc76fe9f770f2|  male|1955-11-23|             NULL|\n",
      "|   e33a2618c6e1a606|0475687e595c4b7b|female|1954-10-13|             NULL|\n",
      "|   befae30c74019b1c|e6453cef780335f7|  male|1955-12-28|             NULL|\n",
      "|   437e8f9eae081c75|fc10ae29d9fa0a14|  male|1948-04-06|             NULL|\n",
      "|   cc2d75349812f146|03dce5400ee975cd|  male|1939-01-26|             NULL|\n",
      "|   4f7b657ae62cb1f0|e585243ed4c6ba5b|female|1943-11-05|             NULL|\n",
      "|   9a79159bda44a2de|7c0adc238acd5789|  male|1993-01-19|             NULL|\n",
      "|   8e10679922d50f99|525435898cd242fd|  male|1954-02-04|             NULL|\n",
      "|   1e2fd734cf35cf44|c407872dea98a2b9|  male|1949-11-15|             NULL|\n",
      "|   68a0e992e0d91698|265576fcb9672764|  male|1958-02-26|             NULL|\n",
      "|   3698207ddd269247|033959a00c40ffb4|female|1971-10-30|             NULL|\n",
      "|   b232a510b3cbd410|0edf6e1e8ad3e607|female|1966-07-19|             NULL|\n",
      "|   3b2f3fa2e95230cd|d11500d025918563|  male|1972-08-18|             NULL|\n",
      "|   1f397d69496919fc|a2d3e71c34993a0b|  male|1991-08-11|             NULL|\n",
      "|   d85cf173277cf6fc|7642512ad6451717|female|1949-05-23|             NULL|\n",
      "|   1a29351020e186a6|ae54708e21efe7ba|  male|1946-08-04|             NULL|\n",
      "|   6be5fcae3308a468|a2f2aefd463efaba|female|1969-04-22|             NULL|\n",
      "|   3875fc2637316141|74f005020d523886|female|2003-09-14|             NULL|\n",
      "|   7bd4e4bef7525055|2fd13c28ea85341f|female|1974-10-25|             NULL|\n",
      "|   64ffc8f6e2a04bf5|1f8367d0b53064c2|  male|1940-06-22|       2024-04-16|\n",
      "|   07ec02b49e0b7aba|02024496e0b0bbd0|  male|1952-07-26|             NULL|\n",
      "|   ce38bdeb6979b366|fd59faa459aa1b58|female|2006-03-11|             NULL|\n",
      "|   69644926a2875823|8988ec5db74e3446|female|1949-12-13|             NULL|\n",
      "|   0a5f3ad16294b73a|faa462f05466be4d|  male|1954-08-21|             NULL|\n",
      "|   ba3253fe6ca96286|ad09e0030f7313f6|  male|1947-09-06|             NULL|\n",
      "|   f44db4a5131c0ae2|10e14a11759058db|female|1945-06-01|             NULL|\n",
      "|   146b0071371fe6e6|e9a460fd4950bcb0|  male|1974-02-04|             NULL|\n",
      "|   c9a0ff4052f66694|7376eec3bda52c36|  male|1954-09-05|             NULL|\n",
      "|   6b8a354c3efad190|a5f9039dc93a3ec5|  male|1971-11-30|             NULL|\n",
      "|   7f2318f53b459500|af2c6ffe972bd869|female|1970-07-21|             NULL|\n",
      "|   eb49c8cc92207e82|4dfd45ed72c18f56|  male|1954-05-08|             NULL|\n",
      "|   52b7120e3fc05325|b086d01df7325249|  male|1965-06-22|             NULL|\n",
      "|   f3c131b13cbe3216|9028a3386120ec94|  male|1960-01-05|             NULL|\n",
      "|   fec730686892c631|dbff7aa920956fde|  male|1952-07-20|             NULL|\n",
      "|   847d834b896e3a1d|874de26b0fe8d1ec|  male|1970-05-13|             NULL|\n",
      "|   3cda8e94d07a0709|59a13bc638788557|female|1986-10-05|             NULL|\n",
      "|   be346e0fecc66702|c3cb058158b22b69|female|1944-10-11|             NULL|\n",
      "|   e6f48bd3bc9800c8|9c66451b0837e1a8|female|1975-07-08|             NULL|\n",
      "|   9ba79939ecbcae8f|550d43f7d5cc0b99|  male|1952-03-09|       2019-04-09|\n",
      "|   2077049623716fd1|b2720f34b89d9245|female|1940-12-07|             NULL|\n",
      "|   4a58365a0b7626a8|6c361d87cf623ee9|female|1962-10-25|             NULL|\n",
      "|   835107adef733603|88370bc88e2f867e|  male|1977-04-18|             NULL|\n",
      "|   eb9728de512f00ec|15d8e14a10e068b8|female|1958-11-13|             NULL|\n",
      "|   21560e6558e3bce2|5c2b413aa84ba1da|female|1962-11-24|             NULL|\n",
      "|   e6573e3c68ea98f2|690fc95f6e6ac7bb|female|1943-09-12|             NULL|\n",
      "|   e243400fe9c43b79|66114d9620ecd6f3|  male|1981-05-08|             NULL|\n",
      "|   50cbcfff7d06dc25|e0f490515d505599|female|1986-11-04|             NULL|\n",
      "|   486a10dac0d746cd|d7052e8b2a67419f|  male|1976-03-06|             NULL|\n",
      "|   150dcba579b4985d|99f5a1dcf9839f0a|  male|2010-12-16|             NULL|\n",
      "|   ceb53268e9158898|0f069f1f4799b1ca|female|2024-02-04|             NULL|\n",
      "|   d239c43f8031a31f|e84f76477c5b0028|female|1946-12-17|             NULL|\n",
      "|   d519100ec65f8463|8a5f68d4af98aeca|female|1938-03-09|             NULL|\n",
      "|   c8490233e2b2a928|777535caa6d34e27|  male|1970-01-06|             NULL|\n",
      "|   0c5298eb234951b1|012657b165e05913|  male|1965-01-18|             NULL|\n",
      "|   9a80d68214de0bd4|0fe7da3a23578158|female|1946-12-16|             NULL|\n",
      "|   60271b372396f53a|2f4017ec9a0d48c3|female|1954-06-30|       2024-07-25|\n",
      "|   733b6df2aeaaff06|897acc358f405500|female|1935-08-21|       2019-06-25|\n",
      "|   f0307634eb85ac96|e21bddef1c8868d6|female|1946-09-03|             NULL|\n",
      "|   bc2a1febe3171a48|6e10064de82b37de|  male|1973-08-13|             NULL|\n",
      "|   114b17715cd8962f|7a258cbfec3c558c|  male|1948-12-06|       2023-11-10|\n",
      "|   35ead2589e72ad07|54d3b4d0a7737549|  male|1983-12-14|             NULL|\n",
      "|   b90e420a6b680c0d|daea3f56491d7e11|  male|1967-06-27|             NULL|\n",
      "|   61ed44a223187661|bc1a1b4fe47fdb71|  male|1949-04-29|             NULL|\n",
      "|   f7af2b9dcfa04d8c|a61f3e73ee67760a|  male|1995-04-19|             NULL|\n",
      "|   e5c41057a1b66cda|6d85de25529cff53|  male|1939-06-28|             NULL|\n",
      "|   79fa4eb7cadef929|ca363e555351a324|female|1945-01-27|             NULL|\n",
      "|   0fae573b17cb69e5|54656b6bc73b3e67|  male|1957-02-18|             NULL|\n",
      "|   ede861350630aad2|65af284f62167c91|  male|1959-06-02|             NULL|\n",
      "|   71d7ce5bbdf4c09a|3885e9aa7e691af0|female|1991-05-24|             NULL|\n",
      "|   a1d728be37480030|6e98dce2f6665e34|  male|1985-09-20|             NULL|\n",
      "|   4eb565eedf9e2d7c|bb1f1e250eb74db1|  male|1958-07-03|             NULL|\n",
      "+-------------------+----------------+------+----------+-----------------+\n",
      "\n"
     ]
    }
   ],
   "source": [
    "patients.show(72)"
   ]
  },
  {
   "cell_type": "code",
   "execution_count": null,
   "id": "74e20cd6-0989-43c5-94f3-ace7a067dc7c",
   "metadata": {
    "execution": {
     "iopub.execute_input": "2025-06-04T15:11:32.461819Z",
     "iopub.status.busy": "2025-06-04T15:11:32.461587Z",
     "iopub.status.idle": "2025-06-04T15:11:32.572226Z",
     "shell.execute_reply": "2025-06-04T15:11:32.570900Z",
     "shell.execute_reply.started": "2025-06-04T15:11:32.461796Z"
    }
   },
   "outputs": [
    {
     "data": {
      "text/plain": [
       "72"
      ]
     },
     "execution_count": 17,
     "metadata": {},
     "output_type": "execute_result"
    }
   ],
   "source": [
    "# good practice: immer die Gesamtanzahl im Auge behalten\n",
    "# weil: potentiell explosionsartiges Duplizieren\n",
    "# z.B. mit count distinct resource ids --> manchmal kann ein zu ungenau spezifiziertes extract der Arrays dazu führen, dass durch das Aufklappen eines Arrays\n",
    "# mit mehr als einem Element mehrere Zeilen pro Patient (oder Diagnose, etc) erzeugt werden\n",
    "patients.select(\"patient_resource_id\").distinct().count()"
   ]
  },
  {
   "cell_type": "code",
   "execution_count": 18,
   "id": "eeeaf769-eaa3-4343-b7d0-5b112fd0e16b",
   "metadata": {
    "execution": {
     "iopub.execute_input": "2025-06-04T15:11:32.576241Z",
     "iopub.status.busy": "2025-06-04T15:11:32.575645Z",
     "iopub.status.idle": "2025-06-04T15:11:32.673087Z",
     "shell.execute_reply": "2025-06-04T15:11:32.671812Z",
     "shell.execute_reply.started": "2025-06-04T15:11:32.576188Z"
    }
   },
   "outputs": [
    {
     "name": "stdout",
     "output_type": "stream",
     "text": [
      "Verstorben: 5 , lebend: 67\n"
     ]
    }
   ],
   "source": [
    "# Übung: Wieviele Patient*innen unserer Kohorte sind verstorben und wieviele leben noch?\n",
    "\n",
    "## LÖSUNG:\n",
    "verstorben = patients.filter(col(\"deceased_datetime\").isNotNull()).count()\n",
    "lebend = patients.filter(col(\"deceased_datetime\").isNull()).count()\n",
    "\n",
    "print(\"Verstorben:\", verstorben, \", lebend:\", lebend)"
   ]
  },
  {
   "cell_type": "markdown",
   "id": "cf4ae697-dc40-4b42-9e41-ab7e2a514dd4",
   "metadata": {},
   "source": [
    "## PRIMAERDIAGNOSE -- RESOURCENTYP: CONDITION\n",
    "https://simplifier.net/guide/mii-ig-modul-onkologie-2024-de/MIIIGModulOnkologie/TechnischeImplementierung/FHIR-Profile/Diagnose/Diagnose-Condition.page.md?version=current"
   ]
  },
  {
   "cell_type": "code",
   "execution_count": 19,
   "id": "e7c3cfd9-cc4e-426b-b937-886b4911e2e0",
   "metadata": {
    "execution": {
     "iopub.execute_input": "2025-06-04T15:11:32.675306Z",
     "iopub.status.busy": "2025-06-04T15:11:32.674796Z",
     "iopub.status.idle": "2025-06-04T15:11:34.111514Z",
     "shell.execute_reply": "2025-06-04T15:11:34.110154Z",
     "shell.execute_reply.started": "2025-06-04T15:11:32.675257Z"
    }
   },
   "outputs": [
    {
     "name": "stderr",
     "output_type": "stream",
     "text": [
      "                                                                                \r"
     ]
    },
    {
     "name": "stdout",
     "output_type": "stream",
     "text": [
      "72\n"
     ]
    }
   ],
   "source": [
    "# wir extrahieren alle Diagnosen - jede Diagnose hat eine eindeutige ID\n",
    "# wieviele eindeutige Diagnosen haben wir?\n",
    "\n",
    "conditions = data.extract(\"Condition\",\n",
    "                         columns=[\n",
    "                             exp(\"id\", \"condition_resource_id\"),\n",
    "                         ],\n",
    "                                )\n",
    "conditions = conditions.checkpoint(eager=True)\n",
    "conditions_count = conditions.count() # enforce checkpoint\n",
    "\n",
    "print(conditions_count)"
   ]
  },
  {
   "cell_type": "code",
   "execution_count": 20,
   "id": "bbdbd785-64bd-4246-b40f-70b5aaa69d38",
   "metadata": {
    "execution": {
     "iopub.execute_input": "2025-06-04T15:11:34.113799Z",
     "iopub.status.busy": "2025-06-04T15:11:34.113293Z",
     "iopub.status.idle": "2025-06-04T15:11:34.281353Z",
     "shell.execute_reply": "2025-06-04T15:11:34.280212Z",
     "shell.execute_reply.started": "2025-06-04T15:11:34.113749Z"
    }
   },
   "outputs": [
    {
     "data": {
      "text/plain": [
       "72"
      ]
     },
     "execution_count": 20,
     "metadata": {},
     "output_type": "execute_result"
    }
   ],
   "source": [
    "# good practice: count distinct ids\n",
    "conditions.select(\"condition_resource_id\").distinct().count()"
   ]
  },
  {
   "cell_type": "code",
   "execution_count": 21,
   "id": "648d7119-7736-43e7-b9c7-6feacbb40aeb",
   "metadata": {
    "execution": {
     "iopub.execute_input": "2025-06-04T15:11:34.283622Z",
     "iopub.status.busy": "2025-06-04T15:11:34.283108Z",
     "iopub.status.idle": "2025-06-04T15:11:37.248922Z",
     "shell.execute_reply": "2025-06-04T15:11:37.247390Z",
     "shell.execute_reply.started": "2025-06-04T15:11:34.283573Z"
    }
   },
   "outputs": [
    {
     "name": "stderr",
     "output_type": "stream",
     "text": [
      "                                                                                \r"
     ]
    },
    {
     "name": "stdout",
     "output_type": "stream",
     "text": [
      "72\n"
     ]
    }
   ],
   "source": [
    "conditions = data.extract(\"Condition\",\n",
    "                        columns=[\n",
    "                            exp(\"id\", \"condition_resource_id\"),\n",
    "                            exp(\"code.coding.where(system = 'http://fhir.de/CodeSystem/bfarm/icd-10-gm').code\", \"icd10_code\"),\n",
    "                        ],\n",
    "                    )\n",
    "\n",
    "conditions = conditions.checkpoint(eager=True)\n",
    "conditions_count = conditions.count() # enforce checkpoint\n",
    "\n",
    "print(conditions_count)"
   ]
  },
  {
   "cell_type": "code",
   "execution_count": 22,
   "id": "81b17138-d686-4dac-9678-fdedd2cc9ae8",
   "metadata": {
    "execution": {
     "iopub.execute_input": "2025-06-04T15:11:37.251369Z",
     "iopub.status.busy": "2025-06-04T15:11:37.250740Z",
     "iopub.status.idle": "2025-06-04T15:11:41.178130Z",
     "shell.execute_reply": "2025-06-04T15:11:41.176746Z",
     "shell.execute_reply.started": "2025-06-04T15:11:37.251322Z"
    }
   },
   "outputs": [
    {
     "name": "stderr",
     "output_type": "stream",
     "text": [
      "                                                                                \r"
     ]
    },
    {
     "name": "stdout",
     "output_type": "stream",
     "text": [
      "72\n"
     ]
    }
   ],
   "source": [
    "# oder filter\n",
    "conditions = data.extract(\"Condition\",\n",
    "                        columns=[\n",
    "                            exp(\"id\", \"condition_resource_id\"),\n",
    "                            exp(\"code.coding.where(system = 'http://fhir.de/CodeSystem/bfarm/icd-10-gm').code.first()\", \"icd10_code\"),\n",
    "                        ],\n",
    "                        filters=[\n",
    "                            \"code.coding.where(system = 'http://fhir.de/CodeSystem/bfarm/icd-10-gm').exists()\"\n",
    "                        ]\n",
    "                    )\n",
    "\n",
    "conditions = conditions.checkpoint(eager=True)\n",
    "conditions_count = conditions.count() # enforce checkpoint\n",
    "\n",
    "print(conditions_count)"
   ]
  },
  {
   "cell_type": "code",
   "execution_count": 44,
   "id": "7ba1e24c-bc27-4918-abbb-9f5eecc1fc2a",
   "metadata": {
    "execution": {
     "iopub.execute_input": "2025-06-04T15:11:41.179913Z",
     "iopub.status.busy": "2025-06-04T15:11:41.179499Z",
     "iopub.status.idle": "2025-06-04T15:11:47.252315Z",
     "shell.execute_reply": "2025-06-04T15:11:47.251238Z",
     "shell.execute_reply.started": "2025-06-04T15:11:41.179875Z"
    }
   },
   "outputs": [
    {
     "name": "stderr",
     "output_type": "stream",
     "text": [
      "                                                                                \r"
     ]
    },
    {
     "name": "stdout",
     "output_type": "stream",
     "text": [
      "falscher count:  144\n"
     ]
    }
   ],
   "source": [
    "# die duplikation entsteht erst wenn extension auf condition ebene hinzukommt zum\n",
    "# framework macht intern einen cross join\n",
    "conditions = data.extract(\"Condition\",\n",
    "                        columns=[\n",
    "                            exp(\"id\", \"condition_resource_id\"),\n",
    "                            exp(\"code.coding.where(system = 'http://fhir.de/CodeSystem/bfarm/icd-10-gm').code\", \"icd10_code\"), # kardinalität 0...1\n",
    "                            exp(\"extension('http://hl7.org/fhir/StructureDefinition/condition-assertedDate').valueDateTime\", \"date_diagnosis\"), # kardinalität 1..1\n",
    "                        ],\n",
    "                        filters=[\n",
    "                            \"code.coding.where(system = 'http://fhir.de/CodeSystem/bfarm/icd-10-gm').exists()\",\n",
    "                            # nicht gut - es gibt welche ohne datum\n",
    "                            #\"extension('http://hl7.org/fhir/StructureDefinition/condition-assertedDate').valueDateTime.exists()\" # ersetzt leider nicht das first()\n",
    "                        ]\n",
    "                    )\n",
    "\n",
    "conditions = conditions.checkpoint(eager=True)\n",
    "conditions_count = conditions.count() # enforce checkpoint\n",
    "\n",
    "print(\"falscher count: \", conditions_count)"
   ]
  },
  {
   "cell_type": "code",
   "execution_count": 45,
   "id": "f7f73f4b-a38c-4a8d-ad4e-a2127766b019",
   "metadata": {
    "execution": {
     "iopub.execute_input": "2025-06-04T15:11:47.255745Z",
     "iopub.status.busy": "2025-06-04T15:11:47.255403Z",
     "iopub.status.idle": "2025-06-04T15:11:47.357263Z",
     "shell.execute_reply": "2025-06-04T15:11:47.356180Z",
     "shell.execute_reply.started": "2025-06-04T15:11:47.255693Z"
    }
   },
   "outputs": [
    {
     "data": {
      "text/plain": [
       "72"
      ]
     },
     "execution_count": 45,
     "metadata": {},
     "output_type": "execute_result"
    }
   ],
   "source": [
    "conditions.select(\"condition_resource_id\").distinct().count()"
   ]
  },
  {
   "cell_type": "code",
   "execution_count": 46,
   "id": "70644063-53eb-404e-a1dd-dc05c998e3e0",
   "metadata": {
    "execution": {
     "iopub.execute_input": "2025-06-04T15:11:47.358924Z",
     "iopub.status.busy": "2025-06-04T15:11:47.358573Z",
     "iopub.status.idle": "2025-06-04T15:11:47.397393Z",
     "shell.execute_reply": "2025-06-04T15:11:47.396124Z",
     "shell.execute_reply.started": "2025-06-04T15:11:47.358890Z"
    }
   },
   "outputs": [
    {
     "name": "stdout",
     "output_type": "stream",
     "text": [
      "+---------------------+----------+--------------+\n",
      "|condition_resource_id|icd10_code|date_diagnosis|\n",
      "+---------------------+----------+--------------+\n",
      "|     6b612dd173fa5544|     C18.0|    2023-08-20|\n",
      "|     6b612dd173fa5544|     C18.0|          NULL|\n",
      "|     d80a996d35bb0d68|     C18.2|    2024-06-19|\n",
      "|     d80a996d35bb0d68|     C18.2|          NULL|\n",
      "|     e72e5f5440a7ffc5|     C25.0|    2022-07-06|\n",
      "|     e72e5f5440a7ffc5|     C25.0|          NULL|\n",
      "|     f4fe8697f1dff2db|     C25.0|    2023-08-08|\n",
      "|     f4fe8697f1dff2db|     C25.0|          NULL|\n",
      "|     6961f769aab1b8cd|     C15.5|    2022-11-09|\n",
      "|     6961f769aab1b8cd|     C15.5|          NULL|\n",
      "|     08405c94eb7dc213|     C15.9|    2023-11-24|\n",
      "|     08405c94eb7dc213|     C15.9|          NULL|\n",
      "|     96fe81bd47dd30e1|     C25.0|    2018-01-23|\n",
      "|     96fe81bd47dd30e1|     C25.0|          NULL|\n",
      "|     bba49ef6a65e1746|     C25.1|    2023-10-06|\n",
      "|     bba49ef6a65e1746|     C25.1|          NULL|\n",
      "|     b6d5a69ce456abf0|     C15.5|    2024-05-13|\n",
      "|     b6d5a69ce456abf0|     C15.5|          NULL|\n",
      "|     8a67aa6b1dec51d2|     C18.4|    2024-07-26|\n",
      "|     8a67aa6b1dec51d2|     C18.4|          NULL|\n",
      "+---------------------+----------+--------------+\n",
      "only showing top 20 rows\n",
      "\n"
     ]
    }
   ],
   "source": [
    "conditions.show()"
   ]
  },
  {
   "cell_type": "code",
   "execution_count": 26,
   "id": "4bcf36e6-c19d-40af-994b-28a52e3a3e98",
   "metadata": {
    "execution": {
     "iopub.execute_input": "2025-06-04T15:11:47.399986Z",
     "iopub.status.busy": "2025-06-04T15:11:47.399126Z",
     "iopub.status.idle": "2025-06-04T15:11:53.164736Z",
     "shell.execute_reply": "2025-06-04T15:11:53.163460Z",
     "shell.execute_reply.started": "2025-06-04T15:11:47.399936Z"
    }
   },
   "outputs": [
    {
     "name": "stderr",
     "output_type": "stream",
     "text": [
      "                                                                                \r"
     ]
    },
    {
     "name": "stdout",
     "output_type": "stream",
     "text": [
      "72\n"
     ]
    }
   ],
   "source": [
    "# wir brauchen da ein first wo wir sicher sind, dass es nur einmal vorkommen kann\n",
    "conditions = data.extract(\"Condition\",\n",
    "                        columns=[\n",
    "                            exp(\"id\", \"condition_resource_id\"),\n",
    "                            exp(\"code.coding.where(system = 'http://fhir.de/CodeSystem/bfarm/icd-10-gm').code.first()\", \"icd10_code\"), # kardinalität 0...1\n",
    "                            exp(\"extension('http://hl7.org/fhir/StructureDefinition/condition-assertedDate').valueDateTime.first()\", \"date_diagnosis\"), # kardinalität 1..1\n",
    "                            exp(\"recordedDate\", \"recorded_date\"),\n",
    "                        ],\n",
    "                        filters=[\n",
    "                            \"code.coding.where(system = 'http://fhir.de/CodeSystem/bfarm/icd-10-gm').exists()\",\n",
    "                            # nicht gut - es gibt welche ohne datum\n",
    "                            #\"extension('http://hl7.org/fhir/StructureDefinition/condition-assertedDate').valueDateTime.exists()\" # ersetzt leider nicht das first()\n",
    "                        ]\n",
    "                    )\n",
    "\n",
    "conditions = conditions.checkpoint(eager=True)\n",
    "conditions_count = conditions.count() # enforce checkpoint\n",
    "\n",
    "print(conditions_count)"
   ]
  },
  {
   "cell_type": "code",
   "execution_count": 27,
   "id": "fa00ef5f-ba15-4e7b-ac62-183d5ad0fb1a",
   "metadata": {
    "execution": {
     "iopub.execute_input": "2025-06-04T15:11:53.166121Z",
     "iopub.status.busy": "2025-06-04T15:11:53.165868Z",
     "iopub.status.idle": "2025-06-04T15:11:53.203612Z",
     "shell.execute_reply": "2025-06-04T15:11:53.202705Z",
     "shell.execute_reply.started": "2025-06-04T15:11:53.166098Z"
    }
   },
   "outputs": [
    {
     "name": "stdout",
     "output_type": "stream",
     "text": [
      "+---------------------+----------+--------------+-------------+\n",
      "|condition_resource_id|icd10_code|date_diagnosis|recorded_date|\n",
      "+---------------------+----------+--------------+-------------+\n",
      "|     051e5a0e019c30ce|     C18.3|    2024-03-04|   2025-01-26|\n",
      "|     07d2b410e5cfbe5f|     C15.4|    2024-09-28|   2024-11-02|\n",
      "|     08405c94eb7dc213|     C15.9|    2023-11-24|   2024-08-03|\n",
      "|     08e306e6917943c2|     C15.4|    2024-02-29|   2024-08-17|\n",
      "|     09fc5566cf6f17ad|     C18.0|    2024-04-23|   2024-08-03|\n",
      "|     0c9a439a485d1cfa|     C15.5|    2023-04-21|   2024-10-27|\n",
      "|     0f8531c4327ebbd2|     C18.7|    2024-06-21|   2024-09-02|\n",
      "|     15c02d0d9eb2c08c|     C71.0|    2024-01-05|   2024-12-21|\n",
      "|     1d3fcafbde7a3d24|     C18.0|    2024-08-15|   2024-08-15|\n",
      "|     1ee93bb69d5a0f4f|     C71.5|    2024-07-16|   2024-09-21|\n",
      "|     1f080c26891c70a0|     C18.0|    2023-02-11|   2024-09-03|\n",
      "|     237e4fb6ac5a7cc7|     C18.1|    2021-09-25|   2024-08-22|\n",
      "|     24024157215224ee|     C15.4|    2023-03-28|   2024-10-05|\n",
      "|     247b1136711dfde0|     C25.0|    2024-03-04|   2024-11-04|\n",
      "|     252eb9211bc1b339|     C71.2|    2024-07-14|   2024-09-02|\n",
      "|     2f3efa62ead346da|     C15.5|    2024-01-25|   2024-08-26|\n",
      "|     3a3c465876a7d36a|     C18.7|    2022-11-06|   2024-09-14|\n",
      "|     3c3a5386810aaab1|     C18.1|    2023-09-30|   2024-12-10|\n",
      "|     436924e03db67321|     C71.0|    2022-10-15|   2024-10-02|\n",
      "|     48ca83204ae98070|     C71.0|    2024-06-27|   2024-09-21|\n",
      "|     49329497d8d7dcaf|     C18.7|    2024-02-05|   2024-10-07|\n",
      "|     4dfca46eee8bf85a|     C71.1|    2024-10-26|   2024-10-26|\n",
      "|     4e8432e66cce4dc4|     C25.0|    2024-09-01|   2024-10-14|\n",
      "|     4f44642223b63313|     C25.2|    2024-08-05|   2024-08-30|\n",
      "|     4fe3498d8bf2bb2a|     C18.7|    2024-05-25|   2024-10-18|\n",
      "|     5059218f572675d0|     C71.1|    2017-04-10|   2024-08-21|\n",
      "|     528daf4eac7f9417|     C25.0|    2023-09-27|   2024-08-18|\n",
      "|     52e5f2fc38f09bba|     C18.0|    2023-07-04|   2024-11-06|\n",
      "|     565abdf49ab9aaba|     C25.0|    2024-11-07|   2024-11-07|\n",
      "|     56adb4a0596cae74|     D43.0|    2024-02-18|   2025-02-14|\n",
      "|     571773d4034c369f|     C25.1|    2023-09-20|   2024-11-14|\n",
      "|     5927a5135224b9f5|     C18.7|    2023-10-30|   2024-11-10|\n",
      "|     6148a24578f6f103|     D43.0|    2024-04-30|   2024-08-11|\n",
      "|     6961f769aab1b8cd|     C15.5|    2022-11-09|   2025-02-26|\n",
      "|     6b612dd173fa5544|     C18.0|    2023-08-20|   2024-08-31|\n",
      "|     72317c2425bbd3c8|     C15.5|    2024-07-12|   2024-09-06|\n",
      "|     73505c829dd099ce|     C71.2|    2024-02-16|   2024-11-05|\n",
      "|     7daeb8ab9cae0e2f|     C15.3|    2020-12-08|   2024-09-25|\n",
      "|     82da6b89245f030a|     C15.9|    2024-06-05|   2024-10-17|\n",
      "|     8402e695ed6f7d9c|     C25.1|    2024-08-07|   2024-08-07|\n",
      "|     87aa2f5d383d7318|     C18.2|    2017-04-16|   2025-02-10|\n",
      "|     8a67aa6b1dec51d2|     C18.4|    2024-07-26|   2024-09-07|\n",
      "|     8a7f134a200e57c1|     C25.1|    2024-02-18|   2024-09-01|\n",
      "|     8ccbaa3540124618|     D33.1|    2022-07-28|   2024-09-29|\n",
      "|     8e4403f0e2266032|     C15.3|    2024-09-25|   2024-10-03|\n",
      "|     92737702ea38a24c|     C25.2|    2019-05-27|   2024-07-29|\n",
      "|     957487f073a075ed|     D43.1|    2024-03-03|   2024-10-31|\n",
      "|     96fe81bd47dd30e1|     C25.0|    2018-01-23|   2024-11-03|\n",
      "|     a7baeaf0a68696a8|     C71.1|    2018-08-14|   2025-02-05|\n",
      "|     ad4a8e34fb4cccde|     C71.1|    2020-03-12|   2024-10-04|\n",
      "|     ade47167ff1dfdf3|     C25.0|    2024-08-22|   2024-10-15|\n",
      "|     af30c3406cd4ac00|     C18.4|    2023-12-28|   2025-03-19|\n",
      "|     afc792bfaea32585|     C25.0|    2022-12-25|   2024-11-06|\n",
      "|     b28d21fb5d6a4bc8|     C25.0|    2019-03-07|   2024-08-29|\n",
      "|     b37c6ee00044545c|     C25.2|    2024-03-24|   2024-08-03|\n",
      "|     b6d5a69ce456abf0|     C15.5|    2024-05-13|   2024-11-10|\n",
      "|     bba49ef6a65e1746|     C25.1|    2023-10-06|   2025-01-17|\n",
      "|     c4611d5632d12a16|     C25.1|    2024-05-07|   2024-09-01|\n",
      "|     c4d249f2c7ddcf59|     C15.5|    2021-05-25|   2024-08-04|\n",
      "|     c60ec4a699edda3f|     C71.0|    2021-12-09|   2024-08-07|\n",
      "|     d02c0fbc3f94faaa|     C71.2|    2024-03-10|   2024-08-09|\n",
      "|     d78ce50d3ac3e826|     C15.5|    2023-10-30|   2025-02-10|\n",
      "|     d80a996d35bb0d68|     C18.2|    2024-06-19|   2024-10-15|\n",
      "|     e2152a349b25f742|     C25.1|    2024-03-15|   2024-09-20|\n",
      "|     e47e46e3a930f622|     C71.1|    2021-05-01|   2024-11-17|\n",
      "|     e72e5f5440a7ffc5|     C25.0|    2022-07-06|   2024-09-11|\n",
      "|     eb979b8007788418|     C71.2|    2020-07-14|   2025-02-16|\n",
      "|     ec1575c28af09b0b|     C15.4|    2024-07-05|   2024-10-29|\n",
      "|     f229ad9b04bea62e|     C71.0|    2022-11-03|   2025-01-11|\n",
      "|     f4fe8697f1dff2db|     C25.0|    2023-08-08|   2024-09-25|\n",
      "|     f65c992f02dd6f78|     C15.3|    2023-06-24|   2024-10-16|\n",
      "|     fb5332bc6aac11c5|     C18.8|    2024-11-11|   2024-11-11|\n",
      "+---------------------+----------+--------------+-------------+\n",
      "\n"
     ]
    }
   ],
   "source": [
    "conditions.show(72)"
   ]
  },
  {
   "cell_type": "code",
   "execution_count": 28,
   "id": "0cf2d112-4a80-415a-979f-b2be6db510a8",
   "metadata": {
    "execution": {
     "iopub.execute_input": "2025-06-04T15:11:53.204461Z",
     "iopub.status.busy": "2025-06-04T15:11:53.204273Z",
     "iopub.status.idle": "2025-06-04T15:11:58.446263Z",
     "shell.execute_reply": "2025-06-04T15:11:58.444763Z",
     "shell.execute_reply.started": "2025-06-04T15:11:53.204443Z"
    }
   },
   "outputs": [
    {
     "name": "stderr",
     "output_type": "stream",
     "text": [
      "                                                                                \r"
     ]
    },
    {
     "name": "stdout",
     "output_type": "stream",
     "text": [
      "72\n"
     ]
    }
   ],
   "source": [
    "# Referenz zum Patienten\n",
    "conditions = data.extract(\"Condition\",\n",
    "                        columns=[\n",
    "                            exp(\"id\", \"condition_resource_id\"),\n",
    "                            exp(\"code.coding.where(system = 'http://fhir.de/CodeSystem/bfarm/icd-10-gm').code.first()\", \"icd10_code\"), # kardinalität 0...1\n",
    "                            exp(\"extension('http://hl7.org/fhir/StructureDefinition/condition-assertedDate').valueDateTime.first()\", \"date_diagnosis\"), # kardinalität 1..1\n",
    "                            exp(\"subject.reference\", \"condition_subject_reference\"),\n",
    "                        ],\n",
    "                        filters=[\n",
    "                            \"code.coding.where(system = 'http://fhir.de/CodeSystem/bfarm/icd-10-gm').exists()\"\n",
    "                        ]\n",
    "                    )\n",
    "\n",
    "conditions = conditions.checkpoint(eager=True)\n",
    "conditions_count = conditions.count() # enforce checkpoint\n",
    "\n",
    "print(conditions_count)"
   ]
  },
  {
   "cell_type": "markdown",
   "id": "179f686c",
   "metadata": {},
   "source": [
    "# 2. COMBINING RESOURCE TYPES\n",
    "## 2.1 Join"
   ]
  },
  {
   "cell_type": "code",
   "execution_count": 47,
   "id": "32dcd648",
   "metadata": {},
   "outputs": [],
   "source": [
    "# die Resource Condition hat eine Referenz zur Resource Patient in \"condition_subject_reference\", die der patient_resource_id entspricht\n",
    "# wir können also wie folgt joinen: patients[\"patient_resource_id\"] == conditions[\"condition_subject_reference\"]\n",
    "# vorher müssen wir jedoch noch einen Vorverarbeitungsschritt ausführen - welchen?\n"
   ]
  },
  {
   "cell_type": "code",
   "execution_count": 29,
   "id": "c6080f72-83af-4eef-9b76-fcabaae181ba",
   "metadata": {
    "execution": {
     "iopub.execute_input": "2025-06-04T15:11:58.448414Z",
     "iopub.status.busy": "2025-06-04T15:11:58.447950Z",
     "iopub.status.idle": "2025-06-04T15:11:58.492453Z",
     "shell.execute_reply": "2025-06-04T15:11:58.491386Z",
     "shell.execute_reply.started": "2025-06-04T15:11:58.448369Z"
    }
   },
   "outputs": [
    {
     "name": "stdout",
     "output_type": "stream",
     "text": [
      "+---------------------+----------+--------------+---------------------------+\n",
      "|condition_resource_id|icd10_code|date_diagnosis|condition_subject_reference|\n",
      "+---------------------+----------+--------------+---------------------------+\n",
      "|     051e5a0e019c30ce|     C18.3|    2024-03-04|       Patient/e5c41057a...|\n",
      "|     07d2b410e5cfbe5f|     C15.4|    2024-09-28|       Patient/ab0f1ed34...|\n",
      "|     08405c94eb7dc213|     C15.9|    2023-11-24|       Patient/eb9728de5...|\n",
      "|     08e306e6917943c2|     C15.4|    2024-02-29|       Patient/21560e655...|\n",
      "|     09fc5566cf6f17ad|     C18.0|    2024-04-23|       Patient/0fae573b1...|\n",
      "|     0c9a439a485d1cfa|     C15.5|    2023-04-21|       Patient/61ed44a22...|\n",
      "|     0f8531c4327ebbd2|     C18.7|    2024-06-21|       Patient/b90e420a6...|\n",
      "|     15c02d0d9eb2c08c|     C71.0|    2024-01-05|       Patient/64ffc8f6e...|\n",
      "|     1d3fcafbde7a3d24|     C18.0|    2024-08-15|       Patient/e6f48bd3b...|\n",
      "|     1ee93bb69d5a0f4f|     C71.5|    2024-07-16|       Patient/3875fc263...|\n",
      "|     1f080c26891c70a0|     C18.0|    2023-02-11|       Patient/1a2935102...|\n",
      "|     237e4fb6ac5a7cc7|     C18.1|    2021-09-25|       Patient/7bd4e4bef...|\n",
      "|     24024157215224ee|     C15.4|    2023-03-28|       Patient/35ead2589...|\n",
      "|     247b1136711dfde0|     C25.0|    2024-03-04|       Patient/eb49c8cc9...|\n",
      "|     252eb9211bc1b339|     C71.2|    2024-07-14|       Patient/07ec02b49...|\n",
      "|     2f3efa62ead346da|     C15.5|    2024-01-25|       Patient/1e2fd734c...|\n",
      "|     3a3c465876a7d36a|     C18.7|    2022-11-06|       Patient/ede861350...|\n",
      "|     3c3a5386810aaab1|     C18.1|    2023-09-30|       Patient/3cda8e94d...|\n",
      "|     436924e03db67321|     C71.0|    2022-10-15|       Patient/9a80d6821...|\n",
      "|     48ca83204ae98070|     C71.0|    2024-06-27|       Patient/150dcba57...|\n",
      "+---------------------+----------+--------------+---------------------------+\n",
      "only showing top 20 rows\n",
      "\n"
     ]
    }
   ],
   "source": [
    "conditions.show()"
   ]
  },
  {
   "cell_type": "code",
   "execution_count": 30,
   "id": "e5943f9e-e208-4895-9cef-e406c7ed40d5",
   "metadata": {
    "execution": {
     "iopub.execute_input": "2025-06-04T15:11:58.494798Z",
     "iopub.status.busy": "2025-06-04T15:11:58.493977Z",
     "iopub.status.idle": "2025-06-04T15:11:58.525015Z",
     "shell.execute_reply": "2025-06-04T15:11:58.524158Z",
     "shell.execute_reply.started": "2025-06-04T15:11:58.494748Z"
    }
   },
   "outputs": [
    {
     "name": "stdout",
     "output_type": "stream",
     "text": [
      "+-------------------+----------------+------+----------+-----------------+\n",
      "|patient_resource_id| patid_pseudonym|gender|birth_date|deceased_datetime|\n",
      "+-------------------+----------------+------+----------+-----------------+\n",
      "|   ab0f1ed341372001|2b652c00c32a7f23|  male|1965-07-29|             NULL|\n",
      "|   5cc1af2309e29e00|ed9dc76fe9f770f2|  male|1955-11-23|             NULL|\n",
      "|   e33a2618c6e1a606|0475687e595c4b7b|female|1954-10-13|             NULL|\n",
      "|   befae30c74019b1c|e6453cef780335f7|  male|1955-12-28|             NULL|\n",
      "|   437e8f9eae081c75|fc10ae29d9fa0a14|  male|1948-04-06|             NULL|\n",
      "|   cc2d75349812f146|03dce5400ee975cd|  male|1939-01-26|             NULL|\n",
      "|   4f7b657ae62cb1f0|e585243ed4c6ba5b|female|1943-11-05|             NULL|\n",
      "|   9a79159bda44a2de|7c0adc238acd5789|  male|1993-01-19|             NULL|\n",
      "|   8e10679922d50f99|525435898cd242fd|  male|1954-02-04|             NULL|\n",
      "|   1e2fd734cf35cf44|c407872dea98a2b9|  male|1949-11-15|             NULL|\n",
      "|   68a0e992e0d91698|265576fcb9672764|  male|1958-02-26|             NULL|\n",
      "|   3698207ddd269247|033959a00c40ffb4|female|1971-10-30|             NULL|\n",
      "|   b232a510b3cbd410|0edf6e1e8ad3e607|female|1966-07-19|             NULL|\n",
      "|   3b2f3fa2e95230cd|d11500d025918563|  male|1972-08-18|             NULL|\n",
      "|   1f397d69496919fc|a2d3e71c34993a0b|  male|1991-08-11|             NULL|\n",
      "|   d85cf173277cf6fc|7642512ad6451717|female|1949-05-23|             NULL|\n",
      "|   1a29351020e186a6|ae54708e21efe7ba|  male|1946-08-04|             NULL|\n",
      "|   6be5fcae3308a468|a2f2aefd463efaba|female|1969-04-22|             NULL|\n",
      "|   3875fc2637316141|74f005020d523886|female|2003-09-14|             NULL|\n",
      "|   7bd4e4bef7525055|2fd13c28ea85341f|female|1974-10-25|             NULL|\n",
      "+-------------------+----------------+------+----------+-----------------+\n",
      "only showing top 20 rows\n",
      "\n"
     ]
    }
   ],
   "source": [
    "# Vergleich condition_subject_reference zu patient_resource_id -- wo ist der Unterschied?\n",
    "patients.show()"
   ]
  },
  {
   "cell_type": "code",
   "execution_count": null,
   "id": "06c983b1-c000-4985-80d7-63258b80d608",
   "metadata": {
    "execution": {
     "iopub.execute_input": "2025-06-04T15:11:58.525771Z",
     "iopub.status.busy": "2025-06-04T15:11:58.525595Z",
     "iopub.status.idle": "2025-06-04T15:11:58.791470Z",
     "shell.execute_reply": "2025-06-04T15:11:58.790013Z",
     "shell.execute_reply.started": "2025-06-04T15:11:58.525754Z"
    }
   },
   "outputs": [
    {
     "data": {
      "text/plain": [
       "72"
      ]
     },
     "execution_count": 33,
     "metadata": {},
     "output_type": "execute_result"
    }
   ],
   "source": [
    "# entferne das \"Patient/\" in den Werten der Spalte \"condition_subject_reference\", da dieser Präfix in patient_resource_id auch nicht vorkommt\n",
    "\n",
    "conditions = conditions.withColumn(\n",
    "    \"condition_subject_reference\",\n",
    "    regexp_replace(\"condition_subject_reference\", \"^Patient/\", \"\")\n",
    ")\n",
    "conditions = conditions.checkpoint(eager=True)\n",
    "conditions.count() # enforce checkpoint"
   ]
  },
  {
   "cell_type": "code",
   "execution_count": 34,
   "id": "721a8ca8-96fe-4326-8608-38dfb6e71991",
   "metadata": {
    "execution": {
     "iopub.execute_input": "2025-06-04T15:11:58.793648Z",
     "iopub.status.busy": "2025-06-04T15:11:58.793148Z",
     "iopub.status.idle": "2025-06-04T15:11:58.824307Z",
     "shell.execute_reply": "2025-06-04T15:11:58.823441Z",
     "shell.execute_reply.started": "2025-06-04T15:11:58.793598Z"
    },
    "scrolled": true
   },
   "outputs": [
    {
     "name": "stdout",
     "output_type": "stream",
     "text": [
      "+---------------------+----------+--------------+---------------------------+\n",
      "|condition_resource_id|icd10_code|date_diagnosis|condition_subject_reference|\n",
      "+---------------------+----------+--------------+---------------------------+\n",
      "|     051e5a0e019c30ce|     C18.3|    2024-03-04|           e5c41057a1b66cda|\n",
      "|     07d2b410e5cfbe5f|     C15.4|    2024-09-28|           ab0f1ed341372001|\n",
      "|     08405c94eb7dc213|     C15.9|    2023-11-24|           eb9728de512f00ec|\n",
      "|     08e306e6917943c2|     C15.4|    2024-02-29|           21560e6558e3bce2|\n",
      "|     09fc5566cf6f17ad|     C18.0|    2024-04-23|           0fae573b17cb69e5|\n",
      "|     0c9a439a485d1cfa|     C15.5|    2023-04-21|           61ed44a223187661|\n",
      "|     0f8531c4327ebbd2|     C18.7|    2024-06-21|           b90e420a6b680c0d|\n",
      "|     15c02d0d9eb2c08c|     C71.0|    2024-01-05|           64ffc8f6e2a04bf5|\n",
      "|     1d3fcafbde7a3d24|     C18.0|    2024-08-15|           e6f48bd3bc9800c8|\n",
      "|     1ee93bb69d5a0f4f|     C71.5|    2024-07-16|           3875fc2637316141|\n",
      "|     1f080c26891c70a0|     C18.0|    2023-02-11|           1a29351020e186a6|\n",
      "|     237e4fb6ac5a7cc7|     C18.1|    2021-09-25|           7bd4e4bef7525055|\n",
      "|     24024157215224ee|     C15.4|    2023-03-28|           35ead2589e72ad07|\n",
      "|     247b1136711dfde0|     C25.0|    2024-03-04|           eb49c8cc92207e82|\n",
      "|     252eb9211bc1b339|     C71.2|    2024-07-14|           07ec02b49e0b7aba|\n",
      "|     2f3efa62ead346da|     C15.5|    2024-01-25|           1e2fd734cf35cf44|\n",
      "|     3a3c465876a7d36a|     C18.7|    2022-11-06|           ede861350630aad2|\n",
      "|     3c3a5386810aaab1|     C18.1|    2023-09-30|           3cda8e94d07a0709|\n",
      "|     436924e03db67321|     C71.0|    2022-10-15|           9a80d68214de0bd4|\n",
      "|     48ca83204ae98070|     C71.0|    2024-06-27|           150dcba579b4985d|\n",
      "+---------------------+----------+--------------+---------------------------+\n",
      "only showing top 20 rows\n",
      "\n"
     ]
    }
   ],
   "source": [
    "conditions.show()"
   ]
  },
  {
   "cell_type": "code",
   "execution_count": 35,
   "id": "da348c92-a8c9-4802-9768-4fe1475e04ba",
   "metadata": {
    "execution": {
     "iopub.execute_input": "2025-06-04T15:11:58.825180Z",
     "iopub.status.busy": "2025-06-04T15:11:58.824993Z",
     "iopub.status.idle": "2025-06-04T15:11:59.175447Z",
     "shell.execute_reply": "2025-06-04T15:11:59.174168Z",
     "shell.execute_reply.started": "2025-06-04T15:11:58.825155Z"
    }
   },
   "outputs": [
    {
     "data": {
      "text/plain": [
       "72"
      ]
     },
     "execution_count": 35,
     "metadata": {},
     "output_type": "execute_result"
    }
   ],
   "source": [
    "patients_conditions = patients.alias(\"p\").join(\n",
    "    conditions.alias(\"c\"),\n",
    "    patients[\"patient_resource_id\"] == conditions[\"condition_subject_reference\"],  # Join condition\n",
    "    \"left\"  # Left join\n",
    ").select(\"c.*\", \"p.*\")\n",
    "\n",
    "patients_conditions = patients_conditions.checkpoint(eager=True)\n",
    "patients_conditions_count = patients_conditions.count()\n",
    "patients_conditions_count"
   ]
  },
  {
   "cell_type": "code",
   "execution_count": 36,
   "id": "66c6ee9e-5651-47e9-a2cf-ba9ba8af9fc0",
   "metadata": {
    "execution": {
     "iopub.execute_input": "2025-06-04T15:13:13.736391Z",
     "iopub.status.busy": "2025-06-04T15:13:13.735840Z",
     "iopub.status.idle": "2025-06-04T15:13:13.778182Z",
     "shell.execute_reply": "2025-06-04T15:13:13.776894Z",
     "shell.execute_reply.started": "2025-06-04T15:13:13.736344Z"
    }
   },
   "outputs": [
    {
     "name": "stdout",
     "output_type": "stream",
     "text": [
      "+---------------------+----------+--------------+---------------------------+-------------------+----------------+------+----------+-----------------+\n",
      "|condition_resource_id|icd10_code|date_diagnosis|condition_subject_reference|patient_resource_id| patid_pseudonym|gender|birth_date|deceased_datetime|\n",
      "+---------------------+----------+--------------+---------------------------+-------------------+----------------+------+----------+-----------------+\n",
      "|     0c9a439a485d1cfa|     C15.5|    2023-04-21|           61ed44a223187661|   61ed44a223187661|bc1a1b4fe47fdb71|  male|1949-04-29|             NULL|\n",
      "|     051e5a0e019c30ce|     C18.3|    2024-03-04|           e5c41057a1b66cda|   e5c41057a1b66cda|6d85de25529cff53|  male|1939-06-28|             NULL|\n",
      "+---------------------+----------+--------------+---------------------------+-------------------+----------------+------+----------+-----------------+\n",
      "only showing top 2 rows\n",
      "\n"
     ]
    }
   ],
   "source": [
    "patients_conditions.show(2)"
   ]
  },
  {
   "cell_type": "markdown",
   "id": "1100703a-39a5-470a-84db-9544b9f021a0",
   "metadata": {},
   "source": [
    "## 2.2 Resolve"
   ]
  },
  {
   "cell_type": "code",
   "execution_count": 37,
   "id": "aa2c0818-6ebb-4382-affc-6da3a65f2075",
   "metadata": {
    "execution": {
     "iopub.execute_input": "2025-06-04T14:49:19.848975Z",
     "iopub.status.busy": "2025-06-04T14:49:19.848347Z",
     "iopub.status.idle": "2025-06-04T14:49:34.414833Z",
     "shell.execute_reply": "2025-06-04T14:49:34.413418Z",
     "shell.execute_reply.started": "2025-06-04T14:49:19.848921Z"
    }
   },
   "outputs": [
    {
     "name": "stderr",
     "output_type": "stream",
     "text": [
      "                                                                                \r"
     ]
    },
    {
     "data": {
      "text/plain": [
       "72"
      ]
     },
     "execution_count": 37,
     "metadata": {},
     "output_type": "execute_result"
    }
   ],
   "source": [
    "# deutlich schlankere Alternative zu zwei einzelnen extracts von patients und conditions und join\n",
    "# resolve löst Referenz auf\n",
    "\n",
    "conditions_patients_resolve = data.extract(\"Condition\",\n",
    "                         columns=[\n",
    "                             exp(\"id\", \"condition_resource_id\"),\n",
    "                             exp(\"code.coding.where(system = 'http://fhir.de/CodeSystem/bfarm/icd-10-gm').code.first()\", \"icd10_code\"), # kardinalität 0...1\n",
    "                             exp(\"extension('http://hl7.org/fhir/StructureDefinition/condition-assertedDate').valueDateTime.first()\", \"date_diagnosis\"), # kardinalität 1..1\n",
    "                             exp(\"subject.reference\", \"condition_subject_reference\"),\n",
    "\n",
    "                             exp(\"subject.resolve().ofType(Patient).id\", \"patient_resource_id\"),\n",
    "                             exp(\"subject.resolve().ofType(Patient).identifier.value\", \"patid_pseudonym\"),\n",
    "                             exp(\"subject.resolve().ofType(Patient).birthDate\", \"birth_date\"),\n",
    "                             exp(\"subject.resolve().ofType(Patient).gender\", \"gender\"),\n",
    "                             exp(\"subject.resolve().ofType(Patient).deceasedDateTime\", \"deceased_datetime\"),\n",
    "                         ],\n",
    "                        filters=[\n",
    "                            \"code.coding.where(system = 'http://fhir.de/CodeSystem/bfarm/icd-10-gm').exists()\"\n",
    "                        ]\n",
    "                                )\n",
    "conditions_patients_resolve = conditions_patients_resolve.checkpoint(eager=True)\n",
    "conditions_patients_resolve_count = conditions_patients_resolve.count()\n",
    "conditions_patients_resolve_count"
   ]
  },
  {
   "cell_type": "code",
   "execution_count": 38,
   "id": "9dd171bb-9c28-4011-9a0e-fddec7978fb1",
   "metadata": {
    "execution": {
     "iopub.execute_input": "2025-06-04T14:49:34.416858Z",
     "iopub.status.busy": "2025-06-04T14:49:34.416651Z",
     "iopub.status.idle": "2025-06-04T14:49:34.448378Z",
     "shell.execute_reply": "2025-06-04T14:49:34.447603Z",
     "shell.execute_reply.started": "2025-06-04T14:49:34.416838Z"
    }
   },
   "outputs": [
    {
     "name": "stdout",
     "output_type": "stream",
     "text": [
      "+---------------------+----------+--------------+---------------------------+-------------------+----------------+----------+------+-----------------+\n",
      "|condition_resource_id|icd10_code|date_diagnosis|condition_subject_reference|patient_resource_id| patid_pseudonym|birth_date|gender|deceased_datetime|\n",
      "+---------------------+----------+--------------+---------------------------+-------------------+----------------+----------+------+-----------------+\n",
      "|     b28d21fb5d6a4bc8|     C25.0|    2019-03-07|       Patient/733b6df2a...|   733b6df2aeaaff06|897acc358f405500|1935-08-21|female|       2019-06-25|\n",
      "|     6b612dd173fa5544|     C18.0|    2023-08-20|       Patient/60271b372...|   60271b372396f53a|2f4017ec9a0d48c3|1954-06-30|female|       2024-07-25|\n",
      "|     e72e5f5440a7ffc5|     C25.0|    2022-07-06|       Patient/114b17715...|   114b17715cd8962f|7a258cbfec3c558c|1948-12-06|  male|       2023-11-10|\n",
      "|     96fe81bd47dd30e1|     C25.0|    2018-01-23|       Patient/9ba79939e...|   9ba79939ecbcae8f|550d43f7d5cc0b99|1952-03-09|  male|       2019-04-09|\n",
      "|     15c02d0d9eb2c08c|     C71.0|    2024-01-05|       Patient/64ffc8f6e...|   64ffc8f6e2a04bf5|1f8367d0b53064c2|1940-06-22|  male|       2024-04-16|\n",
      "|     a7baeaf0a68696a8|     C71.1|    2018-08-14|       Patient/3b2f3fa2e...|   3b2f3fa2e95230cd|d11500d025918563|1972-08-18|  male|             NULL|\n",
      "|     d78ce50d3ac3e826|     C15.5|    2023-10-30|       Patient/0a5f3ad16...|   0a5f3ad16294b73a|faa462f05466be4d|1954-08-21|  male|             NULL|\n",
      "|     3c3a5386810aaab1|     C18.1|    2023-09-30|       Patient/3cda8e94d...|   3cda8e94d07a0709|59a13bc638788557|1986-10-05|female|             NULL|\n",
      "|     d02c0fbc3f94faaa|     C71.2|    2024-03-10|       Patient/146b00713...|   146b0071371fe6e6|e9a460fd4950bcb0|1974-02-04|  male|             NULL|\n",
      "|     ec1575c28af09b0b|     C15.4|    2024-07-05|       Patient/7f2318f53...|   7f2318f53b459500|af2c6ffe972bd869|1970-07-21|female|             NULL|\n",
      "|     7daeb8ab9cae0e2f|     C15.3|    2020-12-08|       Patient/8e1067992...|   8e10679922d50f99|525435898cd242fd|1954-02-04|  male|             NULL|\n",
      "|     1ee93bb69d5a0f4f|     C71.5|    2024-07-16|       Patient/3875fc263...|   3875fc2637316141|74f005020d523886|2003-09-14|female|             NULL|\n",
      "|     24024157215224ee|     C15.4|    2023-03-28|       Patient/35ead2589...|   35ead2589e72ad07|54d3b4d0a7737549|1983-12-14|  male|             NULL|\n",
      "|     0c9a439a485d1cfa|     C15.5|    2023-04-21|       Patient/61ed44a22...|   61ed44a223187661|bc1a1b4fe47fdb71|1949-04-29|  male|             NULL|\n",
      "|     8402e695ed6f7d9c|     C25.1|    2024-08-07|       Patient/befae30c7...|   befae30c74019b1c|e6453cef780335f7|1955-12-28|  male|             NULL|\n",
      "|     3a3c465876a7d36a|     C18.7|    2022-11-06|       Patient/ede861350...|   ede861350630aad2|65af284f62167c91|1959-06-02|  male|             NULL|\n",
      "|     528daf4eac7f9417|     C25.0|    2023-09-27|       Patient/437e8f9ea...|   437e8f9eae081c75|fc10ae29d9fa0a14|1948-04-06|  male|             NULL|\n",
      "|     49329497d8d7dcaf|     C18.7|    2024-02-05|       Patient/d85cf1732...|   d85cf173277cf6fc|7642512ad6451717|1949-05-23|female|             NULL|\n",
      "|     56adb4a0596cae74|     D43.0|    2024-02-18|       Patient/ce38bdeb6...|   ce38bdeb6979b366|fd59faa459aa1b58|2006-03-11|female|             NULL|\n",
      "|     d80a996d35bb0d68|     C18.2|    2024-06-19|       Patient/f0307634e...|   f0307634eb85ac96|e21bddef1c8868d6|1946-09-03|female|             NULL|\n",
      "+---------------------+----------+--------------+---------------------------+-------------------+----------------+----------+------+-----------------+\n",
      "only showing top 20 rows\n",
      "\n"
     ]
    }
   ],
   "source": [
    "conditions_patients_resolve.show()"
   ]
  },
  {
   "cell_type": "markdown",
   "id": "21238d44-45a9-461c-9ced-065609970478",
   "metadata": {},
   "source": [
    "## 2.3 ReverseResolve"
   ]
  },
  {
   "cell_type": "code",
   "execution_count": 39,
   "id": "de15e1fb-8714-48e3-abcf-6a5831d88f66",
   "metadata": {
    "execution": {
     "iopub.execute_input": "2025-06-04T14:52:48.333482Z",
     "iopub.status.busy": "2025-06-04T14:52:48.332901Z",
     "iopub.status.idle": "2025-06-04T14:53:03.747978Z",
     "shell.execute_reply": "2025-06-04T14:53:03.746814Z",
     "shell.execute_reply.started": "2025-06-04T14:52:48.333433Z"
    }
   },
   "outputs": [
    {
     "name": "stderr",
     "output_type": "stream",
     "text": [
      "25/06/04 17:42:16 WARN DAGScheduler: Broadcasting large task binary with size 1178.0 KiB\n"
     ]
    },
    {
     "data": {
      "text/plain": [
       "72"
      ]
     },
     "execution_count": 39,
     "metadata": {},
     "output_type": "execute_result"
    }
   ],
   "source": [
    "# löst Referenz rückwarts auf\n",
    "\n",
    "patients_condition_reverse_resolve = data.extract(\"Patient\",\n",
    "                                columns=[\n",
    "                                    exp(\"id\", \"patient_resource_id\"),\n",
    "                                    exp(\"identifier.value\", \"patid_pseudonym\"),\n",
    "                                    exp(\"gender\", \"gender\"),\n",
    "                                    exp(\"birthDate\", \"birth_date\"),\n",
    "                                    exp(\"deceasedDateTime\", \"deceased_datetime\"),\n",
    "\n",
    "                                    exp(\"id\", \"condition_resource_id\"),\n",
    "                                    exp(\"reverseResolve(Condition.subject).code.coding.where(system = 'http://fhir.de/CodeSystem/bfarm/icd-10-gm').code.first()\", \"icd10_code\"), # kardinalität 0...1\n",
    "                                    exp(\"reverseResolve(Condition.subject).extension('http://hl7.org/fhir/StructureDefinition/condition-assertedDate').valueDateTime.first()\", \"date_diagnosis\"), # kardinalität 1..1\n",
    "                                    exp(\"reverseResolve(Condition.subject).subject.reference\", \"condition_subject_reference\"),\n",
    "                            ],\n",
    "                        )\n",
    "\n",
    "patients_condition_reverse_resolve = patients_condition_reverse_resolve.checkpoint(eager=True)\n",
    "patients_condition_reverse_resolve_count = patients_condition_reverse_resolve.count()\n",
    "patients_condition_reverse_resolve_count"
   ]
  },
  {
   "cell_type": "code",
   "execution_count": 42,
   "id": "ba3595a2-b71f-461f-ab1a-9828833c6a77",
   "metadata": {
    "execution": {
     "iopub.execute_input": "2025-06-04T15:01:47.191354Z",
     "iopub.status.busy": "2025-06-04T15:01:47.190214Z",
     "iopub.status.idle": "2025-06-04T15:01:47.235335Z",
     "shell.execute_reply": "2025-06-04T15:01:47.234292Z",
     "shell.execute_reply.started": "2025-06-04T15:01:47.191301Z"
    }
   },
   "outputs": [
    {
     "name": "stdout",
     "output_type": "stream",
     "text": [
      "+-------------------+----------------+------+----------+-----------------+---------------------+----------+--------------+---------------------------+\n",
      "|patient_resource_id| patid_pseudonym|gender|birth_date|deceased_datetime|condition_resource_id|icd10_code|date_diagnosis|condition_subject_reference|\n",
      "+-------------------+----------------+------+----------+-----------------+---------------------+----------+--------------+---------------------------+\n",
      "|   64ffc8f6e2a04bf5|1f8367d0b53064c2|  male|1940-06-22|       2024-04-16|     64ffc8f6e2a04bf5|     C71.0|    2024-01-05|       Patient/64ffc8f6e...|\n",
      "|   114b17715cd8962f|7a258cbfec3c558c|  male|1948-12-06|       2023-11-10|     114b17715cd8962f|     C25.0|    2022-07-06|       Patient/114b17715...|\n",
      "|   733b6df2aeaaff06|897acc358f405500|female|1935-08-21|       2019-06-25|     733b6df2aeaaff06|     C25.0|    2019-03-07|       Patient/733b6df2a...|\n",
      "|   60271b372396f53a|2f4017ec9a0d48c3|female|1954-06-30|       2024-07-25|     60271b372396f53a|     C18.0|    2023-08-20|       Patient/60271b372...|\n",
      "|   9ba79939ecbcae8f|550d43f7d5cc0b99|  male|1952-03-09|       2019-04-09|     9ba79939ecbcae8f|     C25.0|    2018-01-23|       Patient/9ba79939e...|\n",
      "|   61ed44a223187661|bc1a1b4fe47fdb71|  male|1949-04-29|             NULL|     61ed44a223187661|     C15.5|    2023-04-21|       Patient/61ed44a22...|\n",
      "|   8e10679922d50f99|525435898cd242fd|  male|1954-02-04|             NULL|     8e10679922d50f99|     C15.3|    2020-12-08|       Patient/8e1067992...|\n",
      "|   ab0f1ed341372001|2b652c00c32a7f23|  male|1965-07-29|             NULL|     ab0f1ed341372001|     C15.4|    2024-09-28|       Patient/ab0f1ed34...|\n",
      "|   71d7ce5bbdf4c09a|3885e9aa7e691af0|female|1991-05-24|             NULL|     71d7ce5bbdf4c09a|     C71.1|    2021-05-01|       Patient/71d7ce5bb...|\n",
      "|   69644926a2875823|8988ec5db74e3446|female|1949-12-13|             NULL|     69644926a2875823|     C25.0|    2024-11-07|       Patient/69644926a...|\n",
      "|   3cda8e94d07a0709|59a13bc638788557|female|1986-10-05|             NULL|     3cda8e94d07a0709|     C18.1|    2023-09-30|       Patient/3cda8e94d...|\n",
      "|   1f397d69496919fc|a2d3e71c34993a0b|  male|1991-08-11|             NULL|     1f397d69496919fc|     D43.0|    2024-04-30|       Patient/1f397d694...|\n",
      "|   3698207ddd269247|033959a00c40ffb4|female|1971-10-30|             NULL|     3698207ddd269247|     C71.1|    2024-10-26|       Patient/3698207dd...|\n",
      "|   4eb565eedf9e2d7c|bb1f1e250eb74db1|  male|1958-07-03|             NULL|     4eb565eedf9e2d7c|     C15.9|    2024-06-05|       Patient/4eb565eed...|\n",
      "|   b232a510b3cbd410|0edf6e1e8ad3e607|female|1966-07-19|             NULL|     b232a510b3cbd410|     C25.1|    2023-10-06|       Patient/b232a510b...|\n",
      "|   3b2f3fa2e95230cd|d11500d025918563|  male|1972-08-18|             NULL|     3b2f3fa2e95230cd|     C71.1|    2018-08-14|       Patient/3b2f3fa2e...|\n",
      "|   d519100ec65f8463|8a5f68d4af98aeca|female|1938-03-09|             NULL|     d519100ec65f8463|     C25.0|    2024-08-22|       Patient/d519100ec...|\n",
      "|   0c5298eb234951b1|012657b165e05913|  male|1965-01-18|             NULL|     0c5298eb234951b1|     C25.1|    2024-02-18|       Patient/0c5298eb2...|\n",
      "|   9a80d68214de0bd4|0fe7da3a23578158|female|1946-12-16|             NULL|     9a80d68214de0bd4|     C71.0|    2022-10-15|       Patient/9a80d6821...|\n",
      "|   79fa4eb7cadef929|ca363e555351a324|female|1945-01-27|             NULL|     79fa4eb7cadef929|     C18.0|    2023-07-04|       Patient/79fa4eb7c...|\n",
      "+-------------------+----------------+------+----------+-----------------+---------------------+----------+--------------+---------------------------+\n",
      "only showing top 20 rows\n",
      "\n"
     ]
    }
   ],
   "source": [
    "patients_condition_reverse_resolve.show()"
   ]
  },
  {
   "cell_type": "markdown",
   "id": "c659c236-8b0b-4ba9-8a82-fb5f1a8ede77",
   "metadata": {},
   "source": [
    "## 3 Lösungswege für dasselbe Ergebnis"
   ]
  },
  {
   "cell_type": "code",
   "execution_count": null,
   "id": "e7b0622a-6abb-4155-a43a-22004c10fb12",
   "metadata": {
    "execution": {
     "iopub.execute_input": "2025-06-04T15:01:43.271840Z",
     "iopub.status.busy": "2025-06-04T15:01:43.271176Z",
     "iopub.status.idle": "2025-06-04T15:01:43.406545Z",
     "shell.execute_reply": "2025-06-04T15:01:43.404934Z",
     "shell.execute_reply.started": "2025-06-04T15:01:43.271784Z"
    }
   },
   "outputs": [
    {
     "name": "stdout",
     "output_type": "stream",
     "text": [
      "aus join\n",
      "+---------------------+----------+--------------+---------------------------+-------------------+----------------+------+----------+-----------------+\n",
      "|condition_resource_id|icd10_code|date_diagnosis|condition_subject_reference|patient_resource_id| patid_pseudonym|gender|birth_date|deceased_datetime|\n",
      "+---------------------+----------+--------------+---------------------------+-------------------+----------------+------+----------+-----------------+\n",
      "|     0c9a439a485d1cfa|     C15.5|    2023-04-21|           61ed44a223187661|   61ed44a223187661|bc1a1b4fe47fdb71|  male|1949-04-29|             null|\n",
      "|     051e5a0e019c30ce|     C18.3|    2024-03-04|           e5c41057a1b66cda|   e5c41057a1b66cda|6d85de25529cff53|  male|1939-06-28|             null|\n",
      "+---------------------+----------+--------------+---------------------------+-------------------+----------------+------+----------+-----------------+\n",
      "only showing top 2 rows\n",
      "\n",
      "aus resolve:\n",
      "+---------------------+----------+--------------+---------------------------+-------------------+----------------+----------+------+-----------------+\n",
      "|condition_resource_id|icd10_code|date_diagnosis|condition_subject_reference|patient_resource_id| patid_pseudonym|birth_date|gender|deceased_datetime|\n",
      "+---------------------+----------+--------------+---------------------------+-------------------+----------------+----------+------+-----------------+\n",
      "|     528daf4eac7f9417|     C25.0|    2023-09-27|       Patient/437e8f9ea...|   437e8f9eae081c75|fc10ae29d9fa0a14|1948-04-06|  male|             null|\n",
      "|     6961f769aab1b8cd|     C15.5|    2022-11-09|       Patient/835107ade...|   835107adef733603|88370bc88e2f867e|1977-04-18|  male|             null|\n",
      "+---------------------+----------+--------------+---------------------------+-------------------+----------------+----------+------+-----------------+\n",
      "only showing top 2 rows\n",
      "\n",
      "aus reverseResolve:\n",
      "+-------------------+----------------+------+----------+-----------------+---------------------+----------+--------------+---------------------------+\n",
      "|patient_resource_id| patid_pseudonym|gender|birth_date|deceased_datetime|condition_resource_id|icd10_code|date_diagnosis|condition_subject_reference|\n",
      "+-------------------+----------------+------+----------+-----------------+---------------------+----------+--------------+---------------------------+\n",
      "|   befae30c74019b1c|e6453cef780335f7|  male|1955-12-28|             null|     befae30c74019b1c|     C25.1|    2024-08-07|       Patient/befae30c7...|\n",
      "|   eb9728de512f00ec|15d8e14a10e068b8|female|1958-11-13|             null|     eb9728de512f00ec|     C15.9|    2023-11-24|       Patient/eb9728de5...|\n",
      "+-------------------+----------------+------+----------+-----------------+---------------------+----------+--------------+---------------------------+\n",
      "only showing top 2 rows\n",
      "\n"
     ]
    }
   ],
   "source": [
    "# 1)\n",
    "print(\"aus join\")\n",
    "patients_conditions.show(2)\n",
    "\n",
    "# 2)\n",
    "print(\"aus resolve:\")\n",
    "conditions_patients_resolve.show(2)\n",
    "\n",
    "#3\n",
    "print(\"aus reverseResolve:\")\n",
    "patients_condition_reverse_resolve.show(2)"
   ]
  },
  {
   "cell_type": "code",
   "execution_count": null,
   "id": "d4248f4b",
   "metadata": {},
   "outputs": [],
   "source": [
    "### ÜBUNG: Altersverteilung der onkologischen Patient:innen\n",
    "\n",
    "# 1.1 Berechne das Alter bei Diagnose aus dem Geburtsdatum und Diagnosedatum und füge es als neue Spalte in den DataFrame ein\n",
    "# Hinweis: diese Funktionen sind hilfreich: withColumn,\n",
    "from pyspark.sql.functions import col, datediff, floor, to_date\n",
    "\n",
    "\n",
    "\n",
    "# 1.2 Zeichne ein Histogramm der Altersverteilung - wenn du mit matplotlib zeichnen möchtest, Daten in Pandas überführen\n",
    "import matplotlib.pyplot as plt\n",
    "\n"
   ]
  },
  {
   "cell_type": "code",
   "execution_count": 48,
   "id": "8250a3ab-aafd-4a82-8725-6ea140f6de69",
   "metadata": {
    "execution": {
     "iopub.execute_input": "2025-06-04T15:13:19.031847Z",
     "iopub.status.busy": "2025-06-04T15:13:19.031184Z",
     "iopub.status.idle": "2025-06-04T15:13:19.258547Z",
     "shell.execute_reply": "2025-06-04T15:13:19.257165Z",
     "shell.execute_reply.started": "2025-06-04T15:13:19.031791Z"
    }
   },
   "outputs": [
    {
     "name": "stdout",
     "output_type": "stream",
     "text": [
      "+---------------------+----------+--------------+---------------------------+-------------------+----------------+------+----------+-----------------+----------------+\n",
      "|condition_resource_id|icd10_code|date_diagnosis|condition_subject_reference|patient_resource_id| patid_pseudonym|gender|birth_date|deceased_datetime|age_at_diagnosis|\n",
      "+---------------------+----------+--------------+---------------------------+-------------------+----------------+------+----------+-----------------+----------------+\n",
      "|     0c9a439a485d1cfa|     C15.5|    2023-04-21|           61ed44a223187661|   61ed44a223187661|bc1a1b4fe47fdb71|  male|1949-04-29|             NULL|              73|\n",
      "|     051e5a0e019c30ce|     C18.3|    2024-03-04|           e5c41057a1b66cda|   e5c41057a1b66cda|6d85de25529cff53|  male|1939-06-28|             NULL|              84|\n",
      "|     252eb9211bc1b339|     C71.2|    2024-07-14|           07ec02b49e0b7aba|   07ec02b49e0b7aba|02024496e0b0bbd0|  male|1952-07-26|             NULL|              71|\n",
      "|     af30c3406cd4ac00|     C18.4|    2023-12-28|           ba3253fe6ca96286|   ba3253fe6ca96286|ad09e0030f7313f6|  male|1947-09-06|             NULL|              76|\n",
      "|     4e8432e66cce4dc4|     C25.0|    2024-09-01|           f44db4a5131c0ae2|   f44db4a5131c0ae2|10e14a11759058db|female|1945-06-01|             NULL|              79|\n",
      "|     f229ad9b04bea62e|     C71.0|    2022-11-03|           486a10dac0d746cd|   486a10dac0d746cd|d7052e8b2a67419f|  male|1976-03-06|             NULL|              46|\n",
      "|     e72e5f5440a7ffc5|     C25.0|    2022-07-06|           114b17715cd8962f|   114b17715cd8962f|7a258cbfec3c558c|  male|1948-12-06|       2023-11-10|              73|\n",
      "|     c4d249f2c7ddcf59|     C15.5|    2021-05-25|           68a0e992e0d91698|   68a0e992e0d91698|265576fcb9672764|  male|1958-02-26|             NULL|              63|\n",
      "|     8ccbaa3540124618|     D33.1|    2022-07-28|           e243400fe9c43b79|   e243400fe9c43b79|66114d9620ecd6f3|  male|1981-05-08|             NULL|              41|\n",
      "|     96fe81bd47dd30e1|     C25.0|    2018-01-23|           9ba79939ecbcae8f|   9ba79939ecbcae8f|550d43f7d5cc0b99|  male|1952-03-09|       2019-04-09|              65|\n",
      "|     52e5f2fc38f09bba|     C18.0|    2023-07-04|           79fa4eb7cadef929|   79fa4eb7cadef929|ca363e555351a324|female|1945-01-27|             NULL|              78|\n",
      "|     72317c2425bbd3c8|     C15.5|    2024-07-12|           fec730686892c631|   fec730686892c631|dbff7aa920956fde|  male|1952-07-20|             NULL|              71|\n",
      "|     92737702ea38a24c|     C25.2|    2019-05-27|           5cc1af2309e29e00|   5cc1af2309e29e00|ed9dc76fe9f770f2|  male|1955-11-23|             NULL|              63|\n",
      "|     8a7f134a200e57c1|     C25.1|    2024-02-18|           0c5298eb234951b1|   0c5298eb234951b1|012657b165e05913|  male|1965-01-18|             NULL|              59|\n",
      "|     afc792bfaea32585|     C25.0|    2022-12-25|           f3c131b13cbe3216|   f3c131b13cbe3216|9028a3386120ec94|  male|1960-01-05|             NULL|              62|\n",
      "|     b6d5a69ce456abf0|     C15.5|    2024-05-13|           c8490233e2b2a928|   c8490233e2b2a928|777535caa6d34e27|  male|1970-01-06|             NULL|              54|\n",
      "|     6961f769aab1b8cd|     C15.5|    2022-11-09|           835107adef733603|   835107adef733603|88370bc88e2f867e|  male|1977-04-18|             NULL|              45|\n",
      "|     f65c992f02dd6f78|     C15.3|    2023-06-24|           c9a0ff4052f66694|   c9a0ff4052f66694|7376eec3bda52c36|  male|1954-09-05|             NULL|              68|\n",
      "|     7daeb8ab9cae0e2f|     C15.3|    2020-12-08|           8e10679922d50f99|   8e10679922d50f99|525435898cd242fd|  male|1954-02-04|             NULL|              66|\n",
      "|     48ca83204ae98070|     C71.0|    2024-06-27|           150dcba579b4985d|   150dcba579b4985d|99f5a1dcf9839f0a|  male|2010-12-16|             NULL|              13|\n",
      "|     82da6b89245f030a|     C15.9|    2024-06-05|           4eb565eedf9e2d7c|   4eb565eedf9e2d7c|bb1f1e250eb74db1|  male|1958-07-03|             NULL|              65|\n",
      "|     436924e03db67321|     C71.0|    2022-10-15|           9a80d68214de0bd4|   9a80d68214de0bd4|0fe7da3a23578158|female|1946-12-16|             NULL|              75|\n",
      "|     0f8531c4327ebbd2|     C18.7|    2024-06-21|           b90e420a6b680c0d|   b90e420a6b680c0d|daea3f56491d7e11|  male|1967-06-27|             NULL|              56|\n",
      "|     b28d21fb5d6a4bc8|     C25.0|    2019-03-07|           733b6df2aeaaff06|   733b6df2aeaaff06|897acc358f405500|female|1935-08-21|       2019-06-25|              83|\n",
      "|     4dfca46eee8bf85a|     C71.1|    2024-10-26|           3698207ddd269247|   3698207ddd269247|033959a00c40ffb4|female|1971-10-30|             NULL|              52|\n",
      "|     1d3fcafbde7a3d24|     C18.0|    2024-08-15|           e6f48bd3bc9800c8|   e6f48bd3bc9800c8|9c66451b0837e1a8|female|1975-07-08|             NULL|              49|\n",
      "|     ade47167ff1dfdf3|     C25.0|    2024-08-22|           d519100ec65f8463|   d519100ec65f8463|8a5f68d4af98aeca|female|1938-03-09|             NULL|              86|\n",
      "|     571773d4034c369f|     C25.1|    2023-09-20|           e33a2618c6e1a606|   e33a2618c6e1a606|0475687e595c4b7b|female|1954-10-13|             NULL|              68|\n",
      "|     237e4fb6ac5a7cc7|     C18.1|    2021-09-25|           7bd4e4bef7525055|   7bd4e4bef7525055|2fd13c28ea85341f|female|1974-10-25|             NULL|              46|\n",
      "|     e47e46e3a930f622|     C71.1|    2021-05-01|           71d7ce5bbdf4c09a|   71d7ce5bbdf4c09a|3885e9aa7e691af0|female|1991-05-24|             NULL|              29|\n",
      "|     08405c94eb7dc213|     C15.9|    2023-11-24|           eb9728de512f00ec|   eb9728de512f00ec|15d8e14a10e068b8|female|1958-11-13|             NULL|              65|\n",
      "|     4f44642223b63313|     C25.2|    2024-08-05|           2077049623716fd1|   2077049623716fd1|b2720f34b89d9245|female|1940-12-07|             NULL|              83|\n",
      "|     c4611d5632d12a16|     C25.1|    2024-05-07|           847d834b896e3a1d|   847d834b896e3a1d|874de26b0fe8d1ec|  male|1970-05-13|             NULL|              53|\n",
      "|     d80a996d35bb0d68|     C18.2|    2024-06-19|           f0307634eb85ac96|   f0307634eb85ac96|e21bddef1c8868d6|female|1946-09-03|             NULL|              77|\n",
      "|     247b1136711dfde0|     C25.0|    2024-03-04|           eb49c8cc92207e82|   eb49c8cc92207e82|4dfd45ed72c18f56|  male|1954-05-08|             NULL|              69|\n",
      "|     15c02d0d9eb2c08c|     C71.0|    2024-01-05|           64ffc8f6e2a04bf5|   64ffc8f6e2a04bf5|1f8367d0b53064c2|  male|1940-06-22|       2024-04-16|              83|\n",
      "|     08e306e6917943c2|     C15.4|    2024-02-29|           21560e6558e3bce2|   21560e6558e3bce2|5c2b413aa84ba1da|female|1962-11-24|             NULL|              61|\n",
      "|     c60ec4a699edda3f|     C71.0|    2021-12-09|           6b8a354c3efad190|   6b8a354c3efad190|a5f9039dc93a3ec5|  male|1971-11-30|             NULL|              50|\n",
      "|     fb5332bc6aac11c5|     C18.8|    2024-11-11|           52b7120e3fc05325|   52b7120e3fc05325|b086d01df7325249|  male|1965-06-22|             NULL|              59|\n",
      "|     8e4403f0e2266032|     C15.3|    2024-09-25|           f7af2b9dcfa04d8c|   f7af2b9dcfa04d8c|a61f3e73ee67760a|  male|1995-04-19|             NULL|              29|\n",
      "|     d02c0fbc3f94faaa|     C71.2|    2024-03-10|           146b0071371fe6e6|   146b0071371fe6e6|e9a460fd4950bcb0|  male|1974-02-04|             NULL|              50|\n",
      "|     4fe3498d8bf2bb2a|     C18.7|    2024-05-25|           e6573e3c68ea98f2|   e6573e3c68ea98f2|690fc95f6e6ac7bb|female|1943-09-12|             NULL|              80|\n",
      "|     528daf4eac7f9417|     C25.0|    2023-09-27|           437e8f9eae081c75|   437e8f9eae081c75|fc10ae29d9fa0a14|  male|1948-04-06|             NULL|              75|\n",
      "|     2f3efa62ead346da|     C15.5|    2024-01-25|           1e2fd734cf35cf44|   1e2fd734cf35cf44|c407872dea98a2b9|  male|1949-11-15|             NULL|              74|\n",
      "|     f4fe8697f1dff2db|     C25.0|    2023-08-08|           4f7b657ae62cb1f0|   4f7b657ae62cb1f0|e585243ed4c6ba5b|female|1943-11-05|             NULL|              79|\n",
      "|     b37c6ee00044545c|     C25.2|    2024-03-24|           4a58365a0b7626a8|   4a58365a0b7626a8|6c361d87cf623ee9|female|1962-10-25|             NULL|              61|\n",
      "|     3a3c465876a7d36a|     C18.7|    2022-11-06|           ede861350630aad2|   ede861350630aad2|65af284f62167c91|  male|1959-06-02|             NULL|              63|\n",
      "|     3c3a5386810aaab1|     C18.1|    2023-09-30|           3cda8e94d07a0709|   3cda8e94d07a0709|59a13bc638788557|female|1986-10-05|             NULL|              36|\n",
      "|     6b612dd173fa5544|     C18.0|    2023-08-20|           60271b372396f53a|   60271b372396f53a|2f4017ec9a0d48c3|female|1954-06-30|       2024-07-25|              69|\n",
      "|     a7baeaf0a68696a8|     C71.1|    2018-08-14|           3b2f3fa2e95230cd|   3b2f3fa2e95230cd|d11500d025918563|  male|1972-08-18|             NULL|              45|\n",
      "|     e2152a349b25f742|     C25.1|    2024-03-15|           bc2a1febe3171a48|   bc2a1febe3171a48|6e10064de82b37de|  male|1973-08-13|             NULL|              50|\n",
      "|     ad4a8e34fb4cccde|     C71.1|    2020-03-12|           6be5fcae3308a468|   6be5fcae3308a468|a2f2aefd463efaba|female|1969-04-22|             NULL|              50|\n",
      "|     1ee93bb69d5a0f4f|     C71.5|    2024-07-16|           3875fc2637316141|   3875fc2637316141|74f005020d523886|female|2003-09-14|             NULL|              20|\n",
      "|     d78ce50d3ac3e826|     C15.5|    2023-10-30|           0a5f3ad16294b73a|   0a5f3ad16294b73a|faa462f05466be4d|  male|1954-08-21|             NULL|              69|\n",
      "|     957487f073a075ed|     D43.1|    2024-03-03|           ceb53268e9158898|   ceb53268e9158898|0f069f1f4799b1ca|female|2024-02-04|             NULL|               0|\n",
      "|     eb979b8007788418|     C71.2|    2020-07-14|           a1d728be37480030|   a1d728be37480030|6e98dce2f6665e34|  male|1985-09-20|             NULL|              34|\n",
      "|     56adb4a0596cae74|     D43.0|    2024-02-18|           ce38bdeb6979b366|   ce38bdeb6979b366|fd59faa459aa1b58|female|2006-03-11|             NULL|              17|\n",
      "|     8a67aa6b1dec51d2|     C18.4|    2024-07-26|           d239c43f8031a31f|   d239c43f8031a31f|e84f76477c5b0028|female|1946-12-17|             NULL|              77|\n",
      "|     5059218f572675d0|     C71.1|    2017-04-10|           50cbcfff7d06dc25|   50cbcfff7d06dc25|e0f490515d505599|female|1986-11-04|             NULL|              30|\n",
      "|     8402e695ed6f7d9c|     C25.1|    2024-08-07|           befae30c74019b1c|   befae30c74019b1c|e6453cef780335f7|  male|1955-12-28|             NULL|              68|\n",
      "|     87aa2f5d383d7318|     C18.2|    2017-04-16|           cc2d75349812f146|   cc2d75349812f146|03dce5400ee975cd|  male|1939-01-26|             NULL|              78|\n",
      "|     5927a5135224b9f5|     C18.7|    2023-10-30|           be346e0fecc66702|   be346e0fecc66702|c3cb058158b22b69|female|1944-10-11|             NULL|              79|\n",
      "|     ec1575c28af09b0b|     C15.4|    2024-07-05|           7f2318f53b459500|   7f2318f53b459500|af2c6ffe972bd869|female|1970-07-21|             NULL|              53|\n",
      "|     09fc5566cf6f17ad|     C18.0|    2024-04-23|           0fae573b17cb69e5|   0fae573b17cb69e5|54656b6bc73b3e67|  male|1957-02-18|             NULL|              67|\n",
      "|     6148a24578f6f103|     D43.0|    2024-04-30|           1f397d69496919fc|   1f397d69496919fc|a2d3e71c34993a0b|  male|1991-08-11|             NULL|              32|\n",
      "|     49329497d8d7dcaf|     C18.7|    2024-02-05|           d85cf173277cf6fc|   d85cf173277cf6fc|7642512ad6451717|female|1949-05-23|             NULL|              74|\n",
      "|     1f080c26891c70a0|     C18.0|    2023-02-11|           1a29351020e186a6|   1a29351020e186a6|ae54708e21efe7ba|  male|1946-08-04|             NULL|              76|\n",
      "|     73505c829dd099ce|     C71.2|    2024-02-16|           9a79159bda44a2de|   9a79159bda44a2de|7c0adc238acd5789|  male|1993-01-19|             NULL|              31|\n",
      "|     24024157215224ee|     C15.4|    2023-03-28|           35ead2589e72ad07|   35ead2589e72ad07|54d3b4d0a7737549|  male|1983-12-14|             NULL|              39|\n",
      "|     565abdf49ab9aaba|     C25.0|    2024-11-07|           69644926a2875823|   69644926a2875823|8988ec5db74e3446|female|1949-12-13|             NULL|              74|\n",
      "|     07d2b410e5cfbe5f|     C15.4|    2024-09-28|           ab0f1ed341372001|   ab0f1ed341372001|2b652c00c32a7f23|  male|1965-07-29|             NULL|              59|\n",
      "|     bba49ef6a65e1746|     C25.1|    2023-10-06|           b232a510b3cbd410|   b232a510b3cbd410|0edf6e1e8ad3e607|female|1966-07-19|             NULL|              57|\n",
      "+---------------------+----------+--------------+---------------------------+-------------------+----------------+------+----------+-----------------+----------------+\n",
      "\n"
     ]
    },
    {
     "data": {
      "image/png": "[encoded data removed]",
      "text/plain": [
       "<Figure size 1000x600 with 1 Axes>"
      ]
     },
     "metadata": {},
     "output_type": "display_data"
    }
   ],
   "source": [
    "### LÖSUNG: Altersverteilung der onkologischen Patient:innen\n",
    "\n",
    "# 1.1 Berechne das Alter bei Diagnose aus dem Geburtsdatum und Diagnosedatum und füge es als neue Spalte in den DataFrame ein\n",
    "# Hinweis: diese Funktionen sind hilfreich: withColumn,\n",
    "from pyspark.sql.functions import col, datediff, floor, to_date\n",
    "\n",
    "patients_conditions = patients_conditions.withColumn(\n",
    "    \"birth_date\", to_date(col(\"birth_date\"))\n",
    ").withColumn(\n",
    "    \"age_at_diagnosis\", floor(datediff(col(\"date_diagnosis\"), col(\"birth_date\")) / 365.25)\n",
    ")\n",
    "\n",
    "patients_conditions.show(72)\n",
    "\n",
    "# 1.2 Zeichne ein Histogramm der Altersverteilung - ggf. Daten in Pandas überführen\n",
    "import matplotlib.pyplot as plt\n",
    "\n",
    "patients_conditions_pd = patients_conditions.toPandas()\n",
    "\n",
    "plt.figure(figsize=(10, 6))\n",
    "plt.hist(patients_conditions_pd[\"age_at_diagnosis\"].dropna(), bins=10, edgecolor=\"black\", color=\"blue\")\n",
    "plt.xlabel(\"Alter (Jahre)\")\n",
    "plt.ylabel(\"Anzahl Patient:innen\")\n",
    "plt.grid(True)\n",
    "plt.show()"
   ]
  },
  {
   "cell_type": "markdown",
   "id": "758fbcf8",
   "metadata": {},
   "source": [
    "## danach: Gruppenarbeiten\n",
    "## 4 Entitäten in Gruppen analysieren\n",
    "## ggf. Therapien mit einbeziehen"
   ]
  },
  {
   "cell_type": "code",
   "execution_count": null,
   "id": "6e7bf3bd-147a-4abf-8c67-173dd4f1d4b4",
   "metadata": {},
   "outputs": [],
   "source": []
  },
  {
   "cell_type": "code",
   "execution_count": null,
   "id": "9d1e2940-0abc-486e-95bf-931abe0eda24",
   "metadata": {},
   "outputs": [],
   "source": []
  }
 ],
 "metadata": {
  "kernelspec": {
   "display_name": ".venv",
   "language": "python",
   "name": "python3"
  },
  "language_info": {
   "codemirror_mode": {
    "name": "ipython",
    "version": 3
   },
   "file_extension": ".py",
   "mimetype": "text/x-python",
   "name": "python",
   "nbconvert_exporter": "python",
   "pygments_lexer": "ipython3",
   "version": "3.11.9"
  }
 },
 "nbformat": 4,
 "nbformat_minor": 5
}
