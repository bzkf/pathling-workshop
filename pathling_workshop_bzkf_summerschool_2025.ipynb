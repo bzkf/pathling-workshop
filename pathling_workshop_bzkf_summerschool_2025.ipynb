{
 "cells": [
  {
   "cell_type": "markdown",
   "id": "9608b07b",
   "metadata": {},
   "source": [
    "# Pathling Workshop\n",
    "## Getting started\n",
    "### Testdaten Download: https://cloud.uk-erlangen.de/s/qS9BcyYLcpAJWH7\n",
    "\n",
    "### Relevante Links:\n",
    "#### https://build.fhir.org/fhirpath.html \n",
    "#### https://hl7.github.io/fhirpath.js/\n",
    "#### https://www.basisdatensatz.de/basisdatensatz\n",
    "#### https://simplifier.net/guide/mii-ig-modul-onkologie-2024-de/MIIIGModulOnkologie?version=current "
   ]
  },
  {
   "cell_type": "code",
   "execution_count": 39,
   "id": "a5bb6345-88a3-48c3-a07f-dbcc14f45a18",
   "metadata": {
    "execution": {
     "iopub.execute_input": "2025-06-05T11:09:11.168332Z",
     "iopub.status.busy": "2025-06-05T11:09:11.167646Z",
     "iopub.status.idle": "2025-06-05T11:09:14.142762Z",
     "shell.execute_reply": "2025-06-05T11:09:14.141057Z",
     "shell.execute_reply.started": "2025-06-05T11:09:11.168279Z"
    }
   },
   "outputs": [
    {
     "name": "stdout",
     "output_type": "stream",
     "text": [
      "Reading package lists... Done\n",
      "\u001b[1;31mE: \u001b[0mCould not open lock file /var/lib/apt/lists/lock - open (13: Permission denied)\u001b[0m\n",
      "\u001b[1;31mE: \u001b[0mUnable to lock directory /var/lib/apt/lists/\u001b[0m\n",
      "\u001b[1;33mW: \u001b[0mProblem unlinking the file /var/cache/apt/pkgcache.bin - RemoveCaches (13: Permission denied)\u001b[0m\n",
      "\u001b[1;33mW: \u001b[0mProblem unlinking the file /var/cache/apt/srcpkgcache.bin - RemoveCaches (13: Permission denied)\u001b[0m\n",
      "\u001b[1;31mE: \u001b[0mCould not open lock file /var/lib/dpkg/lock-frontend - open (13: Permission denied)\u001b[0m\n",
      "\u001b[1;31mE: \u001b[0mUnable to acquire the dpkg frontend lock (/var/lib/dpkg/lock-frontend), are you root?\u001b[0m\n",
      "Requirement already satisfied: pathling==7.2.0 in /home/jasmin/git/bzkf_graph_experiments/.venv/lib/python3.11/site-packages (7.2.0)\n",
      "Requirement already satisfied: pandas==2.2.2 in /home/jasmin/git/bzkf_graph_experiments/.venv/lib/python3.11/site-packages (2.2.2)\n",
      "Requirement already satisfied: matplotlib==3.9.1 in /home/jasmin/git/bzkf_graph_experiments/.venv/lib/python3.11/site-packages (3.9.1)\n",
      "Requirement already satisfied: pyspark<3.6.0,>=3.5.3 in /home/jasmin/git/bzkf_graph_experiments/.venv/lib/python3.11/site-packages (from pathling==7.2.0) (3.5.5)\n",
      "Requirement already satisfied: deprecated>=1.2.13 in /home/jasmin/git/bzkf_graph_experiments/.venv/lib/python3.11/site-packages (from pathling==7.2.0) (1.2.14)\n",
      "Requirement already satisfied: numpy>=1.23.2 in /home/jasmin/git/bzkf_graph_experiments/.venv/lib/python3.11/site-packages (from pandas==2.2.2) (1.26.4)\n",
      "Requirement already satisfied: python-dateutil>=2.8.2 in /home/jasmin/git/bzkf_graph_experiments/.venv/lib/python3.11/site-packages (from pandas==2.2.2) (2.9.0.post0)\n",
      "Requirement already satisfied: pytz>=2020.1 in /home/jasmin/git/bzkf_graph_experiments/.venv/lib/python3.11/site-packages (from pandas==2.2.2) (2024.1)\n",
      "Requirement already satisfied: tzdata>=2022.7 in /home/jasmin/git/bzkf_graph_experiments/.venv/lib/python3.11/site-packages (from pandas==2.2.2) (2024.1)\n",
      "Requirement already satisfied: contourpy>=1.0.1 in /home/jasmin/git/bzkf_graph_experiments/.venv/lib/python3.11/site-packages (from matplotlib==3.9.1) (1.2.1)\n",
      "Requirement already satisfied: cycler>=0.10 in /home/jasmin/git/bzkf_graph_experiments/.venv/lib/python3.11/site-packages (from matplotlib==3.9.1) (0.12.1)\n",
      "Requirement already satisfied: fonttools>=4.22.0 in /home/jasmin/git/bzkf_graph_experiments/.venv/lib/python3.11/site-packages (from matplotlib==3.9.1) (4.53.1)\n",
      "Requirement already satisfied: kiwisolver>=1.3.1 in /home/jasmin/git/bzkf_graph_experiments/.venv/lib/python3.11/site-packages (from matplotlib==3.9.1) (1.4.5)\n",
      "Requirement already satisfied: packaging>=20.0 in /home/jasmin/git/bzkf_graph_experiments/.venv/lib/python3.11/site-packages (from matplotlib==3.9.1) (24.1)\n",
      "Requirement already satisfied: pillow>=8 in /home/jasmin/git/bzkf_graph_experiments/.venv/lib/python3.11/site-packages (from matplotlib==3.9.1) (10.4.0)\n",
      "Requirement already satisfied: pyparsing>=2.3.1 in /home/jasmin/git/bzkf_graph_experiments/.venv/lib/python3.11/site-packages (from matplotlib==3.9.1) (3.1.2)\n",
      "Requirement already satisfied: wrapt<2,>=1.10 in /home/jasmin/git/bzkf_graph_experiments/.venv/lib/python3.11/site-packages (from deprecated>=1.2.13->pathling==7.2.0) (1.16.0)\n",
      "Requirement already satisfied: py4j==0.10.9.7 in /home/jasmin/git/bzkf_graph_experiments/.venv/lib/python3.11/site-packages (from pyspark<3.6.0,>=3.5.3->pathling==7.2.0) (0.10.9.7)\n",
      "Requirement already satisfied: six>=1.5 in /home/jasmin/git/bzkf_graph_experiments/.venv/lib/python3.11/site-packages (from python-dateutil>=2.8.2->pandas==2.2.2) (1.16.0)\n",
      "\n",
      "\u001b[1m[\u001b[0m\u001b[34;49mnotice\u001b[0m\u001b[1;39;49m]\u001b[0m\u001b[39;49m A new release of pip is available: \u001b[0m\u001b[31;49m24.2\u001b[0m\u001b[39;49m -> \u001b[0m\u001b[32;49m25.1.1\u001b[0m\n",
      "\u001b[1m[\u001b[0m\u001b[34;49mnotice\u001b[0m\u001b[1;39;49m]\u001b[0m\u001b[39;49m To update, run: \u001b[0m\u001b[32;49mpip install --upgrade pip\u001b[0m\n"
     ]
    }
   ],
   "source": [
    "!apt update\n",
    "!apt install -y openjdk-17-jdk-headless\n",
    "!pip install pathling==7.2.0 pandas==2.2.2 matplotlib==3.9.1"
   ]
  },
  {
   "cell_type": "markdown",
   "id": "c8ee90f5-824d-4490-8262-222507de5662",
   "metadata": {
    "execution": {
     "iopub.execute_input": "2025-05-28T08:22:49.178122Z",
     "iopub.status.busy": "2025-05-28T08:22:49.177510Z",
     "iopub.status.idle": "2025-05-28T08:22:51.539759Z",
     "shell.execute_reply": "2025-05-28T08:22:51.538139Z",
     "shell.execute_reply.started": "2025-05-28T08:22:49.178066Z"
    }
   },
   "source": [
    "# Einführung in die FHIR-Datenextraktion und -analyse mit Pathling"
   ]
  },
  {
   "cell_type": "code",
   "execution_count": 40,
   "id": "19ad03d7-6ac7-4811-bb04-7135d128b119",
   "metadata": {
    "execution": {
     "iopub.execute_input": "2025-06-05T18:52:46.714584Z",
     "iopub.status.busy": "2025-06-05T18:52:46.714023Z",
     "iopub.status.idle": "2025-06-05T18:52:46.796101Z",
     "shell.execute_reply": "2025-06-05T18:52:46.794673Z",
     "shell.execute_reply.started": "2025-06-05T18:52:46.714536Z"
    }
   },
   "outputs": [
    {
     "name": "stderr",
     "output_type": "stream",
     "text": [
      "25/06/09 19:31:40 WARN SimpleFunctionRegistry: The function display replaced a previously registered function.\n",
      "25/06/09 19:31:40 WARN SimpleFunctionRegistry: The function member_of replaced a previously registered function.\n",
      "25/06/09 19:31:40 WARN SimpleFunctionRegistry: The function subsumes replaced a previously registered function.\n",
      "25/06/09 19:31:40 WARN SimpleFunctionRegistry: The function designation replaced a previously registered function.\n",
      "25/06/09 19:31:40 WARN SimpleFunctionRegistry: The function property_string replaced a previously registered function.\n",
      "25/06/09 19:31:40 WARN SimpleFunctionRegistry: The function property_code replaced a previously registered function.\n",
      "25/06/09 19:31:40 WARN SimpleFunctionRegistry: The function property_integer replaced a previously registered function.\n",
      "25/06/09 19:31:40 WARN SimpleFunctionRegistry: The function property_boolean replaced a previously registered function.\n",
      "25/06/09 19:31:40 WARN SimpleFunctionRegistry: The function property_decimal replaced a previously registered function.\n",
      "25/06/09 19:31:40 WARN SimpleFunctionRegistry: The function property_datetime replaced a previously registered function.\n",
      "25/06/09 19:31:40 WARN SimpleFunctionRegistry: The function property_coding replaced a previously registered function.\n",
      "25/06/09 19:31:40 WARN SimpleFunctionRegistry: The function translate_coding replaced a previously registered function.\n",
      "25/06/09 19:31:40 WARN SimpleFunctionRegistry: The function date_add_duration replaced a previously registered function.\n",
      "25/06/09 19:31:40 WARN SimpleFunctionRegistry: The function date_subtract_duration replaced a previously registered function.\n",
      "25/06/09 19:31:40 WARN SimpleFunctionRegistry: The function time_eq replaced a previously registered function.\n",
      "25/06/09 19:31:40 WARN SimpleFunctionRegistry: The function time_gt replaced a previously registered function.\n",
      "25/06/09 19:31:40 WARN SimpleFunctionRegistry: The function time_gte replaced a previously registered function.\n",
      "25/06/09 19:31:40 WARN SimpleFunctionRegistry: The function time_lt replaced a previously registered function.\n",
      "25/06/09 19:31:40 WARN SimpleFunctionRegistry: The function time_lte replaced a previously registered function.\n",
      "25/06/09 19:31:40 WARN SimpleFunctionRegistry: The function datetime_add_duration replaced a previously registered function.\n",
      "25/06/09 19:31:40 WARN SimpleFunctionRegistry: The function datetime_subtract_duration replaced a previously registered function.\n",
      "25/06/09 19:31:40 WARN SimpleFunctionRegistry: The function datetime_eq replaced a previously registered function.\n",
      "25/06/09 19:31:40 WARN SimpleFunctionRegistry: The function datetime_gt replaced a previously registered function.\n",
      "25/06/09 19:31:40 WARN SimpleFunctionRegistry: The function datetime_gte replaced a previously registered function.\n",
      "25/06/09 19:31:40 WARN SimpleFunctionRegistry: The function datetime_lt replaced a previously registered function.\n",
      "25/06/09 19:31:40 WARN SimpleFunctionRegistry: The function datetime_lte replaced a previously registered function.\n",
      "25/06/09 19:31:40 WARN SimpleFunctionRegistry: The function coding_to_literal replaced a previously registered function.\n",
      "25/06/09 19:31:40 WARN SimpleFunctionRegistry: The function date_diff replaced a previously registered function.\n"
     ]
    }
   ],
   "source": [
    "from pathling import PathlingContext, Expression as exp\n",
    "from pyspark.sql import SparkSession\n",
    "\n",
    "from pyspark.sql.functions import col, regexp_replace, to_date\n",
    "\n",
    "spark = (\n",
    "    SparkSession.builder.config(\n",
    "        \"spark.jars.packages\",\n",
    "        \"au.csiro.pathling:library-runtime:7.2.0,\",\n",
    "        # \"io.delta:delta-core_2.12:2.4.0,\"\n",
    "        # \"org.apache.hadoop:hadoop-aws:3.3.4\",\n",
    "    )\n",
    "    .config(\"spark.executor.memory\", \"18g\")\n",
    "    .config(\"spark.driver.memory\", \"20g\")\n",
    "    .config(\"spark.serializer\", \"org.apache.spark.serializer.KryoSerializer\")\n",
    "    .getOrCreate()\n",
    ")\n",
    "\n",
    "spark.sparkContext.setCheckpointDir(\"/tmp\")\n",
    "\n",
    "pc = PathlingContext.create(\n",
    "    spark=spark,\n",
    "    enable_extensions=True,\n",
    "    enable_delta=True,\n",
    "    enable_terminology=False,\n",
    ")"
   ]
  },
  {
   "cell_type": "code",
   "execution_count": 41,
   "id": "8511c788-e0c5-47cf-bda4-b75038d86075",
   "metadata": {
    "execution": {
     "iopub.execute_input": "2025-06-05T18:52:48.248348Z",
     "iopub.status.busy": "2025-06-05T18:52:48.247766Z",
     "iopub.status.idle": "2025-06-05T18:52:49.879123Z",
     "shell.execute_reply": "2025-06-05T18:52:49.877714Z",
     "shell.execute_reply.started": "2025-06-05T18:52:48.248296Z"
    }
   },
   "outputs": [],
   "source": [
    "### Load Patient Data\n",
    "# Wir laden die einzelnen FHIR-Bundles in eine Pathling data source\n",
    "\n",
    "# !!Vorher müssen die json-Files in den Ordner data/ hier in die Laufzeit hochgeladen werden!!\n",
    "# TO DO: curl repo and download images here\n",
    "\n",
    "data = pc.read.bundles(\"./data\", [\"Patient\", \"Condition\", \"Observation\", \"Procedure\"])"
   ]
  },
  {
   "cell_type": "code",
   "execution_count": 42,
   "id": "a7abc06b-10a8-4550-bcf8-85439b7a1eed",
   "metadata": {
    "execution": {
     "iopub.execute_input": "2025-06-05T18:52:49.882024Z",
     "iopub.status.busy": "2025-06-05T18:52:49.881498Z",
     "iopub.status.idle": "2025-06-05T18:52:49.888568Z",
     "shell.execute_reply": "2025-06-05T18:52:49.887924Z",
     "shell.execute_reply.started": "2025-06-05T18:52:49.881973Z"
    }
   },
   "outputs": [
    {
     "data": {
      "text/plain": [
       "<pathling.datasource.DataSource at 0x7226ab1d8890>"
      ]
     },
     "execution_count": 42,
     "metadata": {},
     "output_type": "execute_result"
    }
   ],
   "source": [
    "data"
   ]
  },
  {
   "cell_type": "markdown",
   "id": "4c07e9d5-4a49-4144-a1e3-37a0820f493e",
   "metadata": {},
   "source": [
    "_______________________________________________________________________"
   ]
  },
  {
   "cell_type": "markdown",
   "id": "781897be-b1af-428b-a036-c2cae5f1c703",
   "metadata": {},
   "source": [
    "# MII Resourcen - Erweiterungsmodul Onkologie\n",
    "## Implementation Guide\n",
    "https://simplifier.net/guide/mii-ig-modul-onkologie-2024-de/MIIIGModulOnkologie?version=current"
   ]
  },
  {
   "cell_type": "markdown",
   "id": "67a50695-b1e7-4c60-a670-7f3754848b5e",
   "metadata": {},
   "source": [
    "# THEMEN:\n",
    "## 1. Extract\n",
    "## 2. Combining Resource Types\n",
    "### 2.1 Join \n",
    "### 2.2 Resolve \n",
    "### 2.3 ReverseResolve\n",
    "## 3. GROUP EXERCISE\n",
    "________________________________________________________________________"
   ]
  },
  {
   "cell_type": "markdown",
   "id": "12e68dc2-c2df-4c96-af4c-391564e165ae",
   "metadata": {},
   "source": [
    "# 1. Extract"
   ]
  },
  {
   "cell_type": "markdown",
   "id": "d61e7b40-a051-494b-bbbc-b663f87d45fd",
   "metadata": {},
   "source": [
    "## PATIENT -- RESOURCENTYP: PATIENT\n",
    "https://www.medizininformatik-initiative.de/Kerndatensatz/Modul_Person_Version_2/MIIIGModulPerson-TechnischeImplementierung-FHIR-Profile-PseudonymisiertePatientinPatient.html "
   ]
  },
  {
   "cell_type": "code",
   "execution_count": 43,
   "id": "d24e2385-d2dd-4be3-a2aa-10b3b1ae3732",
   "metadata": {
    "execution": {
     "iopub.execute_input": "2025-06-05T18:52:52.844494Z",
     "iopub.status.busy": "2025-06-05T18:52:52.843865Z",
     "iopub.status.idle": "2025-06-05T18:52:56.286427Z",
     "shell.execute_reply": "2025-06-05T18:52:56.284929Z",
     "shell.execute_reply.started": "2025-06-05T18:52:52.844442Z"
    }
   },
   "outputs": [
    {
     "name": "stderr",
     "output_type": "stream",
     "text": [
      "                                                                                \r"
     ]
    },
    {
     "name": "stdout",
     "output_type": "stream",
     "text": [
      "72\n"
     ]
    }
   ],
   "source": [
    "### Extract Patient Data\n",
    "\n",
    "# Wir nutzen `extract`, um nur den Resourcentyp Patient aus der Pathling datasource zu extrahieren und in einen Pyspark Dataframe zu laden\n",
    "# mithilfe von FHIR Path Ausdrücken können wir in Arrays verschachtelte FHIR Elemente \"ausklappen\" und als Spalte darstellen\n",
    "# exp(\"<FHIR Path Ausdruck>\", \"<Spaltenname>\")\n",
    "\n",
    "# Dabei extrahieren wir:\n",
    "# - die einmalige FHIR Resource ID für jede Patientenresource\n",
    "# - die pseudonymisierte Patienten-ID\n",
    "# - das Geschlecht\n",
    "# - das Geburtsdatum\n",
    "# - das Sterbedatum\n",
    "\n",
    "patients = data.extract(\n",
    "    \"Patient\",\n",
    "    columns=[\n",
    "        exp(\"id\", \"patient_resource_id\"),\n",
    "        exp(\n",
    "            \"identifier.where(type.coding.where(system='http://terminology.hl7.org/CodeSystem/v2-0203' and code='MR').exists()).value\",\n",
    "            \"patid_pseudonym\",\n",
    "        ),\n",
    "        exp(\"gender\", \"gender\"),\n",
    "        exp(\"birthDate\", \"birth_date\"),\n",
    "        exp(\"deceasedDateTime\", \"deceased_datetime\"),\n",
    "    ],\n",
    ")\n",
    "\n",
    "# da die extract Funktion relativ resourcenintensiv werden kann in Abhängigkeit der Datenmenge, und da Spark \"lazy\" agiert, lohnt es sich hier Spark Checkpoint einzusetzen\n",
    "# \"lazy\" bedeutet, dass Spark alle Befehle in einer To Do Liste sammelt und erst nach einer \"Action\" ausführt.\n",
    "# Außerdem speichert Spark keinen materialisierten Zwischenstand des dataframes, wenn man das nicht ausdrücklich verlangt\n",
    "# mithilfe des Checkpoints können wir einen solchen Zwischenstand des dataframes zwischenspeichern und verhindern somit, dass Spark dieselben Schritte immer wieder ausführt\n",
    "# das \"count\" brauchen wir hier als Action, damit auch der checkpoint sofort ausgeführt wird und nicht aufgrund der \"laziness\" in die To Do Liste wandert\n",
    "# mithilfe von spark.sparkContext.setCheckpointDir() können wir den Speicherort der Checkpoints festlegen\n",
    "\n",
    "patients = patients.checkpoint(eager=True)\n",
    "patients_count = patients.count()  # enforce checkpoint\n",
    "\n",
    "print(patients_count)"
   ]
  },
  {
   "cell_type": "code",
   "execution_count": 44,
   "id": "878ed3d5-23db-456a-bc40-369b02f0cdaa",
   "metadata": {
    "execution": {
     "iopub.execute_input": "2025-06-05T18:52:56.289688Z",
     "iopub.status.busy": "2025-06-05T18:52:56.288868Z",
     "iopub.status.idle": "2025-06-05T18:52:56.391131Z",
     "shell.execute_reply": "2025-06-05T18:52:56.390608Z",
     "shell.execute_reply.started": "2025-06-05T18:52:56.289639Z"
    }
   },
   "outputs": [
    {
     "name": "stdout",
     "output_type": "stream",
     "text": [
      "+-------------------+----------------+------+----------+-----------------+\n",
      "|patient_resource_id| patid_pseudonym|gender|birth_date|deceased_datetime|\n",
      "+-------------------+----------------+------+----------+-----------------+\n",
      "|   60271b372396f53a|2f4017ec9a0d48c3|female|1954-06-30|       2024-07-25|\n",
      "|   64ffc8f6e2a04bf5|1f8367d0b53064c2|  male|1940-06-22|       2024-04-16|\n",
      "|   114b17715cd8962f|7a258cbfec3c558c|  male|1948-12-06|       2023-11-10|\n",
      "|   733b6df2aeaaff06|897acc358f405500|female|1935-08-21|       2019-06-25|\n",
      "|   9ba79939ecbcae8f|550d43f7d5cc0b99|  male|1952-03-09|       2019-04-09|\n",
      "|   e5c41057a1b66cda|6d85de25529cff53|  male|1939-06-28|             NULL|\n",
      "|   c9a0ff4052f66694|7376eec3bda52c36|  male|1954-09-05|             NULL|\n",
      "|   150dcba579b4985d|99f5a1dcf9839f0a|  male|2010-12-16|             NULL|\n",
      "|   fec730686892c631|dbff7aa920956fde|  male|1952-07-20|             NULL|\n",
      "|   e6f48bd3bc9800c8|9c66451b0837e1a8|female|1975-07-08|             NULL|\n",
      "|   c8490233e2b2a928|777535caa6d34e27|  male|1970-01-06|             NULL|\n",
      "|   f3c131b13cbe3216|9028a3386120ec94|  male|1960-01-05|             NULL|\n",
      "|   f44db4a5131c0ae2|10e14a11759058db|female|1945-06-01|             NULL|\n",
      "|   4eb565eedf9e2d7c|bb1f1e250eb74db1|  male|1958-07-03|             NULL|\n",
      "|   ba3253fe6ca96286|ad09e0030f7313f6|  male|1947-09-06|             NULL|\n",
      "|   69644926a2875823|8988ec5db74e3446|female|1949-12-13|             NULL|\n",
      "|   9a80d68214de0bd4|0fe7da3a23578158|female|1946-12-16|             NULL|\n",
      "|   e6573e3c68ea98f2|690fc95f6e6ac7bb|female|1943-09-12|             NULL|\n",
      "|   9a79159bda44a2de|7c0adc238acd5789|  male|1993-01-19|             NULL|\n",
      "|   cc2d75349812f146|03dce5400ee975cd|  male|1939-01-26|             NULL|\n",
      "|   ede861350630aad2|65af284f62167c91|  male|1959-06-02|             NULL|\n",
      "|   21560e6558e3bce2|5c2b413aa84ba1da|female|1962-11-24|             NULL|\n",
      "|   68a0e992e0d91698|265576fcb9672764|  male|1958-02-26|             NULL|\n",
      "|   52b7120e3fc05325|b086d01df7325249|  male|1965-06-22|             NULL|\n",
      "|   1f397d69496919fc|a2d3e71c34993a0b|  male|1991-08-11|             NULL|\n",
      "|   6b8a354c3efad190|a5f9039dc93a3ec5|  male|1971-11-30|             NULL|\n",
      "|   7f2318f53b459500|af2c6ffe972bd869|female|1970-07-21|             NULL|\n",
      "|   ab0f1ed341372001|2b652c00c32a7f23|  male|1965-07-29|             NULL|\n",
      "|   1a29351020e186a6|ae54708e21efe7ba|  male|1946-08-04|             NULL|\n",
      "|   7bd4e4bef7525055|2fd13c28ea85341f|female|1974-10-25|             NULL|\n",
      "|   437e8f9eae081c75|fc10ae29d9fa0a14|  male|1948-04-06|             NULL|\n",
      "|   0c5298eb234951b1|012657b165e05913|  male|1965-01-18|             NULL|\n",
      "|   f0307634eb85ac96|e21bddef1c8868d6|female|1946-09-03|             NULL|\n",
      "|   4a58365a0b7626a8|6c361d87cf623ee9|female|1962-10-25|             NULL|\n",
      "|   bc2a1febe3171a48|6e10064de82b37de|  male|1973-08-13|             NULL|\n",
      "|   b232a510b3cbd410|0edf6e1e8ad3e607|female|1966-07-19|             NULL|\n",
      "|   50cbcfff7d06dc25|e0f490515d505599|female|1986-11-04|             NULL|\n",
      "|   3875fc2637316141|74f005020d523886|female|2003-09-14|             NULL|\n",
      "|   d519100ec65f8463|8a5f68d4af98aeca|female|1938-03-09|             NULL|\n",
      "|   835107adef733603|88370bc88e2f867e|  male|1977-04-18|             NULL|\n",
      "|   be346e0fecc66702|c3cb058158b22b69|female|1944-10-11|             NULL|\n",
      "|   0fae573b17cb69e5|54656b6bc73b3e67|  male|1957-02-18|             NULL|\n",
      "|   e33a2618c6e1a606|0475687e595c4b7b|female|1954-10-13|             NULL|\n",
      "|   0a5f3ad16294b73a|faa462f05466be4d|  male|1954-08-21|             NULL|\n",
      "|   ceb53268e9158898|0f069f1f4799b1ca|female|2024-02-04|             NULL|\n",
      "|   3b2f3fa2e95230cd|d11500d025918563|  male|1972-08-18|             NULL|\n",
      "|   eb49c8cc92207e82|4dfd45ed72c18f56|  male|1954-05-08|             NULL|\n",
      "|   b90e420a6b680c0d|daea3f56491d7e11|  male|1967-06-27|             NULL|\n",
      "|   61ed44a223187661|bc1a1b4fe47fdb71|  male|1949-04-29|             NULL|\n",
      "|   d239c43f8031a31f|e84f76477c5b0028|female|1946-12-17|             NULL|\n",
      "|   3cda8e94d07a0709|59a13bc638788557|female|1986-10-05|             NULL|\n",
      "|   146b0071371fe6e6|e9a460fd4950bcb0|  male|1974-02-04|             NULL|\n",
      "|   3698207ddd269247|033959a00c40ffb4|female|1971-10-30|             NULL|\n",
      "|   79fa4eb7cadef929|ca363e555351a324|female|1945-01-27|             NULL|\n",
      "|   847d834b896e3a1d|874de26b0fe8d1ec|  male|1970-05-13|             NULL|\n",
      "|   ce38bdeb6979b366|fd59faa459aa1b58|female|2006-03-11|             NULL|\n",
      "|   eb9728de512f00ec|15d8e14a10e068b8|female|1958-11-13|             NULL|\n",
      "|   4f7b657ae62cb1f0|e585243ed4c6ba5b|female|1943-11-05|             NULL|\n",
      "|   f7af2b9dcfa04d8c|a61f3e73ee67760a|  male|1995-04-19|             NULL|\n",
      "|   1e2fd734cf35cf44|c407872dea98a2b9|  male|1949-11-15|             NULL|\n",
      "|   35ead2589e72ad07|54d3b4d0a7737549|  male|1983-12-14|             NULL|\n",
      "|   e243400fe9c43b79|66114d9620ecd6f3|  male|1981-05-08|             NULL|\n",
      "|   befae30c74019b1c|e6453cef780335f7|  male|1955-12-28|             NULL|\n",
      "|   a1d728be37480030|6e98dce2f6665e34|  male|1985-09-20|             NULL|\n",
      "|   5cc1af2309e29e00|ed9dc76fe9f770f2|  male|1955-11-23|             NULL|\n",
      "|   2077049623716fd1|b2720f34b89d9245|female|1940-12-07|             NULL|\n",
      "|   07ec02b49e0b7aba|02024496e0b0bbd0|  male|1952-07-26|             NULL|\n",
      "|   8e10679922d50f99|525435898cd242fd|  male|1954-02-04|             NULL|\n",
      "|   486a10dac0d746cd|d7052e8b2a67419f|  male|1976-03-06|             NULL|\n",
      "|   71d7ce5bbdf4c09a|3885e9aa7e691af0|female|1991-05-24|             NULL|\n",
      "|   d85cf173277cf6fc|7642512ad6451717|female|1949-05-23|             NULL|\n",
      "|   6be5fcae3308a468|a2f2aefd463efaba|female|1969-04-22|             NULL|\n",
      "+-------------------+----------------+------+----------+-----------------+\n",
      "\n"
     ]
    }
   ],
   "source": [
    "patients.show(72)"
   ]
  },
  {
   "cell_type": "code",
   "execution_count": 45,
   "id": "74e20cd6-0989-43c5-94f3-ace7a067dc7c",
   "metadata": {
    "execution": {
     "iopub.execute_input": "2025-06-05T18:52:56.391983Z",
     "iopub.status.busy": "2025-06-05T18:52:56.391801Z",
     "iopub.status.idle": "2025-06-05T18:52:56.505994Z",
     "shell.execute_reply": "2025-06-05T18:52:56.505050Z",
     "shell.execute_reply.started": "2025-06-05T18:52:56.391966Z"
    }
   },
   "outputs": [
    {
     "data": {
      "text/plain": [
       "72"
      ]
     },
     "execution_count": 45,
     "metadata": {},
     "output_type": "execute_result"
    }
   ],
   "source": [
    "# good practice: immer die Gesamtanzahl im Auge behalten\n",
    "# weil: potentiell explosionsartiges Duplizieren\n",
    "# z.B. mit count distinct resource ids --> manchmal kann ein zu ungenau spezifiziertes extract der Arrays dazu führen, dass durch das Aufklappen eines Arrays\n",
    "# mit mehr als einem Element mehrere Zeilen pro Patient (oder Diagnose, etc) erzeugt werden\n",
    "patients.select(\"patient_resource_id\").distinct().count()"
   ]
  },
  {
   "cell_type": "code",
   "execution_count": 46,
   "id": "eeeaf769-eaa3-4343-b7d0-5b112fd0e16b",
   "metadata": {
    "execution": {
     "iopub.execute_input": "2025-06-05T18:52:57.486034Z",
     "iopub.status.busy": "2025-06-05T18:52:57.485429Z",
     "iopub.status.idle": "2025-06-05T18:52:57.600811Z",
     "shell.execute_reply": "2025-06-05T18:52:57.599358Z",
     "shell.execute_reply.started": "2025-06-05T18:52:57.485983Z"
    }
   },
   "outputs": [
    {
     "name": "stdout",
     "output_type": "stream",
     "text": [
      "Verstorben: 5 , lebend oder unbekannt: 67\n"
     ]
    }
   ],
   "source": [
    "# Übung: Wieviele Patient*innen unserer Kohorte sind verstorben und wieviele leben noch bzw. haben keine Sterbeinformation?\n",
    "\n",
    "## LÖSUNG:\n",
    "verstorben = patients.filter(col(\"deceased_datetime\").isNotNull()).count()\n",
    "lebend = patients.filter(col(\"deceased_datetime\").isNull()).count()\n",
    "\n",
    "print(\"Verstorben:\", verstorben, \", lebend oder unbekannt:\", lebend)"
   ]
  },
  {
   "cell_type": "markdown",
   "id": "cf4ae697-dc40-4b42-9e41-ab7e2a514dd4",
   "metadata": {},
   "source": [
    "## PRIMAERDIAGNOSE -- RESOURCENTYP: CONDITION\n",
    "https://simplifier.net/guide/mii-ig-modul-onkologie-2024-de/MIIIGModulOnkologie/TechnischeImplementierung/FHIR-Profile/Diagnose/Diagnose-Condition.page.md?version=current"
   ]
  },
  {
   "cell_type": "code",
   "execution_count": 47,
   "id": "e7c3cfd9-cc4e-426b-b937-886b4911e2e0",
   "metadata": {
    "execution": {
     "iopub.execute_input": "2025-06-05T18:52:58.384986Z",
     "iopub.status.busy": "2025-06-05T18:52:58.383905Z",
     "iopub.status.idle": "2025-06-05T18:53:00.233582Z",
     "shell.execute_reply": "2025-06-05T18:53:00.232487Z",
     "shell.execute_reply.started": "2025-06-05T18:52:58.384946Z"
    }
   },
   "outputs": [
    {
     "name": "stderr",
     "output_type": "stream",
     "text": [
      "[Stage 437:>                                                        (0 + 7) / 7]\r"
     ]
    },
    {
     "name": "stdout",
     "output_type": "stream",
     "text": [
      "72\n"
     ]
    },
    {
     "name": "stderr",
     "output_type": "stream",
     "text": [
      "                                                                                \r"
     ]
    }
   ],
   "source": [
    "# wir extrahieren alle Diagnosen - jede Diagnose hat eine eindeutige ID\n",
    "# wieviele eindeutige Diagnosen haben wir?\n",
    "\n",
    "conditions = data.extract(\n",
    "    \"Condition\",\n",
    "    columns=[\n",
    "        exp(\"id\", \"condition_resource_id\"),\n",
    "    ],\n",
    ")\n",
    "conditions = conditions.checkpoint(eager=True)\n",
    "conditions_count = conditions.count()  # enforce checkpoint\n",
    "\n",
    "print(conditions_count)"
   ]
  },
  {
   "cell_type": "code",
   "execution_count": 48,
   "id": "bbdbd785-64bd-4246-b40f-70b5aaa69d38",
   "metadata": {
    "execution": {
     "iopub.execute_input": "2025-06-05T18:53:00.235815Z",
     "iopub.status.busy": "2025-06-05T18:53:00.235402Z",
     "iopub.status.idle": "2025-06-05T18:53:00.455666Z",
     "shell.execute_reply": "2025-06-05T18:53:00.454478Z",
     "shell.execute_reply.started": "2025-06-05T18:53:00.235779Z"
    }
   },
   "outputs": [
    {
     "data": {
      "text/plain": [
       "72"
      ]
     },
     "execution_count": 48,
     "metadata": {},
     "output_type": "execute_result"
    }
   ],
   "source": [
    "# good practice: count distinct ids\n",
    "conditions.select(\"condition_resource_id\").distinct().count()"
   ]
  },
  {
   "cell_type": "code",
   "execution_count": 49,
   "id": "0c51f743",
   "metadata": {},
   "outputs": [
    {
     "name": "stderr",
     "output_type": "stream",
     "text": [
      "                                                                                \r"
     ]
    },
    {
     "name": "stdout",
     "output_type": "stream",
     "text": [
      "72\n"
     ]
    }
   ],
   "source": [
    "# dazu extrahieren wir den ICD10 Diagnose Code\n",
    "\n",
    "# \"where\" in der FHIR Path Expression exp...() ist die Projektion (analog zu WHERE in SQL)\n",
    "# das \"where\" im Filter ist die tatsächliche Selektion (analog zu SELECT in SQL)\n",
    "\n",
    "conditions = data.extract(\n",
    "    \"Condition\",\n",
    "    columns=[\n",
    "        exp(\"id\", \"condition_resource_id\"),\n",
    "        exp(\n",
    "            \"code.coding.where(system = 'http://fhir.de/CodeSystem/bfarm/icd-10-gm').code\",  # explizit system angeben, falls es noch weitere Codings mit anderen Systemen gibt\n",
    "            \"icd10_code\",\n",
    "        ),\n",
    "    ],\n",
    "    filters=[\n",
    "        \"code.coding.where(system = 'http://fhir.de/CodeSystem/bfarm/icd-10-gm').exists()\"  # explizit System nochmal selektieren, um NULL rows zu entfernen, die durch andere Codings ggf. entstehen\n",
    "    ],\n",
    ")\n",
    "\n",
    "conditions = conditions.checkpoint(eager=True)\n",
    "conditions_count = conditions.count()  # enforce checkpoint\n",
    "\n",
    "print(conditions_count)"
   ]
  },
  {
   "cell_type": "code",
   "execution_count": 50,
   "id": "43e79cf5",
   "metadata": {},
   "outputs": [
    {
     "data": {
      "text/plain": [
       "['C15.3',\n",
       " 'C15.4',\n",
       " 'C15.5',\n",
       " 'C15.9',\n",
       " 'C18.0',\n",
       " 'C18.1',\n",
       " 'C18.2',\n",
       " 'C18.3',\n",
       " 'C18.4',\n",
       " 'C18.7',\n",
       " 'C18.8',\n",
       " 'C25.0',\n",
       " 'C25.1',\n",
       " 'C25.2',\n",
       " 'C71.0',\n",
       " 'C71.1',\n",
       " 'C71.2',\n",
       " 'C71.5',\n",
       " 'D33.1',\n",
       " 'D43.0',\n",
       " 'D43.1']"
      ]
     },
     "execution_count": 50,
     "metadata": {},
     "output_type": "execute_result"
    }
   ],
   "source": [
    "# Welche Diagnosen kommen in unserem Datensatz vor?\n",
    "\n",
    "icd10_codes = (\n",
    "    conditions.select(\"icd10_code\")\n",
    "    .distinct()\n",
    "    .orderBy(\"icd10_code\")\n",
    "    .rdd.flatMap(lambda x: x)\n",
    "    .collect()\n",
    ")\n",
    "icd10_codes"
   ]
  },
  {
   "cell_type": "code",
   "execution_count": 51,
   "id": "7ba1e24c-bc27-4918-abbb-9f5eecc1fc2a",
   "metadata": {
    "execution": {
     "iopub.execute_input": "2025-06-05T18:53:06.775018Z",
     "iopub.status.busy": "2025-06-05T18:53:06.774551Z",
     "iopub.status.idle": "2025-06-05T18:53:13.712298Z",
     "shell.execute_reply": "2025-06-05T18:53:13.711291Z",
     "shell.execute_reply.started": "2025-06-05T18:53:06.774987Z"
    }
   },
   "outputs": [
    {
     "name": "stderr",
     "output_type": "stream",
     "text": [
      "                                                                                \r"
     ]
    },
    {
     "name": "stdout",
     "output_type": "stream",
     "text": [
      "Falscher count:  144\n"
     ]
    }
   ],
   "source": [
    "# Achtung vor explodierenden row counts und Duplikaten!\n",
    "\n",
    "# die Duplikation entsteht erst wenn ein Element auf condition ebene (höher als code.coding.code Ebene) hinzukommt zum\n",
    "# framework macht intern einen cross join\n",
    "# https://pathling.csiro.au/docs/server/operations/extract --> siehe Abschnitt \"Notes\"\n",
    "conditions = data.extract(\n",
    "    \"Condition\",\n",
    "    columns=[\n",
    "        exp(\"id\", \"condition_resource_id\"),\n",
    "        exp(\n",
    "            \"code.coding.where(system = 'http://fhir.de/CodeSystem/bfarm/icd-10-gm').code\",\n",
    "            \"icd10_code\",\n",
    "        ),  # kardinalität 0...1\n",
    "        exp(\n",
    "            \"extension('http://hl7.org/fhir/StructureDefinition/condition-assertedDate').valueDateTime\",\n",
    "            \"date_diagnosis\",\n",
    "        ),  # kardinalität 1..1\n",
    "    ],\n",
    "    filters=[\n",
    "        \"code.coding.where(system = 'http://fhir.de/CodeSystem/bfarm/icd-10-gm').exists()\",\n",
    "    ],\n",
    ")\n",
    "\n",
    "conditions = conditions.checkpoint(eager=True)\n",
    "conditions_count = conditions.count()  # enforce checkpoint\n",
    "\n",
    "print(\"Falscher count: \", conditions_count)"
   ]
  },
  {
   "cell_type": "code",
   "execution_count": 52,
   "id": "f7f73f4b-a38c-4a8d-ad4e-a2127766b019",
   "metadata": {
    "execution": {
     "iopub.execute_input": "2025-06-05T18:53:13.714335Z",
     "iopub.status.busy": "2025-06-05T18:53:13.713830Z",
     "iopub.status.idle": "2025-06-05T18:53:13.845395Z",
     "shell.execute_reply": "2025-06-05T18:53:13.844210Z",
     "shell.execute_reply.started": "2025-06-05T18:53:13.714288Z"
    }
   },
   "outputs": [
    {
     "name": "stdout",
     "output_type": "stream",
     "text": [
      "distinct id count ist immer noch: 72\n"
     ]
    }
   ],
   "source": [
    "print(\n",
    "    \"distinct id count ist immer noch:\",\n",
    "    conditions.select(\"condition_resource_id\").distinct().count(),\n",
    ")"
   ]
  },
  {
   "cell_type": "code",
   "execution_count": 53,
   "id": "70644063-53eb-404e-a1dd-dc05c998e3e0",
   "metadata": {
    "execution": {
     "iopub.execute_input": "2025-06-05T18:53:13.847558Z",
     "iopub.status.busy": "2025-06-05T18:53:13.847054Z",
     "iopub.status.idle": "2025-06-05T18:53:13.907965Z",
     "shell.execute_reply": "2025-06-05T18:53:13.906781Z",
     "shell.execute_reply.started": "2025-06-05T18:53:13.847510Z"
    }
   },
   "outputs": [
    {
     "name": "stdout",
     "output_type": "stream",
     "text": [
      "+---------------------+----------+--------------+\n",
      "|condition_resource_id|icd10_code|date_diagnosis|\n",
      "+---------------------+----------+--------------+\n",
      "|     6b612dd173fa5544|     C18.0|    2023-08-20|\n",
      "|     6b612dd173fa5544|     C18.0|          NULL|\n",
      "|     d80a996d35bb0d68|     C18.2|    2024-06-19|\n",
      "|     d80a996d35bb0d68|     C18.2|          NULL|\n",
      "|     e72e5f5440a7ffc5|     C25.0|    2022-07-06|\n",
      "|     e72e5f5440a7ffc5|     C25.0|          NULL|\n",
      "|     6961f769aab1b8cd|     C15.5|    2022-11-09|\n",
      "|     6961f769aab1b8cd|     C15.5|          NULL|\n",
      "|     08405c94eb7dc213|     C15.9|    2023-11-24|\n",
      "|     08405c94eb7dc213|     C15.9|          NULL|\n",
      "|     96fe81bd47dd30e1|     C25.0|    2018-01-23|\n",
      "|     96fe81bd47dd30e1|     C25.0|          NULL|\n",
      "|     ec1575c28af09b0b|     C15.4|    2024-07-05|\n",
      "|     ec1575c28af09b0b|     C15.4|          NULL|\n",
      "|     bba49ef6a65e1746|     C25.1|    2023-10-06|\n",
      "|     bba49ef6a65e1746|     C25.1|          NULL|\n",
      "|     b6d5a69ce456abf0|     C15.5|    2024-05-13|\n",
      "|     b6d5a69ce456abf0|     C15.5|          NULL|\n",
      "|     8a67aa6b1dec51d2|     C18.4|    2024-07-26|\n",
      "|     8a67aa6b1dec51d2|     C18.4|          NULL|\n",
      "+---------------------+----------+--------------+\n",
      "only showing top 20 rows\n",
      "\n"
     ]
    }
   ],
   "source": [
    "# hier siehst du, dass dupliziert wurde --> jede condition_resource_id kommt jetzt 2x vor\n",
    "conditions.show()"
   ]
  },
  {
   "cell_type": "code",
   "execution_count": 54,
   "id": "4bcf36e6-c19d-40af-994b-28a52e3a3e98",
   "metadata": {
    "execution": {
     "iopub.execute_input": "2025-06-05T18:53:13.910458Z",
     "iopub.status.busy": "2025-06-05T18:53:13.909530Z",
     "iopub.status.idle": "2025-06-05T18:53:19.653767Z",
     "shell.execute_reply": "2025-06-05T18:53:19.652275Z",
     "shell.execute_reply.started": "2025-06-05T18:53:13.910413Z"
    }
   },
   "outputs": [
    {
     "name": "stderr",
     "output_type": "stream",
     "text": [
      "                                                                                \r"
     ]
    },
    {
     "name": "stdout",
     "output_type": "stream",
     "text": [
      "72\n"
     ]
    }
   ],
   "source": [
    "# wir brauchen da ein first wo wir sicher sind, dass es nur max. einmal vorkommen kann --> Stichwort Kardinalitäten (0...1 oder 1...1)\n",
    "conditions = data.extract(\n",
    "    \"Condition\",\n",
    "    columns=[\n",
    "        exp(\"id\", \"condition_resource_id\"),\n",
    "        exp(\n",
    "            \"code.coding.where(system = 'http://fhir.de/CodeSystem/bfarm/icd-10-gm').code.first()\",\n",
    "            \"icd10_code\",\n",
    "        ),  # kardinalität 0...1\n",
    "        exp(\n",
    "            \"extension('http://hl7.org/fhir/StructureDefinition/condition-assertedDate').valueDateTime.first()\",\n",
    "            \"date_diagnosis\",\n",
    "        ),  # kardinalität 1..1\n",
    "        exp(\"recordedDate\", \"recorded_date\"),\n",
    "    ],\n",
    "    filters=[\n",
    "        \"code.coding.where(system = 'http://fhir.de/CodeSystem/bfarm/icd-10-gm').exists()\",\n",
    "    ],\n",
    ")\n",
    "\n",
    "conditions = conditions.checkpoint(eager=True)\n",
    "conditions_count = conditions.count()  # enforce checkpoint\n",
    "\n",
    "print(conditions_count)"
   ]
  },
  {
   "cell_type": "code",
   "execution_count": 55,
   "id": "fa00ef5f-ba15-4e7b-ac62-183d5ad0fb1a",
   "metadata": {
    "execution": {
     "iopub.execute_input": "2025-06-05T18:53:19.656456Z",
     "iopub.status.busy": "2025-06-05T18:53:19.655472Z",
     "iopub.status.idle": "2025-06-05T18:53:19.693340Z",
     "shell.execute_reply": "2025-06-05T18:53:19.692344Z",
     "shell.execute_reply.started": "2025-06-05T18:53:19.656401Z"
    }
   },
   "outputs": [
    {
     "name": "stdout",
     "output_type": "stream",
     "text": [
      "+---------------------+----------+--------------+-------------+\n",
      "|condition_resource_id|icd10_code|date_diagnosis|recorded_date|\n",
      "+---------------------+----------+--------------+-------------+\n",
      "|     051e5a0e019c30ce|     C18.3|    2024-03-04|   2025-01-26|\n",
      "|     07d2b410e5cfbe5f|     C15.4|    2024-09-28|   2024-11-02|\n",
      "|     08405c94eb7dc213|     C15.9|    2023-11-24|   2024-08-03|\n",
      "|     08e306e6917943c2|     C15.4|    2024-02-29|   2024-08-17|\n",
      "|     09fc5566cf6f17ad|     C18.0|    2024-04-23|   2024-08-03|\n",
      "|     0c9a439a485d1cfa|     C15.5|    2023-04-21|   2024-10-27|\n",
      "|     0f8531c4327ebbd2|     C18.7|    2024-06-21|   2024-09-02|\n",
      "|     15c02d0d9eb2c08c|     C71.0|    2024-01-05|   2024-12-21|\n",
      "|     1d3fcafbde7a3d24|     C18.0|    2024-08-15|   2024-08-15|\n",
      "|     1ee93bb69d5a0f4f|     C71.5|    2024-07-16|   2024-09-21|\n",
      "|     1f080c26891c70a0|     C18.0|    2023-02-11|   2024-09-03|\n",
      "|     237e4fb6ac5a7cc7|     C18.1|    2021-09-25|   2024-08-22|\n",
      "|     24024157215224ee|     C15.4|    2023-03-28|   2024-10-05|\n",
      "|     247b1136711dfde0|     C25.0|    2024-03-04|   2024-11-04|\n",
      "|     252eb9211bc1b339|     C71.2|    2024-07-14|   2024-09-02|\n",
      "|     2f3efa62ead346da|     C15.5|    2024-01-25|   2024-08-26|\n",
      "|     3a3c465876a7d36a|     C18.7|    2022-11-06|   2024-09-14|\n",
      "|     3c3a5386810aaab1|     C18.1|    2023-09-30|   2024-12-10|\n",
      "|     436924e03db67321|     C71.0|    2022-10-15|   2024-10-02|\n",
      "|     48ca83204ae98070|     C71.0|    2024-06-27|   2024-09-21|\n",
      "+---------------------+----------+--------------+-------------+\n",
      "only showing top 20 rows\n",
      "\n"
     ]
    }
   ],
   "source": [
    "# hier siehst du jetzt, dass die doppelte Zeile mit condition_resource_id korrekterweise wieder entfernt wurde\n",
    "conditions.show()"
   ]
  },
  {
   "cell_type": "code",
   "execution_count": 56,
   "id": "0cf2d112-4a80-415a-979f-b2be6db510a8",
   "metadata": {
    "execution": {
     "iopub.execute_input": "2025-06-05T18:53:19.699080Z",
     "iopub.status.busy": "2025-06-05T18:53:19.698439Z",
     "iopub.status.idle": "2025-06-05T18:53:25.063468Z",
     "shell.execute_reply": "2025-06-05T18:53:25.062283Z",
     "shell.execute_reply.started": "2025-06-05T18:53:19.699063Z"
    }
   },
   "outputs": [
    {
     "name": "stderr",
     "output_type": "stream",
     "text": [
      "                                                                                \r"
     ]
    },
    {
     "name": "stdout",
     "output_type": "stream",
     "text": [
      "72\n"
     ]
    }
   ],
   "source": [
    "# Referenz zum Patienten\n",
    "conditions = data.extract(\n",
    "    \"Condition\",\n",
    "    columns=[\n",
    "        exp(\"id\", \"condition_resource_id\"),\n",
    "        exp(\n",
    "            \"code.coding.where(system = 'http://fhir.de/CodeSystem/bfarm/icd-10-gm').code.first()\",\n",
    "            \"icd10_code\",\n",
    "        ),  # kardinalität 0...1\n",
    "        exp(\n",
    "            \"extension('http://hl7.org/fhir/StructureDefinition/condition-assertedDate').valueDateTime.first()\",\n",
    "            \"date_diagnosis\",\n",
    "        ),  # kardinalität 1..1\n",
    "        exp(\"subject.reference\", \"condition_subject_reference\"),\n",
    "    ],\n",
    "    filters=[\n",
    "        \"code.coding.where(system = 'http://fhir.de/CodeSystem/bfarm/icd-10-gm').exists()\"\n",
    "    ],\n",
    ")\n",
    "\n",
    "conditions = conditions.checkpoint(eager=True)\n",
    "conditions_count = conditions.count()  # enforce checkpoint\n",
    "\n",
    "print(conditions_count)"
   ]
  },
  {
   "cell_type": "code",
   "execution_count": 57,
   "id": "c6080f72-83af-4eef-9b76-fcabaae181ba",
   "metadata": {
    "execution": {
     "iopub.execute_input": "2025-06-05T18:53:25.065271Z",
     "iopub.status.busy": "2025-06-05T18:53:25.064994Z",
     "iopub.status.idle": "2025-06-05T18:53:25.092871Z",
     "shell.execute_reply": "2025-06-05T18:53:25.091751Z",
     "shell.execute_reply.started": "2025-06-05T18:53:25.065245Z"
    }
   },
   "outputs": [
    {
     "name": "stdout",
     "output_type": "stream",
     "text": [
      "+---------------------+----------+--------------+---------------------------+\n",
      "|condition_resource_id|icd10_code|date_diagnosis|condition_subject_reference|\n",
      "+---------------------+----------+--------------+---------------------------+\n",
      "|     051e5a0e019c30ce|     C18.3|    2024-03-04|       Patient/e5c41057a...|\n",
      "|     07d2b410e5cfbe5f|     C15.4|    2024-09-28|       Patient/ab0f1ed34...|\n",
      "|     08405c94eb7dc213|     C15.9|    2023-11-24|       Patient/eb9728de5...|\n",
      "|     08e306e6917943c2|     C15.4|    2024-02-29|       Patient/21560e655...|\n",
      "|     09fc5566cf6f17ad|     C18.0|    2024-04-23|       Patient/0fae573b1...|\n",
      "|     0c9a439a485d1cfa|     C15.5|    2023-04-21|       Patient/61ed44a22...|\n",
      "|     0f8531c4327ebbd2|     C18.7|    2024-06-21|       Patient/b90e420a6...|\n",
      "|     15c02d0d9eb2c08c|     C71.0|    2024-01-05|       Patient/64ffc8f6e...|\n",
      "|     1d3fcafbde7a3d24|     C18.0|    2024-08-15|       Patient/e6f48bd3b...|\n",
      "|     1ee93bb69d5a0f4f|     C71.5|    2024-07-16|       Patient/3875fc263...|\n",
      "|     1f080c26891c70a0|     C18.0|    2023-02-11|       Patient/1a2935102...|\n",
      "|     237e4fb6ac5a7cc7|     C18.1|    2021-09-25|       Patient/7bd4e4bef...|\n",
      "|     24024157215224ee|     C15.4|    2023-03-28|       Patient/35ead2589...|\n",
      "|     247b1136711dfde0|     C25.0|    2024-03-04|       Patient/eb49c8cc9...|\n",
      "|     252eb9211bc1b339|     C71.2|    2024-07-14|       Patient/07ec02b49...|\n",
      "|     2f3efa62ead346da|     C15.5|    2024-01-25|       Patient/1e2fd734c...|\n",
      "|     3a3c465876a7d36a|     C18.7|    2022-11-06|       Patient/ede861350...|\n",
      "|     3c3a5386810aaab1|     C18.1|    2023-09-30|       Patient/3cda8e94d...|\n",
      "|     436924e03db67321|     C71.0|    2022-10-15|       Patient/9a80d6821...|\n",
      "|     48ca83204ae98070|     C71.0|    2024-06-27|       Patient/150dcba57...|\n",
      "+---------------------+----------+--------------+---------------------------+\n",
      "only showing top 20 rows\n",
      "\n"
     ]
    }
   ],
   "source": [
    "conditions.show()"
   ]
  },
  {
   "cell_type": "code",
   "execution_count": 58,
   "id": "e5943f9e-e208-4895-9cef-e406c7ed40d5",
   "metadata": {
    "execution": {
     "iopub.execute_input": "2025-06-05T18:53:25.095087Z",
     "iopub.status.busy": "2025-06-05T18:53:25.094336Z",
     "iopub.status.idle": "2025-06-05T18:53:25.138651Z",
     "shell.execute_reply": "2025-06-05T18:53:25.137567Z",
     "shell.execute_reply.started": "2025-06-05T18:53:25.095043Z"
    }
   },
   "outputs": [
    {
     "name": "stdout",
     "output_type": "stream",
     "text": [
      "+-------------------+----------------+------+----------+-----------------+\n",
      "|patient_resource_id| patid_pseudonym|gender|birth_date|deceased_datetime|\n",
      "+-------------------+----------------+------+----------+-----------------+\n",
      "|   60271b372396f53a|2f4017ec9a0d48c3|female|1954-06-30|       2024-07-25|\n",
      "|   64ffc8f6e2a04bf5|1f8367d0b53064c2|  male|1940-06-22|       2024-04-16|\n",
      "|   114b17715cd8962f|7a258cbfec3c558c|  male|1948-12-06|       2023-11-10|\n",
      "|   733b6df2aeaaff06|897acc358f405500|female|1935-08-21|       2019-06-25|\n",
      "|   9ba79939ecbcae8f|550d43f7d5cc0b99|  male|1952-03-09|       2019-04-09|\n",
      "|   e5c41057a1b66cda|6d85de25529cff53|  male|1939-06-28|             NULL|\n",
      "|   c9a0ff4052f66694|7376eec3bda52c36|  male|1954-09-05|             NULL|\n",
      "|   150dcba579b4985d|99f5a1dcf9839f0a|  male|2010-12-16|             NULL|\n",
      "|   fec730686892c631|dbff7aa920956fde|  male|1952-07-20|             NULL|\n",
      "|   e6f48bd3bc9800c8|9c66451b0837e1a8|female|1975-07-08|             NULL|\n",
      "|   c8490233e2b2a928|777535caa6d34e27|  male|1970-01-06|             NULL|\n",
      "|   f3c131b13cbe3216|9028a3386120ec94|  male|1960-01-05|             NULL|\n",
      "|   f44db4a5131c0ae2|10e14a11759058db|female|1945-06-01|             NULL|\n",
      "|   4eb565eedf9e2d7c|bb1f1e250eb74db1|  male|1958-07-03|             NULL|\n",
      "|   ba3253fe6ca96286|ad09e0030f7313f6|  male|1947-09-06|             NULL|\n",
      "|   69644926a2875823|8988ec5db74e3446|female|1949-12-13|             NULL|\n",
      "|   9a80d68214de0bd4|0fe7da3a23578158|female|1946-12-16|             NULL|\n",
      "|   e6573e3c68ea98f2|690fc95f6e6ac7bb|female|1943-09-12|             NULL|\n",
      "|   9a79159bda44a2de|7c0adc238acd5789|  male|1993-01-19|             NULL|\n",
      "|   cc2d75349812f146|03dce5400ee975cd|  male|1939-01-26|             NULL|\n",
      "+-------------------+----------------+------+----------+-----------------+\n",
      "only showing top 20 rows\n",
      "\n"
     ]
    }
   ],
   "source": [
    "# Vergleiche condition_subject_reference aus dem conditions dataframe mit patient_resource_id aus dem patients dataframe -- wo ist der Unterschied?\n",
    "patients.show()"
   ]
  },
  {
   "cell_type": "markdown",
   "id": "e4058e8b-c80d-4e04-b36a-1e11594d4bed",
   "metadata": {},
   "source": [
    "## JOIN"
   ]
  },
  {
   "cell_type": "code",
   "execution_count": 59,
   "id": "06c983b1-c000-4985-80d7-63258b80d608",
   "metadata": {
    "execution": {
     "iopub.execute_input": "2025-06-05T18:53:25.140636Z",
     "iopub.status.busy": "2025-06-05T18:53:25.140125Z",
     "iopub.status.idle": "2025-06-05T18:53:25.242162Z",
     "shell.execute_reply": "2025-06-05T18:53:25.241497Z",
     "shell.execute_reply.started": "2025-06-05T18:53:25.140614Z"
    }
   },
   "outputs": [
    {
     "data": {
      "text/plain": [
       "72"
      ]
     },
     "execution_count": 59,
     "metadata": {},
     "output_type": "execute_result"
    }
   ],
   "source": [
    "# entferne das \"Patient/\" in den Werten der Spalte \"condition_subject_reference\", da dieser Präfix in patient_resource_id auch nicht vorkommt\n",
    "# nach dieser Vorverarbeitung können wir dann joinen: patients[\"patient_resource_id\"] == conditions[\"condition_subject_reference\"]\n",
    "\n",
    "conditions = conditions.withColumn(\n",
    "    \"condition_subject_reference\",\n",
    "    regexp_replace(\"condition_subject_reference\", \"^Patient/\", \"\"),\n",
    ")\n",
    "conditions = conditions.checkpoint(eager=True)\n",
    "conditions.count()  # enforce checkpoint"
   ]
  },
  {
   "cell_type": "code",
   "execution_count": 60,
   "id": "721a8ca8-96fe-4326-8608-38dfb6e71991",
   "metadata": {
    "execution": {
     "iopub.execute_input": "2025-06-05T18:53:25.243328Z",
     "iopub.status.busy": "2025-06-05T18:53:25.243075Z",
     "iopub.status.idle": "2025-06-05T18:53:25.265920Z",
     "shell.execute_reply": "2025-06-05T18:53:25.265304Z",
     "shell.execute_reply.started": "2025-06-05T18:53:25.243304Z"
    },
    "scrolled": true
   },
   "outputs": [
    {
     "name": "stdout",
     "output_type": "stream",
     "text": [
      "+---------------------+----------+--------------+---------------------------+\n",
      "|condition_resource_id|icd10_code|date_diagnosis|condition_subject_reference|\n",
      "+---------------------+----------+--------------+---------------------------+\n",
      "|     051e5a0e019c30ce|     C18.3|    2024-03-04|           e5c41057a1b66cda|\n",
      "|     07d2b410e5cfbe5f|     C15.4|    2024-09-28|           ab0f1ed341372001|\n",
      "|     08405c94eb7dc213|     C15.9|    2023-11-24|           eb9728de512f00ec|\n",
      "|     08e306e6917943c2|     C15.4|    2024-02-29|           21560e6558e3bce2|\n",
      "|     09fc5566cf6f17ad|     C18.0|    2024-04-23|           0fae573b17cb69e5|\n",
      "|     0c9a439a485d1cfa|     C15.5|    2023-04-21|           61ed44a223187661|\n",
      "|     0f8531c4327ebbd2|     C18.7|    2024-06-21|           b90e420a6b680c0d|\n",
      "|     15c02d0d9eb2c08c|     C71.0|    2024-01-05|           64ffc8f6e2a04bf5|\n",
      "|     1d3fcafbde7a3d24|     C18.0|    2024-08-15|           e6f48bd3bc9800c8|\n",
      "|     1ee93bb69d5a0f4f|     C71.5|    2024-07-16|           3875fc2637316141|\n",
      "|     1f080c26891c70a0|     C18.0|    2023-02-11|           1a29351020e186a6|\n",
      "|     237e4fb6ac5a7cc7|     C18.1|    2021-09-25|           7bd4e4bef7525055|\n",
      "|     24024157215224ee|     C15.4|    2023-03-28|           35ead2589e72ad07|\n",
      "|     247b1136711dfde0|     C25.0|    2024-03-04|           eb49c8cc92207e82|\n",
      "|     252eb9211bc1b339|     C71.2|    2024-07-14|           07ec02b49e0b7aba|\n",
      "|     2f3efa62ead346da|     C15.5|    2024-01-25|           1e2fd734cf35cf44|\n",
      "|     3a3c465876a7d36a|     C18.7|    2022-11-06|           ede861350630aad2|\n",
      "|     3c3a5386810aaab1|     C18.1|    2023-09-30|           3cda8e94d07a0709|\n",
      "|     436924e03db67321|     C71.0|    2022-10-15|           9a80d68214de0bd4|\n",
      "|     48ca83204ae98070|     C71.0|    2024-06-27|           150dcba579b4985d|\n",
      "+---------------------+----------+--------------+---------------------------+\n",
      "only showing top 20 rows\n",
      "\n"
     ]
    }
   ],
   "source": [
    "conditions.show()"
   ]
  },
  {
   "cell_type": "code",
   "execution_count": 61,
   "id": "da348c92-a8c9-4802-9768-4fe1475e04ba",
   "metadata": {
    "execution": {
     "iopub.execute_input": "2025-06-05T18:53:25.266999Z",
     "iopub.status.busy": "2025-06-05T18:53:25.266765Z",
     "iopub.status.idle": "2025-06-05T18:53:25.460910Z",
     "shell.execute_reply": "2025-06-05T18:53:25.459754Z",
     "shell.execute_reply.started": "2025-06-05T18:53:25.266976Z"
    }
   },
   "outputs": [
    {
     "data": {
      "text/plain": [
       "72"
      ]
     },
     "execution_count": 61,
     "metadata": {},
     "output_type": "execute_result"
    }
   ],
   "source": [
    "patients_conditions = (\n",
    "    patients.alias(\"p\")\n",
    "    .join(\n",
    "        conditions.alias(\"c\"),\n",
    "        patients[\"patient_resource_id\"]\n",
    "        == conditions[\"condition_subject_reference\"],  # Join condition\n",
    "        \"left\",  # Left join\n",
    "    )\n",
    "    .select(\"c.*\", \"p.*\")\n",
    ")\n",
    "\n",
    "patients_conditions = patients_conditions.checkpoint(eager=True)\n",
    "patients_conditions_count = patients_conditions.count()\n",
    "patients_conditions_count"
   ]
  },
  {
   "cell_type": "code",
   "execution_count": 62,
   "id": "66c6ee9e-5651-47e9-a2cf-ba9ba8af9fc0",
   "metadata": {
    "execution": {
     "iopub.execute_input": "2025-06-05T18:53:25.462125Z",
     "iopub.status.busy": "2025-06-05T18:53:25.461875Z",
     "iopub.status.idle": "2025-06-05T18:53:25.501266Z",
     "shell.execute_reply": "2025-06-05T18:53:25.499887Z",
     "shell.execute_reply.started": "2025-06-05T18:53:25.462101Z"
    }
   },
   "outputs": [
    {
     "name": "stdout",
     "output_type": "stream",
     "text": [
      "+---------------------+----------+--------------+---------------------------+-------------------+----------------+------+----------+-----------------+\n",
      "|condition_resource_id|icd10_code|date_diagnosis|condition_subject_reference|patient_resource_id| patid_pseudonym|gender|birth_date|deceased_datetime|\n",
      "+---------------------+----------+--------------+---------------------------+-------------------+----------------+------+----------+-----------------+\n",
      "|     051e5a0e019c30ce|     C18.3|    2024-03-04|           e5c41057a1b66cda|   e5c41057a1b66cda|6d85de25529cff53|  male|1939-06-28|             NULL|\n",
      "|     0c9a439a485d1cfa|     C15.5|    2023-04-21|           61ed44a223187661|   61ed44a223187661|bc1a1b4fe47fdb71|  male|1949-04-29|             NULL|\n",
      "|     af30c3406cd4ac00|     C18.4|    2023-12-28|           ba3253fe6ca96286|   ba3253fe6ca96286|ad09e0030f7313f6|  male|1947-09-06|             NULL|\n",
      "|     252eb9211bc1b339|     C71.2|    2024-07-14|           07ec02b49e0b7aba|   07ec02b49e0b7aba|02024496e0b0bbd0|  male|1952-07-26|             NULL|\n",
      "|     4e8432e66cce4dc4|     C25.0|    2024-09-01|           f44db4a5131c0ae2|   f44db4a5131c0ae2|10e14a11759058db|female|1945-06-01|             NULL|\n",
      "|     f229ad9b04bea62e|     C71.0|    2022-11-03|           486a10dac0d746cd|   486a10dac0d746cd|d7052e8b2a67419f|  male|1976-03-06|             NULL|\n",
      "|     e72e5f5440a7ffc5|     C25.0|    2022-07-06|           114b17715cd8962f|   114b17715cd8962f|7a258cbfec3c558c|  male|1948-12-06|       2023-11-10|\n",
      "|     c4d249f2c7ddcf59|     C15.5|    2021-05-25|           68a0e992e0d91698|   68a0e992e0d91698|265576fcb9672764|  male|1958-02-26|             NULL|\n",
      "|     8ccbaa3540124618|     D33.1|    2022-07-28|           e243400fe9c43b79|   e243400fe9c43b79|66114d9620ecd6f3|  male|1981-05-08|             NULL|\n",
      "|     96fe81bd47dd30e1|     C25.0|    2018-01-23|           9ba79939ecbcae8f|   9ba79939ecbcae8f|550d43f7d5cc0b99|  male|1952-03-09|       2019-04-09|\n",
      "|     52e5f2fc38f09bba|     C18.0|    2023-07-04|           79fa4eb7cadef929|   79fa4eb7cadef929|ca363e555351a324|female|1945-01-27|             NULL|\n",
      "|     72317c2425bbd3c8|     C15.5|    2024-07-12|           fec730686892c631|   fec730686892c631|dbff7aa920956fde|  male|1952-07-20|             NULL|\n",
      "|     92737702ea38a24c|     C25.2|    2019-05-27|           5cc1af2309e29e00|   5cc1af2309e29e00|ed9dc76fe9f770f2|  male|1955-11-23|             NULL|\n",
      "|     8a7f134a200e57c1|     C25.1|    2024-02-18|           0c5298eb234951b1|   0c5298eb234951b1|012657b165e05913|  male|1965-01-18|             NULL|\n",
      "|     afc792bfaea32585|     C25.0|    2022-12-25|           f3c131b13cbe3216|   f3c131b13cbe3216|9028a3386120ec94|  male|1960-01-05|             NULL|\n",
      "|     b6d5a69ce456abf0|     C15.5|    2024-05-13|           c8490233e2b2a928|   c8490233e2b2a928|777535caa6d34e27|  male|1970-01-06|             NULL|\n",
      "|     6961f769aab1b8cd|     C15.5|    2022-11-09|           835107adef733603|   835107adef733603|88370bc88e2f867e|  male|1977-04-18|             NULL|\n",
      "|     f65c992f02dd6f78|     C15.3|    2023-06-24|           c9a0ff4052f66694|   c9a0ff4052f66694|7376eec3bda52c36|  male|1954-09-05|             NULL|\n",
      "|     48ca83204ae98070|     C71.0|    2024-06-27|           150dcba579b4985d|   150dcba579b4985d|99f5a1dcf9839f0a|  male|2010-12-16|             NULL|\n",
      "|     82da6b89245f030a|     C15.9|    2024-06-05|           4eb565eedf9e2d7c|   4eb565eedf9e2d7c|bb1f1e250eb74db1|  male|1958-07-03|             NULL|\n",
      "+---------------------+----------+--------------+---------------------------+-------------------+----------------+------+----------+-----------------+\n",
      "only showing top 20 rows\n",
      "\n"
     ]
    }
   ],
   "source": [
    "patients_conditions.show()"
   ]
  },
  {
   "cell_type": "code",
   "execution_count": null,
   "id": "d4537856-01fc-4832-839a-1ff376991361",
   "metadata": {},
   "outputs": [],
   "source": []
  },
  {
   "cell_type": "markdown",
   "id": "1100703a-39a5-470a-84db-9544b9f021a0",
   "metadata": {},
   "source": [
    "## Resolve"
   ]
  },
  {
   "cell_type": "code",
   "execution_count": 63,
   "id": "aa2c0818-6ebb-4382-affc-6da3a65f2075",
   "metadata": {
    "execution": {
     "iopub.execute_input": "2025-06-05T18:53:25.503460Z",
     "iopub.status.busy": "2025-06-05T18:53:25.502956Z",
     "iopub.status.idle": "2025-06-05T18:53:39.369006Z",
     "shell.execute_reply": "2025-06-05T18:53:39.367823Z",
     "shell.execute_reply.started": "2025-06-05T18:53:25.503412Z"
    }
   },
   "outputs": [
    {
     "name": "stderr",
     "output_type": "stream",
     "text": [
      "25/06/09 19:33:05 WARN DAGScheduler: Broadcasting large task binary with size 1093.1 KiB\n"
     ]
    },
    {
     "data": {
      "text/plain": [
       "72"
      ]
     },
     "execution_count": 63,
     "metadata": {},
     "output_type": "execute_result"
    }
   ],
   "source": [
    "# deutlich schlankere Alternative zu zwei einzelnen extracts von patients und conditions und join\n",
    "# resolve löst Referenz auf\n",
    "\n",
    "conditions_patients_resolve = data.extract(\n",
    "    \"Condition\",\n",
    "    columns=[\n",
    "        exp(\"id\", \"condition_resource_id\"),\n",
    "        exp(\n",
    "            \"code.coding.where(system = 'http://fhir.de/CodeSystem/bfarm/icd-10-gm').code.first()\",\n",
    "            \"icd10_code\",\n",
    "        ),  # kardinalität 0...1\n",
    "        exp(\n",
    "            \"extension('http://hl7.org/fhir/StructureDefinition/condition-assertedDate').valueDateTime.first()\",\n",
    "            \"date_diagnosis\",\n",
    "        ),  # kardinalität 1..1\n",
    "        exp(\"subject.reference\", \"condition_subject_reference\"),\n",
    "        exp(\"subject.resolve().ofType(Patient).id\", \"patient_resource_id\"),\n",
    "        exp(\n",
    "            \"subject.resolve().ofType(Patient).identifier.where(type.coding.where(system='http://terminology.hl7.org/CodeSystem/v2-0203' and code='MR').exists()).value\",\n",
    "            \"patid_pseudonym\",\n",
    "        ),\n",
    "        exp(\"subject.resolve().ofType(Patient).birthDate\", \"birth_date\"),\n",
    "        exp(\"subject.resolve().ofType(Patient).gender\", \"gender\"),\n",
    "        exp(\"subject.resolve().ofType(Patient).deceasedDateTime\", \"deceased_datetime\"),\n",
    "    ],\n",
    "    filters=[\n",
    "        \"code.coding.where(system = 'http://fhir.de/CodeSystem/bfarm/icd-10-gm').exists()\"\n",
    "    ],\n",
    ")\n",
    "conditions_patients_resolve = conditions_patients_resolve.checkpoint(eager=True)\n",
    "conditions_patients_resolve_count = conditions_patients_resolve.count()\n",
    "conditions_patients_resolve_count"
   ]
  },
  {
   "cell_type": "code",
   "execution_count": 64,
   "id": "9dd171bb-9c28-4011-9a0e-fddec7978fb1",
   "metadata": {
    "execution": {
     "iopub.execute_input": "2025-06-05T18:53:39.370193Z",
     "iopub.status.busy": "2025-06-05T18:53:39.369963Z",
     "iopub.status.idle": "2025-06-05T18:53:39.399619Z",
     "shell.execute_reply": "2025-06-05T18:53:39.398782Z",
     "shell.execute_reply.started": "2025-06-05T18:53:39.370173Z"
    }
   },
   "outputs": [
    {
     "name": "stdout",
     "output_type": "stream",
     "text": [
      "+---------------------+----------+--------------+---------------------------+-------------------+----------------+----------+------+-----------------+\n",
      "|condition_resource_id|icd10_code|date_diagnosis|condition_subject_reference|patient_resource_id| patid_pseudonym|birth_date|gender|deceased_datetime|\n",
      "+---------------------+----------+--------------+---------------------------+-------------------+----------------+----------+------+-----------------+\n",
      "|     6b612dd173fa5544|     C18.0|    2023-08-20|       Patient/60271b372...|   60271b372396f53a|2f4017ec9a0d48c3|1954-06-30|female|       2024-07-25|\n",
      "|     15c02d0d9eb2c08c|     C71.0|    2024-01-05|       Patient/64ffc8f6e...|   64ffc8f6e2a04bf5|1f8367d0b53064c2|1940-06-22|  male|       2024-04-16|\n",
      "|     e72e5f5440a7ffc5|     C25.0|    2022-07-06|       Patient/114b17715...|   114b17715cd8962f|7a258cbfec3c558c|1948-12-06|  male|       2023-11-10|\n",
      "|     b28d21fb5d6a4bc8|     C25.0|    2019-03-07|       Patient/733b6df2a...|   733b6df2aeaaff06|897acc358f405500|1935-08-21|female|       2019-06-25|\n",
      "|     96fe81bd47dd30e1|     C25.0|    2018-01-23|       Patient/9ba79939e...|   9ba79939ecbcae8f|550d43f7d5cc0b99|1952-03-09|  male|       2019-04-09|\n",
      "|     436924e03db67321|     C71.0|    2022-10-15|       Patient/9a80d6821...|   9a80d68214de0bd4|0fe7da3a23578158|1946-12-16|female|             NULL|\n",
      "|     f229ad9b04bea62e|     C71.0|    2022-11-03|       Patient/486a10dac...|   486a10dac0d746cd|d7052e8b2a67419f|1976-03-06|  male|             NULL|\n",
      "|     52e5f2fc38f09bba|     C18.0|    2023-07-04|       Patient/79fa4eb7c...|   79fa4eb7cadef929|ca363e555351a324|1945-01-27|female|             NULL|\n",
      "|     fb5332bc6aac11c5|     C18.8|    2024-11-11|       Patient/52b7120e3...|   52b7120e3fc05325|b086d01df7325249|1965-06-22|  male|             NULL|\n",
      "|     ad4a8e34fb4cccde|     C71.1|    2020-03-12|       Patient/6be5fcae3...|   6be5fcae3308a468|a2f2aefd463efaba|1969-04-22|female|             NULL|\n",
      "|     252eb9211bc1b339|     C71.2|    2024-07-14|       Patient/07ec02b49...|   07ec02b49e0b7aba|02024496e0b0bbd0|1952-07-26|  male|             NULL|\n",
      "|     0f8531c4327ebbd2|     C18.7|    2024-06-21|       Patient/b90e420a6...|   b90e420a6b680c0d|daea3f56491d7e11|1967-06-27|  male|             NULL|\n",
      "|     7daeb8ab9cae0e2f|     C15.3|    2020-12-08|       Patient/8e1067992...|   8e10679922d50f99|525435898cd242fd|1954-02-04|  male|             NULL|\n",
      "|     237e4fb6ac5a7cc7|     C18.1|    2021-09-25|       Patient/7bd4e4bef...|   7bd4e4bef7525055|2fd13c28ea85341f|1974-10-25|female|             NULL|\n",
      "|     92737702ea38a24c|     C25.2|    2019-05-27|       Patient/5cc1af230...|   5cc1af2309e29e00|ed9dc76fe9f770f2|1955-11-23|  male|             NULL|\n",
      "|     c4d249f2c7ddcf59|     C15.5|    2021-05-25|       Patient/68a0e992e...|   68a0e992e0d91698|265576fcb9672764|1958-02-26|  male|             NULL|\n",
      "|     07d2b410e5cfbe5f|     C15.4|    2024-09-28|       Patient/ab0f1ed34...|   ab0f1ed341372001|2b652c00c32a7f23|1965-07-29|  male|             NULL|\n",
      "|     6148a24578f6f103|     D43.0|    2024-04-30|       Patient/1f397d694...|   1f397d69496919fc|a2d3e71c34993a0b|1991-08-11|  male|             NULL|\n",
      "|     08e306e6917943c2|     C15.4|    2024-02-29|       Patient/21560e655...|   21560e6558e3bce2|5c2b413aa84ba1da|1962-11-24|female|             NULL|\n",
      "|     bba49ef6a65e1746|     C25.1|    2023-10-06|       Patient/b232a510b...|   b232a510b3cbd410|0edf6e1e8ad3e607|1966-07-19|female|             NULL|\n",
      "+---------------------+----------+--------------+---------------------------+-------------------+----------------+----------+------+-----------------+\n",
      "only showing top 20 rows\n",
      "\n"
     ]
    }
   ],
   "source": [
    "conditions_patients_resolve.show()"
   ]
  },
  {
   "cell_type": "markdown",
   "id": "21238d44-45a9-461c-9ced-065609970478",
   "metadata": {},
   "source": [
    "## ReverseResolve"
   ]
  },
  {
   "cell_type": "code",
   "execution_count": 65,
   "id": "de15e1fb-8714-48e3-abcf-6a5831d88f66",
   "metadata": {
    "execution": {
     "iopub.execute_input": "2025-06-05T18:53:39.400489Z",
     "iopub.status.busy": "2025-06-05T18:53:39.400283Z",
     "iopub.status.idle": "2025-06-05T18:53:54.782122Z",
     "shell.execute_reply": "2025-06-05T18:53:54.781301Z",
     "shell.execute_reply.started": "2025-06-05T18:53:39.400470Z"
    }
   },
   "outputs": [
    {
     "name": "stderr",
     "output_type": "stream",
     "text": [
      "25/06/09 19:33:28 WARN DAGScheduler: Broadcasting large task binary with size 1384.5 KiB\n",
      "25/06/09 19:33:28 WARN DAGScheduler: Broadcasting large task binary with size 1696.6 KiB\n"
     ]
    },
    {
     "data": {
      "text/plain": [
       "72"
      ]
     },
     "execution_count": 65,
     "metadata": {},
     "output_type": "execute_result"
    }
   ],
   "source": [
    "# löst Referenz rückwarts auf\n",
    "\n",
    "patients_condition_reverse_resolve = data.extract(\n",
    "    \"Patient\",\n",
    "    columns=[\n",
    "        exp(\"id\", \"patient_resource_id\"),\n",
    "        exp(\n",
    "            \"identifier.where(type.coding.where(system='http://terminology.hl7.org/CodeSystem/v2-0203' and code='MR').exists()).value\",\n",
    "            \"patid_pseudonym\",\n",
    "        ),\n",
    "        exp(\"gender\", \"gender\"),\n",
    "        exp(\"birthDate\", \"birth_date\"),\n",
    "        exp(\"deceasedDateTime\", \"deceased_datetime\"),\n",
    "        exp(\"id\", \"condition_resource_id\"),\n",
    "        exp(\n",
    "            \"reverseResolve(Condition.subject).code.coding.where(system = 'http://fhir.de/CodeSystem/bfarm/icd-10-gm').code.first()\",\n",
    "            \"icd10_code\",\n",
    "        ),  # kardinalität 0...1\n",
    "        exp(\n",
    "            \"reverseResolve(Condition.subject).extension('http://hl7.org/fhir/StructureDefinition/condition-assertedDate').valueDateTime.first()\",\n",
    "            \"date_diagnosis\",\n",
    "        ),  # kardinalität 1..1\n",
    "        exp(\n",
    "            \"reverseResolve(Condition.subject).subject.reference\",\n",
    "            \"condition_subject_reference\",\n",
    "        ),\n",
    "    ],\n",
    ")\n",
    "\n",
    "patients_condition_reverse_resolve = patients_condition_reverse_resolve.checkpoint(\n",
    "    eager=True\n",
    ")\n",
    "patients_condition_reverse_resolve_count = patients_condition_reverse_resolve.count()\n",
    "patients_condition_reverse_resolve_count"
   ]
  },
  {
   "cell_type": "code",
   "execution_count": 66,
   "id": "ba3595a2-b71f-461f-ab1a-9828833c6a77",
   "metadata": {
    "execution": {
     "iopub.execute_input": "2025-06-05T18:53:54.783863Z",
     "iopub.status.busy": "2025-06-05T18:53:54.783414Z",
     "iopub.status.idle": "2025-06-05T18:53:54.816098Z",
     "shell.execute_reply": "2025-06-05T18:53:54.814746Z",
     "shell.execute_reply.started": "2025-06-05T18:53:54.783823Z"
    }
   },
   "outputs": [
    {
     "name": "stdout",
     "output_type": "stream",
     "text": [
      "+-------------------+----------------+------+----------+-----------------+---------------------+----------+--------------+---------------------------+\n",
      "|patient_resource_id| patid_pseudonym|gender|birth_date|deceased_datetime|condition_resource_id|icd10_code|date_diagnosis|condition_subject_reference|\n",
      "+-------------------+----------------+------+----------+-----------------+---------------------+----------+--------------+---------------------------+\n",
      "|   64ffc8f6e2a04bf5|1f8367d0b53064c2|  male|1940-06-22|       2024-04-16|     64ffc8f6e2a04bf5|     C71.0|    2024-01-05|       Patient/64ffc8f6e...|\n",
      "|   733b6df2aeaaff06|897acc358f405500|female|1935-08-21|       2019-06-25|     733b6df2aeaaff06|     C25.0|    2019-03-07|       Patient/733b6df2a...|\n",
      "|   9ba79939ecbcae8f|550d43f7d5cc0b99|  male|1952-03-09|       2019-04-09|     9ba79939ecbcae8f|     C25.0|    2018-01-23|       Patient/9ba79939e...|\n",
      "|   114b17715cd8962f|7a258cbfec3c558c|  male|1948-12-06|       2023-11-10|     114b17715cd8962f|     C25.0|    2022-07-06|       Patient/114b17715...|\n",
      "|   60271b372396f53a|2f4017ec9a0d48c3|female|1954-06-30|       2024-07-25|     60271b372396f53a|     C18.0|    2023-08-20|       Patient/60271b372...|\n",
      "|   4f7b657ae62cb1f0|e585243ed4c6ba5b|female|1943-11-05|             NULL|     4f7b657ae62cb1f0|     C25.0|    2023-08-08|       Patient/4f7b657ae...|\n",
      "|   1f397d69496919fc|a2d3e71c34993a0b|  male|1991-08-11|             NULL|     1f397d69496919fc|     D43.0|    2024-04-30|       Patient/1f397d694...|\n",
      "|   61ed44a223187661|bc1a1b4fe47fdb71|  male|1949-04-29|             NULL|     61ed44a223187661|     C15.5|    2023-04-21|       Patient/61ed44a22...|\n",
      "|   be346e0fecc66702|c3cb058158b22b69|female|1944-10-11|             NULL|     be346e0fecc66702|     C18.7|    2023-10-30|       Patient/be346e0fe...|\n",
      "|   d85cf173277cf6fc|7642512ad6451717|female|1949-05-23|             NULL|     d85cf173277cf6fc|     C18.7|    2024-02-05|       Patient/d85cf1732...|\n",
      "|   3698207ddd269247|033959a00c40ffb4|female|1971-10-30|             NULL|     3698207ddd269247|     C71.1|    2024-10-26|       Patient/3698207dd...|\n",
      "|   e5c41057a1b66cda|6d85de25529cff53|  male|1939-06-28|             NULL|     e5c41057a1b66cda|     C18.3|    2024-03-04|       Patient/e5c41057a...|\n",
      "|   eb49c8cc92207e82|4dfd45ed72c18f56|  male|1954-05-08|             NULL|     eb49c8cc92207e82|     C25.0|    2024-03-04|       Patient/eb49c8cc9...|\n",
      "|   eb9728de512f00ec|15d8e14a10e068b8|female|1958-11-13|             NULL|     eb9728de512f00ec|     C15.9|    2023-11-24|       Patient/eb9728de5...|\n",
      "|   6b8a354c3efad190|a5f9039dc93a3ec5|  male|1971-11-30|             NULL|     6b8a354c3efad190|     C71.0|    2021-12-09|       Patient/6b8a354c3...|\n",
      "|   3b2f3fa2e95230cd|d11500d025918563|  male|1972-08-18|             NULL|     3b2f3fa2e95230cd|     C71.1|    2018-08-14|       Patient/3b2f3fa2e...|\n",
      "|   f0307634eb85ac96|e21bddef1c8868d6|female|1946-09-03|             NULL|     f0307634eb85ac96|     C18.2|    2024-06-19|       Patient/f0307634e...|\n",
      "|   ede861350630aad2|65af284f62167c91|  male|1959-06-02|             NULL|     ede861350630aad2|     C18.7|    2022-11-06|       Patient/ede861350...|\n",
      "|   bc2a1febe3171a48|6e10064de82b37de|  male|1973-08-13|             NULL|     bc2a1febe3171a48|     C25.1|    2024-03-15|       Patient/bc2a1febe...|\n",
      "|   e243400fe9c43b79|66114d9620ecd6f3|  male|1981-05-08|             NULL|     e243400fe9c43b79|     D33.1|    2022-07-28|       Patient/e243400fe...|\n",
      "+-------------------+----------------+------+----------+-----------------+---------------------+----------+--------------+---------------------------+\n",
      "only showing top 20 rows\n",
      "\n"
     ]
    }
   ],
   "source": [
    "patients_condition_reverse_resolve.show()"
   ]
  },
  {
   "cell_type": "markdown",
   "id": "c659c236-8b0b-4ba9-8a82-fb5f1a8ede77",
   "metadata": {},
   "source": [
    "### 3 Lösungswege für dasselbe Ergebnis"
   ]
  },
  {
   "cell_type": "code",
   "execution_count": 67,
   "id": "e7b0622a-6abb-4155-a43a-22004c10fb12",
   "metadata": {
    "execution": {
     "iopub.execute_input": "2025-06-05T18:53:54.818517Z",
     "iopub.status.busy": "2025-06-05T18:53:54.817680Z",
     "iopub.status.idle": "2025-06-05T18:53:54.891204Z",
     "shell.execute_reply": "2025-06-05T18:53:54.890067Z",
     "shell.execute_reply.started": "2025-06-05T18:53:54.818470Z"
    }
   },
   "outputs": [
    {
     "name": "stdout",
     "output_type": "stream",
     "text": [
      "aus join\n",
      "+---------------------+----------+--------------+---------------------------+-------------------+----------------+------+----------+-----------------+\n",
      "|condition_resource_id|icd10_code|date_diagnosis|condition_subject_reference|patient_resource_id| patid_pseudonym|gender|birth_date|deceased_datetime|\n",
      "+---------------------+----------+--------------+---------------------------+-------------------+----------------+------+----------+-----------------+\n",
      "|     051e5a0e019c30ce|     C18.3|    2024-03-04|           e5c41057a1b66cda|   e5c41057a1b66cda|6d85de25529cff53|  male|1939-06-28|             NULL|\n",
      "|     07d2b410e5cfbe5f|     C15.4|    2024-09-28|           ab0f1ed341372001|   ab0f1ed341372001|2b652c00c32a7f23|  male|1965-07-29|             NULL|\n",
      "+---------------------+----------+--------------+---------------------------+-------------------+----------------+------+----------+-----------------+\n",
      "only showing top 2 rows\n",
      "\n",
      "aus resolve:\n",
      "+---------------------+----------+--------------+---------------------------+-------------------+----------------+----------+------+-----------------+\n",
      "|condition_resource_id|icd10_code|date_diagnosis|condition_subject_reference|patient_resource_id| patid_pseudonym|birth_date|gender|deceased_datetime|\n",
      "+---------------------+----------+--------------+---------------------------+-------------------+----------------+----------+------+-----------------+\n",
      "|     051e5a0e019c30ce|     C18.3|    2024-03-04|       Patient/e5c41057a...|   e5c41057a1b66cda|6d85de25529cff53|1939-06-28|  male|             NULL|\n",
      "|     07d2b410e5cfbe5f|     C15.4|    2024-09-28|       Patient/ab0f1ed34...|   ab0f1ed341372001|2b652c00c32a7f23|1965-07-29|  male|             NULL|\n",
      "+---------------------+----------+--------------+---------------------------+-------------------+----------------+----------+------+-----------------+\n",
      "only showing top 2 rows\n",
      "\n",
      "aus reverseResolve:\n",
      "+-------------------+----------------+------+----------+-----------------+---------------------+----------+--------------+---------------------------+\n",
      "|patient_resource_id| patid_pseudonym|gender|birth_date|deceased_datetime|condition_resource_id|icd10_code|date_diagnosis|condition_subject_reference|\n",
      "+-------------------+----------------+------+----------+-----------------+---------------------+----------+--------------+---------------------------+\n",
      "|   07ec02b49e0b7aba|02024496e0b0bbd0|  male|1952-07-26|             NULL|     07ec02b49e0b7aba|     C71.2|    2024-07-14|       Patient/07ec02b49...|\n",
      "|   0a5f3ad16294b73a|faa462f05466be4d|  male|1954-08-21|             NULL|     0a5f3ad16294b73a|     C15.5|    2023-10-30|       Patient/0a5f3ad16...|\n",
      "+-------------------+----------------+------+----------+-----------------+---------------------+----------+--------------+---------------------------+\n",
      "only showing top 2 rows\n",
      "\n"
     ]
    }
   ],
   "source": [
    "# 1)\n",
    "print(\"aus join\")\n",
    "patients_conditions.sort(\"condition_resource_id\").show(2)\n",
    "\n",
    "# 2)\n",
    "print(\"aus resolve:\")\n",
    "conditions_patients_resolve.sort(\"condition_resource_id\").show(2)\n",
    "\n",
    "# 3\n",
    "print(\"aus reverseResolve:\")\n",
    "patients_condition_reverse_resolve.sort(\"condition_resource_id\").show(2)"
   ]
  },
  {
   "cell_type": "code",
   "execution_count": 68,
   "id": "8250a3ab-aafd-4a82-8725-6ea140f6de69",
   "metadata": {
    "execution": {
     "iopub.execute_input": "2025-06-05T18:53:54.893582Z",
     "iopub.status.busy": "2025-06-05T18:53:54.892770Z",
     "iopub.status.idle": "2025-06-05T18:53:55.047579Z",
     "shell.execute_reply": "2025-06-05T18:53:55.046417Z",
     "shell.execute_reply.started": "2025-06-05T18:53:54.893533Z"
    }
   },
   "outputs": [
    {
     "name": "stdout",
     "output_type": "stream",
     "text": [
      "+---------------------+----------+--------------+---------------------------+-------------------+----------------+------+----------+-----------------+----------------+\n",
      "|condition_resource_id|icd10_code|date_diagnosis|condition_subject_reference|patient_resource_id|patid_pseudonym |gender|birth_date|deceased_datetime|age_at_diagnosis|\n",
      "+---------------------+----------+--------------+---------------------------+-------------------+----------------+------+----------+-----------------+----------------+\n",
      "|051e5a0e019c30ce     |C18.3     |2024-03-04    |e5c41057a1b66cda           |e5c41057a1b66cda   |6d85de25529cff53|male  |1939-06-28|NULL             |84              |\n",
      "|0c9a439a485d1cfa     |C15.5     |2023-04-21    |61ed44a223187661           |61ed44a223187661   |bc1a1b4fe47fdb71|male  |1949-04-29|NULL             |73              |\n",
      "|af30c3406cd4ac00     |C18.4     |2023-12-28    |ba3253fe6ca96286           |ba3253fe6ca96286   |ad09e0030f7313f6|male  |1947-09-06|NULL             |76              |\n",
      "|252eb9211bc1b339     |C71.2     |2024-07-14    |07ec02b49e0b7aba           |07ec02b49e0b7aba   |02024496e0b0bbd0|male  |1952-07-26|NULL             |71              |\n",
      "|4e8432e66cce4dc4     |C25.0     |2024-09-01    |f44db4a5131c0ae2           |f44db4a5131c0ae2   |10e14a11759058db|female|1945-06-01|NULL             |79              |\n",
      "|f229ad9b04bea62e     |C71.0     |2022-11-03    |486a10dac0d746cd           |486a10dac0d746cd   |d7052e8b2a67419f|male  |1976-03-06|NULL             |46              |\n",
      "|e72e5f5440a7ffc5     |C25.0     |2022-07-06    |114b17715cd8962f           |114b17715cd8962f   |7a258cbfec3c558c|male  |1948-12-06|2023-11-10       |73              |\n",
      "|c4d249f2c7ddcf59     |C15.5     |2021-05-25    |68a0e992e0d91698           |68a0e992e0d91698   |265576fcb9672764|male  |1958-02-26|NULL             |63              |\n",
      "|8ccbaa3540124618     |D33.1     |2022-07-28    |e243400fe9c43b79           |e243400fe9c43b79   |66114d9620ecd6f3|male  |1981-05-08|NULL             |41              |\n",
      "|96fe81bd47dd30e1     |C25.0     |2018-01-23    |9ba79939ecbcae8f           |9ba79939ecbcae8f   |550d43f7d5cc0b99|male  |1952-03-09|2019-04-09       |65              |\n",
      "|52e5f2fc38f09bba     |C18.0     |2023-07-04    |79fa4eb7cadef929           |79fa4eb7cadef929   |ca363e555351a324|female|1945-01-27|NULL             |78              |\n",
      "|72317c2425bbd3c8     |C15.5     |2024-07-12    |fec730686892c631           |fec730686892c631   |dbff7aa920956fde|male  |1952-07-20|NULL             |71              |\n",
      "|92737702ea38a24c     |C25.2     |2019-05-27    |5cc1af2309e29e00           |5cc1af2309e29e00   |ed9dc76fe9f770f2|male  |1955-11-23|NULL             |63              |\n",
      "|8a7f134a200e57c1     |C25.1     |2024-02-18    |0c5298eb234951b1           |0c5298eb234951b1   |012657b165e05913|male  |1965-01-18|NULL             |59              |\n",
      "|afc792bfaea32585     |C25.0     |2022-12-25    |f3c131b13cbe3216           |f3c131b13cbe3216   |9028a3386120ec94|male  |1960-01-05|NULL             |62              |\n",
      "|b6d5a69ce456abf0     |C15.5     |2024-05-13    |c8490233e2b2a928           |c8490233e2b2a928   |777535caa6d34e27|male  |1970-01-06|NULL             |54              |\n",
      "|6961f769aab1b8cd     |C15.5     |2022-11-09    |835107adef733603           |835107adef733603   |88370bc88e2f867e|male  |1977-04-18|NULL             |45              |\n",
      "|f65c992f02dd6f78     |C15.3     |2023-06-24    |c9a0ff4052f66694           |c9a0ff4052f66694   |7376eec3bda52c36|male  |1954-09-05|NULL             |68              |\n",
      "|48ca83204ae98070     |C71.0     |2024-06-27    |150dcba579b4985d           |150dcba579b4985d   |99f5a1dcf9839f0a|male  |2010-12-16|NULL             |13              |\n",
      "|82da6b89245f030a     |C15.9     |2024-06-05    |4eb565eedf9e2d7c           |4eb565eedf9e2d7c   |bb1f1e250eb74db1|male  |1958-07-03|NULL             |65              |\n",
      "+---------------------+----------+--------------+---------------------------+-------------------+----------------+------+----------+-----------------+----------------+\n",
      "only showing top 20 rows\n",
      "\n"
     ]
    },
    {
     "data": {
      "image/png": "[encoded data removed]",
      "text/plain": [
       "<Figure size 1000x600 with 1 Axes>"
      ]
     },
     "metadata": {},
     "output_type": "display_data"
    }
   ],
   "source": [
    "### Übung: Altersverteilung der onkologischen Patient:innen\n",
    "\n",
    "# 1.1 Berechne das Alter bei Diagnose aus dem Geburtsdatum und Diagnosedatum und füge es als neue Spalte in den DataFrame ein\n",
    "# Hinweis: diese Funktionen sind hilfreich: withColumn und\n",
    "from pyspark.sql.functions import col, datediff, floor, to_date\n",
    "\n",
    "patients_conditions = patients_conditions.withColumn(\n",
    "    \"birth_date\", to_date(col(\"birth_date\"))\n",
    ").withColumn(\n",
    "    \"age_at_diagnosis\",\n",
    "    floor(datediff(col(\"date_diagnosis\"), col(\"birth_date\")) / 365.25),\n",
    ")\n",
    "\n",
    "patients_conditions.show(truncate=False)\n",
    "\n",
    "# 1.2 Daten in Pandas überführen\n",
    "\n",
    "patients_conditions_pd = patients_conditions.toPandas()\n",
    "\n",
    "# 1.3 Zeichne ein Histogramm der Altersverteilung\n",
    "\n",
    "import matplotlib.pyplot as plt\n",
    "\n",
    "plt.figure(figsize=(10, 6))\n",
    "plt.hist(\n",
    "    patients_conditions_pd[\"age_at_diagnosis\"].dropna(),\n",
    "    bins=10,\n",
    "    edgecolor=\"black\",\n",
    "    color=\"blue\",\n",
    ")\n",
    "plt.xlabel(\"Alter (Jahre)\")\n",
    "plt.ylabel(\"Anzahl Patient:innen\")\n",
    "plt.grid(True)\n",
    "plt.show()"
   ]
  },
  {
   "cell_type": "markdown",
   "id": "60045f55-8804-4e7f-baef-bd010b08c194",
   "metadata": {},
   "source": [
    "# 3.  GRUPPENARBEIT\n",
    "### 4 ENTITÄTEN: \n",
    "##### (Quelle zugegebenermaßen aus Zeitgründen ChatGPT und stichprobenartig überprüft - falls hier etwas gar nicht passt, bitte melden :) )\n",
    "### 1. Ösophagus C15\n",
    "#### (Speiseröhrenkrebs)\n",
    "\n",
    "    Häufigkeit: Relativ selten, aber mit hoher Sterblichkeitsrate – etwa 5.000–6.000 Neuerkrankungen pro Jahr in Deutschland.\n",
    "\n",
    "    Typen: Zwei Hauptformen – Plattenepithelkarzinom (oberer/mittlerer Ösophagus) und Adenokarzinom (unterer Ösophagus).\n",
    "\n",
    "    Risikofaktoren: Rauchen, Alkohol, Refluxkrankheit (Barrett-Ösophagus), Adipositas.\n",
    "\n",
    "    Symptome: Schluckbeschwerden (Dysphagie), Gewichtsverlust, Brustschmerzen.\n",
    "\n",
    "    Prognose: Sehr schlecht; 5-Jahres-Überlebensrate liegt bei unter 20 %, oft wegen später Diagnose.\n",
    "### 2. Colon C18\n",
    "#### (Dickdarmkrebs, ohne Rektum)\n",
    "\n",
    "    Häufigkeit: Eine der häufigsten Krebsarten – etwa 33.000 Neuerkrankungen pro Jahr in Deutschland.\n",
    "\n",
    "    Früherkennung: Darmspiegelung (Koloskopie) ab 50 (Männer) bzw. 55 (Frauen) empfohlen.\n",
    "\n",
    "    Risikofaktoren: Ernährung (viel rotes Fleisch, wenig Ballaststoffe), familiäre Belastung, chronisch entzündliche Darmerkrankungen.\n",
    "\n",
    "    Symptome: Blut im Stuhl, Veränderungen des Stuhlgangs, unklare Bauchschmerzen.\n",
    "\n",
    "    Prognose: Bei früher Diagnose gute Heilungschancen – 5-Jahres-Überlebensrate >60 %.\n",
    "### 3. Pankreas C25\n",
    "#### (Bauchspeicheldrüsenkrebs)\n",
    "\n",
    "    Häufigkeit: Etwa 20.000 Neuerkrankungen jährlich in Deutschland, steigende Tendenz.\n",
    "\n",
    "    Typ: Meist duktales Adenokarzinom des Pankreaskopfes.\n",
    "\n",
    "    Risikofaktoren: Rauchen, chronische Pankreatitis, Diabetes mellitus, genetische Prädisposition.\n",
    "\n",
    "    Symptome: Unspezifisch – Gewichtsverlust, Oberbauchschmerzen, Ikterus (Gelbsucht).\n",
    "\n",
    "    Prognose: Sehr schlecht – 5-Jahres-Überlebensrate unter 10 %, meist späte Diagnose.\n",
    "### 4. Gliom C71\n",
    "#### (Hirntumor, maligner, z. B. Glioblastom)\n",
    "\n",
    "    Häufigkeit: Etwa 6.000–8.000 neue primäre Hirntumoren pro Jahr in Deutschland, davon viele Gliome.\n",
    "\n",
    "    Typen: Astrozytom, Oligodendrogliom, Glioblastom (besonders aggressiv).\n",
    "\n",
    "    Risikofaktoren: Meist unklar; wenige bekannte genetische Syndrome (z. B. Li-Fraumeni).\n",
    "\n",
    "    Symptome: Kopfschmerzen, epileptische Anfälle, neurologische Ausfälle (z. B. Lähmungen, Sprachstörungen).\n",
    "\n",
    "    Prognose: Stark abhängig vom Grad – Glioblastome (WHO Grad IV) haben eine mittlere Überlebenszeit von ca. 15 Monaten trotz Therapie.\n",
    "### Aufgabe: Wählt eine Entität aus (jede Entität sollte von mind. einer Gruppe gewählt werden) und führt folgende Analysen durch.\n",
    "#### 3.1: Wie häufig ist die Diagnose?\n",
    "#### 3.2: Wie ist die Diagnoseverteilung zwischen den Geschlechtern verteilt?\n",
    "#### 3.3: Wie sieht die Altersverteilung der Diagnose aus? Visualisiere das Ergebnis, z.B. in einem Histogramm.\n",
    "#### 3.4: Therapieanalyse: Operation, Strahlentherapie\n",
    "#### 3.5: Freie Auswertung - was interessiert dich noch innerhalb deiner Kohorte?"
   ]
  },
  {
   "cell_type": "code",
   "execution_count": 69,
   "id": "211ddcf9-add5-4578-a14f-b2328a346e8a",
   "metadata": {
    "execution": {
     "iopub.status.busy": "2025-06-05T18:53:55.047993Z",
     "iopub.status.idle": "2025-06-05T18:53:55.048186Z",
     "shell.execute_reply": "2025-06-05T18:53:55.048097Z",
     "shell.execute_reply.started": "2025-06-05T18:53:55.048087Z"
    }
   },
   "outputs": [
    {
     "name": "stdout",
     "output_type": "stream",
     "text": [
      "patients_conditions_c71_count = 15\n",
      "distinct condition ids count = 15\n"
     ]
    }
   ],
   "source": [
    "# Lösung 3.1 für C71 Kohorte\n",
    "patients_conditions_c71 = patients_conditions.filter(\n",
    "    col(\"icd10_code\").startswith(\"C71\")\n",
    ")\n",
    "\n",
    "patients_conditions_c71 = patients_conditions_c71.checkpoint(eager=True)\n",
    "patients_conditions_c71_count = patients_conditions_c71.count()\n",
    "\n",
    "print(\"patients_conditions_c71_count =\", patients_conditions_c71_count)\n",
    "\n",
    "print(\n",
    "    \"distinct condition ids count =\",\n",
    "    patients_conditions_c71.select(\"condition_resource_id\").distinct().count(),\n",
    ")"
   ]
  },
  {
   "cell_type": "code",
   "execution_count": 70,
   "id": "fccc83df-1c90-48a6-a3b8-111c45522cb8",
   "metadata": {
    "execution": {
     "iopub.status.busy": "2025-06-05T18:53:55.048696Z",
     "iopub.status.idle": "2025-06-05T18:53:55.048874Z",
     "shell.execute_reply": "2025-06-05T18:53:55.048793Z",
     "shell.execute_reply.started": "2025-06-05T18:53:55.048784Z"
    }
   },
   "outputs": [
    {
     "name": "stdout",
     "output_type": "stream",
     "text": [
      "+---------------------+----------+--------------+---------------------------+-------------------+----------------+------+----------+-----------------+----------------+\n",
      "|condition_resource_id|icd10_code|date_diagnosis|condition_subject_reference|patient_resource_id| patid_pseudonym|gender|birth_date|deceased_datetime|age_at_diagnosis|\n",
      "+---------------------+----------+--------------+---------------------------+-------------------+----------------+------+----------+-----------------+----------------+\n",
      "|     252eb9211bc1b339|     C71.2|    2024-07-14|           07ec02b49e0b7aba|   07ec02b49e0b7aba|02024496e0b0bbd0|  male|1952-07-26|             NULL|              71|\n",
      "|     f229ad9b04bea62e|     C71.0|    2022-11-03|           486a10dac0d746cd|   486a10dac0d746cd|d7052e8b2a67419f|  male|1976-03-06|             NULL|              46|\n",
      "|     48ca83204ae98070|     C71.0|    2024-06-27|           150dcba579b4985d|   150dcba579b4985d|99f5a1dcf9839f0a|  male|2010-12-16|             NULL|              13|\n",
      "|     436924e03db67321|     C71.0|    2022-10-15|           9a80d68214de0bd4|   9a80d68214de0bd4|0fe7da3a23578158|female|1946-12-16|             NULL|              75|\n",
      "|     4dfca46eee8bf85a|     C71.1|    2024-10-26|           3698207ddd269247|   3698207ddd269247|033959a00c40ffb4|female|1971-10-30|             NULL|              52|\n",
      "|     e47e46e3a930f622|     C71.1|    2021-05-01|           71d7ce5bbdf4c09a|   71d7ce5bbdf4c09a|3885e9aa7e691af0|female|1991-05-24|             NULL|              29|\n",
      "|     15c02d0d9eb2c08c|     C71.0|    2024-01-05|           64ffc8f6e2a04bf5|   64ffc8f6e2a04bf5|1f8367d0b53064c2|  male|1940-06-22|       2024-04-16|              83|\n",
      "|     c60ec4a699edda3f|     C71.0|    2021-12-09|           6b8a354c3efad190|   6b8a354c3efad190|a5f9039dc93a3ec5|  male|1971-11-30|             NULL|              50|\n",
      "|     d02c0fbc3f94faaa|     C71.2|    2024-03-10|           146b0071371fe6e6|   146b0071371fe6e6|e9a460fd4950bcb0|  male|1974-02-04|             NULL|              50|\n",
      "|     a7baeaf0a68696a8|     C71.1|    2018-08-14|           3b2f3fa2e95230cd|   3b2f3fa2e95230cd|d11500d025918563|  male|1972-08-18|             NULL|              45|\n",
      "|     ad4a8e34fb4cccde|     C71.1|    2020-03-12|           6be5fcae3308a468|   6be5fcae3308a468|a2f2aefd463efaba|female|1969-04-22|             NULL|              50|\n",
      "|     1ee93bb69d5a0f4f|     C71.5|    2024-07-16|           3875fc2637316141|   3875fc2637316141|74f005020d523886|female|2003-09-14|             NULL|              20|\n",
      "|     eb979b8007788418|     C71.2|    2020-07-14|           a1d728be37480030|   a1d728be37480030|6e98dce2f6665e34|  male|1985-09-20|             NULL|              34|\n",
      "|     5059218f572675d0|     C71.1|    2017-04-10|           50cbcfff7d06dc25|   50cbcfff7d06dc25|e0f490515d505599|female|1986-11-04|             NULL|              30|\n",
      "|     73505c829dd099ce|     C71.2|    2024-02-16|           9a79159bda44a2de|   9a79159bda44a2de|7c0adc238acd5789|  male|1993-01-19|             NULL|              31|\n",
      "+---------------------+----------+--------------+---------------------------+-------------------+----------------+------+----------+-----------------+----------------+\n",
      "\n"
     ]
    }
   ],
   "source": [
    "patients_conditions_c71.show()"
   ]
  },
  {
   "cell_type": "code",
   "execution_count": 71,
   "id": "1a464640-bf1a-42ad-88e1-aceb02eb4d05",
   "metadata": {
    "execution": {
     "iopub.status.busy": "2025-06-05T18:53:55.049381Z",
     "iopub.status.idle": "2025-06-05T18:53:55.049557Z",
     "shell.execute_reply": "2025-06-05T18:53:55.049476Z",
     "shell.execute_reply.started": "2025-06-05T18:53:55.049467Z"
    }
   },
   "outputs": [
    {
     "name": "stdout",
     "output_type": "stream",
     "text": [
      "female: 6 , male: 9\n"
     ]
    }
   ],
   "source": [
    "# Lösung 3.2 für C71 Kohorte\n",
    "\n",
    "female = patients_conditions_c71.filter(col(\"gender\") == \"female\").count()\n",
    "male = patients_conditions_c71.filter(col(\"gender\") == \"male\").count()\n",
    "\n",
    "print(\"female:\", female, \", male:\", male)"
   ]
  },
  {
   "cell_type": "code",
   "execution_count": 72,
   "id": "da00b42c-02a4-4a49-8c8f-e11eef19e2d5",
   "metadata": {
    "execution": {
     "iopub.status.busy": "2025-06-05T18:53:55.050137Z",
     "iopub.status.idle": "2025-06-05T18:53:55.050319Z",
     "shell.execute_reply": "2025-06-05T18:53:55.050237Z",
     "shell.execute_reply.started": "2025-06-05T18:53:55.050228Z"
    }
   },
   "outputs": [
    {
     "name": "stdout",
     "output_type": "stream",
     "text": [
      "+---------------------+----------+--------------+---------------------------+-------------------+----------------+------+----------+-----------------+----------------+\n",
      "|condition_resource_id|icd10_code|date_diagnosis|condition_subject_reference|patient_resource_id|patid_pseudonym |gender|birth_date|deceased_datetime|age_at_diagnosis|\n",
      "+---------------------+----------+--------------+---------------------------+-------------------+----------------+------+----------+-----------------+----------------+\n",
      "|252eb9211bc1b339     |C71.2     |2024-07-14    |07ec02b49e0b7aba           |07ec02b49e0b7aba   |02024496e0b0bbd0|male  |1952-07-26|NULL             |71              |\n",
      "|f229ad9b04bea62e     |C71.0     |2022-11-03    |486a10dac0d746cd           |486a10dac0d746cd   |d7052e8b2a67419f|male  |1976-03-06|NULL             |46              |\n",
      "|48ca83204ae98070     |C71.0     |2024-06-27    |150dcba579b4985d           |150dcba579b4985d   |99f5a1dcf9839f0a|male  |2010-12-16|NULL             |13              |\n",
      "|436924e03db67321     |C71.0     |2022-10-15    |9a80d68214de0bd4           |9a80d68214de0bd4   |0fe7da3a23578158|female|1946-12-16|NULL             |75              |\n",
      "|4dfca46eee8bf85a     |C71.1     |2024-10-26    |3698207ddd269247           |3698207ddd269247   |033959a00c40ffb4|female|1971-10-30|NULL             |52              |\n",
      "|e47e46e3a930f622     |C71.1     |2021-05-01    |71d7ce5bbdf4c09a           |71d7ce5bbdf4c09a   |3885e9aa7e691af0|female|1991-05-24|NULL             |29              |\n",
      "|15c02d0d9eb2c08c     |C71.0     |2024-01-05    |64ffc8f6e2a04bf5           |64ffc8f6e2a04bf5   |1f8367d0b53064c2|male  |1940-06-22|2024-04-16       |83              |\n",
      "|c60ec4a699edda3f     |C71.0     |2021-12-09    |6b8a354c3efad190           |6b8a354c3efad190   |a5f9039dc93a3ec5|male  |1971-11-30|NULL             |50              |\n",
      "|d02c0fbc3f94faaa     |C71.2     |2024-03-10    |146b0071371fe6e6           |146b0071371fe6e6   |e9a460fd4950bcb0|male  |1974-02-04|NULL             |50              |\n",
      "|a7baeaf0a68696a8     |C71.1     |2018-08-14    |3b2f3fa2e95230cd           |3b2f3fa2e95230cd   |d11500d025918563|male  |1972-08-18|NULL             |45              |\n",
      "|ad4a8e34fb4cccde     |C71.1     |2020-03-12    |6be5fcae3308a468           |6be5fcae3308a468   |a2f2aefd463efaba|female|1969-04-22|NULL             |50              |\n",
      "|1ee93bb69d5a0f4f     |C71.5     |2024-07-16    |3875fc2637316141           |3875fc2637316141   |74f005020d523886|female|2003-09-14|NULL             |20              |\n",
      "|eb979b8007788418     |C71.2     |2020-07-14    |a1d728be37480030           |a1d728be37480030   |6e98dce2f6665e34|male  |1985-09-20|NULL             |34              |\n",
      "|5059218f572675d0     |C71.1     |2017-04-10    |50cbcfff7d06dc25           |50cbcfff7d06dc25   |e0f490515d505599|female|1986-11-04|NULL             |30              |\n",
      "|73505c829dd099ce     |C71.2     |2024-02-16    |9a79159bda44a2de           |9a79159bda44a2de   |7c0adc238acd5789|male  |1993-01-19|NULL             |31              |\n",
      "+---------------------+----------+--------------+---------------------------+-------------------+----------------+------+----------+-----------------+----------------+\n",
      "\n"
     ]
    },
    {
     "data": {
      "image/png": "[encoded data removed]",
      "text/plain": [
       "<Figure size 1000x600 with 1 Axes>"
      ]
     },
     "metadata": {},
     "output_type": "display_data"
    }
   ],
   "source": [
    "# Lösung 3.3 für C71 Kohorte\n",
    "patients_conditions_c71 = patients_conditions_c71.withColumn(\n",
    "    \"birth_date\", to_date(col(\"birth_date\"))\n",
    ").withColumn(\n",
    "    \"age_at_diagnosis\",\n",
    "    floor(datediff(col(\"date_diagnosis\"), col(\"birth_date\")) / 365.25),\n",
    ")\n",
    "\n",
    "patients_conditions_c71.show(truncate=False)\n",
    "\n",
    "patients_conditions_c71 = patients_conditions_c71.toPandas()\n",
    "\n",
    "import matplotlib.pyplot as plt\n",
    "\n",
    "plt.figure(figsize=(10, 6))\n",
    "plt.hist(\n",
    "    patients_conditions_pd[\"age_at_diagnosis\"].dropna(),\n",
    "    bins=10,\n",
    "    edgecolor=\"black\",\n",
    "    color=\"blue\",\n",
    ")\n",
    "plt.xlabel(\"Alter (Jahre)\")\n",
    "plt.ylabel(\"Anzahl Patient:innen\")\n",
    "plt.grid(True)\n",
    "plt.show()"
   ]
  },
  {
   "cell_type": "markdown",
   "id": "14907e12",
   "metadata": {},
   "source": [
    "### 3.4: Therapieanalyse"
   ]
  },
  {
   "cell_type": "markdown",
   "id": "73ac6c45-22a0-4315-ab19-b7e66ddd7145",
   "metadata": {
    "execution": {
     "iopub.status.busy": "2025-06-05T11:10:22.194312Z",
     "iopub.status.idle": "2025-06-05T11:10:22.194513Z",
     "shell.execute_reply": "2025-06-05T11:10:22.194422Z",
     "shell.execute_reply.started": "2025-06-05T11:10:22.194412Z"
    }
   },
   "source": [
    "#### OPERATION -- RESOURCENTYP: PROCEDURE\n",
    "https://simplifier.net/guide/mii-ig-modul-onkologie-2024-de/MIIIGModulOnkologie/TechnischeImplementierung/FHIR-Profile/Operation/Operation-Procedure.page.md?version=current"
   ]
  },
  {
   "cell_type": "code",
   "execution_count": 73,
   "id": "c3db28a7-e696-41e7-b2d5-39207482a502",
   "metadata": {
    "execution": {
     "iopub.execute_input": "2025-06-05T18:02:52.034025Z",
     "iopub.status.busy": "2025-06-05T18:02:52.033424Z",
     "iopub.status.idle": "2025-06-05T18:02:52.039882Z",
     "shell.execute_reply": "2025-06-05T18:02:52.038507Z",
     "shell.execute_reply.started": "2025-06-05T18:02:52.033974Z"
    }
   },
   "outputs": [
    {
     "name": "stderr",
     "output_type": "stream",
     "text": [
      "                                                                                \r"
     ]
    },
    {
     "name": "stdout",
     "output_type": "stream",
     "text": [
      "ops_c71_count: 10\n",
      "distinct op ids count 10\n",
      "check dataframe: \n",
      "+----------------+-----------+----------+------------+-----------+----------+---------------------+\n",
      "|  op_resource_id|category_OP|   op_date|op_intention|op_ops_code|icd10_code|condition_resource_id|\n",
      "+----------------+-----------+----------+------------+-----------+----------+---------------------+\n",
      "|d4b1ca137f1a264a|  387713003|2024-03-10|           K|    5-015.0|     C71.2|     d02c0fbc3f94faaa|\n",
      "|4b25e60944a71c1f|  387713003|2024-08-06|           K|    5-021.1|     C71.2|     252eb9211bc1b339|\n",
      "|001a4dc888524279|  387713003|2024-01-05|           D|    5-010.2|     C71.0|     15c02d0d9eb2c08c|\n",
      "|0a48720ecaf2ae0d|  387713003|2024-06-27|           K|      5-984|     C71.0|     48ca83204ae98070|\n",
      "|135fc363ec5ece46|  387713003|2020-05-31|           D|    5-010.2|     C71.1|     ad4a8e34fb4cccde|\n",
      "|7341f6a8e52e8339|  387713003|2022-11-03|           K|    5-015.0|     C71.0|     f229ad9b04bea62e|\n",
      "|4ea4880fd56a5e1b|  387713003|2024-07-16|           K|   5-010.14|     C71.5|     1ee93bb69d5a0f4f|\n",
      "|9358e05c309bcf68|  387713003|2018-08-14|           D|    5-988.0|     C71.1|     a7baeaf0a68696a8|\n",
      "|954645c3ef218936|  387713003|2017-04-10|           K|      5-988|     C71.1|     5059218f572675d0|\n",
      "|982fc2dd3431ee2d|  387713003|2018-08-14|           D|    5-010.2|     C71.1|     a7baeaf0a68696a8|\n",
      "+----------------+-----------+----------+------------+-----------+----------+---------------------+\n",
      "\n",
      "dataframe with new column op_intention_mapping: \n",
      "+----------------+-----------+----------+------------+-----------+----------+---------------------+--------------------+\n",
      "|  op_resource_id|category_OP|   op_date|op_intention|op_ops_code|icd10_code|condition_resource_id|op_intention_mapping|\n",
      "+----------------+-----------+----------+------------+-----------+----------+---------------------+--------------------+\n",
      "|d4b1ca137f1a264a|  387713003|2024-03-10|           K|    5-015.0|     C71.2|     d02c0fbc3f94faaa|             kurativ|\n",
      "|4b25e60944a71c1f|  387713003|2024-08-06|           K|    5-021.1|     C71.2|     252eb9211bc1b339|             kurativ|\n",
      "|001a4dc888524279|  387713003|2024-01-05|           D|    5-010.2|     C71.0|     15c02d0d9eb2c08c|        diagnostisch|\n",
      "|0a48720ecaf2ae0d|  387713003|2024-06-27|           K|      5-984|     C71.0|     48ca83204ae98070|             kurativ|\n",
      "|135fc363ec5ece46|  387713003|2020-05-31|           D|    5-010.2|     C71.1|     ad4a8e34fb4cccde|        diagnostisch|\n",
      "|7341f6a8e52e8339|  387713003|2022-11-03|           K|    5-015.0|     C71.0|     f229ad9b04bea62e|             kurativ|\n",
      "|4ea4880fd56a5e1b|  387713003|2024-07-16|           K|   5-010.14|     C71.5|     1ee93bb69d5a0f4f|             kurativ|\n",
      "|9358e05c309bcf68|  387713003|2018-08-14|           D|    5-988.0|     C71.1|     a7baeaf0a68696a8|        diagnostisch|\n",
      "|954645c3ef218936|  387713003|2017-04-10|           K|      5-988|     C71.1|     5059218f572675d0|             kurativ|\n",
      "|982fc2dd3431ee2d|  387713003|2018-08-14|           D|    5-010.2|     C71.1|     a7baeaf0a68696a8|        diagnostisch|\n",
      "+----------------+-----------+----------+------------+-----------+----------+---------------------+--------------------+\n",
      "\n",
      "frequency of op intentions in cohort: \n",
      "+--------------------+-----+\n",
      "|op_intention_mapping|count|\n",
      "+--------------------+-----+\n",
      "|             kurativ|    6|\n",
      "|        diagnostisch|    4|\n",
      "+--------------------+-----+\n",
      "\n"
     ]
    }
   ],
   "source": [
    "# 3.4 Operationen: untersuche wie häufig deine Kohorte die Therapieform Operation erhält.\n",
    "\n",
    "# Extrahiere die folgenden Spalten: op resource id, category, op_date, op intention, OPS Code + icd10 code und condition_resource_id der zugrundeliegenden Diagnose\n",
    "# Welche OP Intentionen findest du in deiner Kohorte, wie oft kommen sie jeweils vor und wofür stehen die Codes? (Stichwort ValueSet im Implementation Guide)\n",
    "# Extrahiere hierfür die entsprechende Extension (analog zum Diagnosedatum im Einführungsbeispiel).\n",
    "\n",
    "# Hinweise\n",
    "# - mithilfe der folgenden Snomed CT category.coding.codes kannst du Operationen filtern:\n",
    "# 387713003 - Surgical procedure\n",
    "# 165197003 - Diagnostic assessment\n",
    "# 394841004 - Other category\n",
    "\n",
    "# - über Procedure.reasonReference hast du die Verbindung zur zugrundeliegenden Condition Resource = Diagnose.\n",
    "# - überprüfe dringend jederzeit die distinct op_resource_ids und betrachte den gesamten dataframe, um sicherzustellen, dass du keine duplizierten Zeilen erzeugt hast.\n",
    "\n",
    "\n",
    "# 3.4 Operationen - Lösung:\n",
    "\n",
    "ops_c71 = data.extract(\n",
    "    \"Procedure\",\n",
    "    columns=[\n",
    "        exp(\"id\", \"op_resource_id\"),\n",
    "        # exp(\"\n",
    "        exp(\n",
    "            \"category.coding.where(system = 'http://snomed.info/sct').code\",\n",
    "            \"category_OP\",\n",
    "        ),\n",
    "        exp(\"performedDateTime\", \"op_date\"),\n",
    "        exp(\n",
    "            \"extension('https://www.medizininformatik-initiative.de/fhir/ext/modul-onko/StructureDefinition/mii-ex-onko-operation-intention').valueCodeableConcept.first().coding.code\",\n",
    "            \"op_intention\",\n",
    "        ),  # kardinalität bei value 1...1\n",
    "        exp(\n",
    "            \"code.coding.where(system = 'http://fhir.de/CodeSystem/bfarm/ops').code\",\n",
    "            \"op_ops_code\",\n",
    "        ),\n",
    "        exp(\n",
    "            \"reasonReference.resolve().ofType(Condition).code.coding.where(system='http://fhir.de/CodeSystem/bfarm/icd-10-gm').code\",\n",
    "            \"icd10_code\",\n",
    "        ),\n",
    "        exp(\n",
    "            \"reasonReference.resolve().ofType(Condition).id\",\n",
    "            \"condition_resource_id\",\n",
    "        ),\n",
    "    ],\n",
    ").filter(\n",
    "    (\n",
    "        col(\"category_OP\").contains(\"387713003\")  # Surgical procedure\n",
    "        | col(\"category_OP\").contains(\"165197003\")  # Diagnostic assessment\n",
    "        | col(\"category_OP\").contains(\"394841004\")\n",
    "    )  # Other category\n",
    "    & col(\"icd10_code\").startswith(\"C71\")  # cohort selection\n",
    ")\n",
    "\n",
    "\n",
    "ops_c71 = ops_c71.checkpoint(eager=True)\n",
    "ops_c71_count = ops_c71.count()\n",
    "print(\"ops_c71_count:\", ops_c71_count)\n",
    "\n",
    "print(\"distinct op ids count\", ops_c71.select(\"op_resource_id\").distinct().count())\n",
    "\n",
    "print(\"check dataframe: \")\n",
    "ops_c71.show()\n",
    "\n",
    "from pyspark.sql.functions import create_map, lit\n",
    "\n",
    "# Dictionary für Mapping aus ValueSet https://simplifier.net/medizininformatikinitiative-modulonkologie/mii-vs-onko-operation-intention\n",
    "intention_map = {\n",
    "    \"K\": \"kurativ\",\n",
    "    \"P\": \"palliativ\",\n",
    "    \"D\": \"diagnostisch\",\n",
    "    \"R\": \"Revision/Komplikation\",\n",
    "    \"S\": \"Sonstiges\",\n",
    "    \"X\": \"fehlende Angabe\",\n",
    "}\n",
    "\n",
    "# pyspark map erstellen --> pyspark kann das nicht direkt aus python dict\n",
    "mapping_expr = create_map([lit(x) for pair in intention_map.items() for x in pair])\n",
    "\n",
    "# Neue Spalte mit Mapping erstellen\n",
    "ops_c71 = ops_c71.withColumn(\"op_intention_mapping\", mapping_expr[col(\"op_intention\")])\n",
    "\n",
    "print(\"dataframe with new column op_intention_mapping: \")\n",
    "ops_c71.show()\n",
    "\n",
    "print(\"frequency of op intentions in cohort: \")\n",
    "ops_c71.groupBy(\"op_intention_mapping\").count().orderBy(\"count\", ascending=False).show()"
   ]
  },
  {
   "cell_type": "markdown",
   "id": "08c64da2",
   "metadata": {},
   "source": [
    "#### STRAHLENTHERAPIE -- RESOURCENTYP: PROCEDURE\n",
    "https://simplifier.net/guide/mii-ig-modul-onkologie-2024-de/MIIIGModulOnkologie/TechnischeImplementierung/FHIR-Profile/Strahlentherapie/Strahlentherapie-Procedure.page.md?version=current"
   ]
  },
  {
   "cell_type": "code",
   "execution_count": 74,
   "id": "46919526-8f21-45f2-a7f1-bac8584f3b87",
   "metadata": {},
   "outputs": [
    {
     "name": "stderr",
     "output_type": "stream",
     "text": [
      "                                                                                \r"
     ]
    },
    {
     "name": "stdout",
     "output_type": "stream",
     "text": [
      "strahlentherapie_c71_count: DataFrame[st_resource_id: string, category_ST: string, st_intention: string, st_ops_code: string, icd10_code: string, condition_resource_id: string]\n",
      "distinct strahlentherapie ids count 6\n",
      "check dataframe: \n",
      "+----------------+-----------+------------+-----------+----------+---------------------+\n",
      "|  st_resource_id|category_ST|st_intention|st_ops_code|icd10_code|condition_resource_id|\n",
      "+----------------+-----------+------------+-----------+----------+---------------------+\n",
      "|712597be978792ec| 1287742003|           P|       8-52|     C71.0|     436924e03db67321|\n",
      "|1c5c2b9fb5b629c8| 1287742003|           K|       8-52|     C71.2|     d02c0fbc3f94faaa|\n",
      "|869aca7d23038251| 1287742003|           K|       8-52|     C71.0|     436924e03db67321|\n",
      "|95752845616fd9d9| 1287742003|           K|       8-52|     C71.0|     15c02d0d9eb2c08c|\n",
      "|4b123a7abb71e6a6| 1287742003|           K|       8-52|     C71.2|     73505c829dd099ce|\n",
      "|e5feaa9bb95c5b0c| 1287742003|           K|       8-52|     C71.0|     48ca83204ae98070|\n",
      "+----------------+-----------+------------+-----------+----------+---------------------+\n",
      "\n"
     ]
    }
   ],
   "source": [
    "# 3.4 Strahlentherapie: untersuche wie häufig deine Kohorte die Therapieform Strahlentherapie erhält.\n",
    "\n",
    "# Extrahiere die folgenden Spalten: st resource id, category, st_start_date und st_end_date und st_datetime, op intention, OPS Code + icd10 code und condition_resource_id der zugrundeliegenden Diagnose\n",
    "# Welche OP Intentionen findest du in deiner Kohorte, wie oft kommen sie jeweils vor und wofür stehen die Codes? (Stichwort ValueSet im Implementation Guide)\n",
    "# Extrahiere hierfür die entsprechende Extension (analog zum Diagnosedatum im Einführungsbeispiel).\n",
    "\n",
    "# Hinweise\n",
    "# - mithilfe der folgenden Snomed CT category.coding.codes kannst du Operationen filtern:\n",
    "# \"1287742003\" Radiotherapy (procedure)\n",
    "# \"399315003\" Radionuclide therapy (procedure)\n",
    "\n",
    "# - über Procedure.reasonReference hast du die Verbindung zur zugrundeliegenden Condition Resource = Diagnose.\n",
    "# - überprüfe dringend jederzeit die distinct st_resource_ids und betrachte den gesamten dataframe, um sicherzustellen, dass du keine duplizierten Zeilen erzeugt hast.\n",
    "\n",
    "\n",
    "# 3.4 Operationen - Lösung:\n",
    "\n",
    "strahlentherapie_c71 = data.extract(\n",
    "    \"Procedure\",\n",
    "    columns=[\n",
    "        exp(\"id\", \"st_resource_id\"),\n",
    "        # exp(\"\n",
    "        exp(\n",
    "            \"category.coding.where(system = 'http://snomed.info/sct').code\",\n",
    "            \"category_ST\",\n",
    "        ),\n",
    "        # exp(\"performedPeriod.start\", \"st_start_date\"),\n",
    "        # exp(\"performedPeriod.end\", \"st_end_date\"),\n",
    "        # exp(\"performedDateTime\", \"st_datetime\"),\n",
    "        exp(\n",
    "            \"extension('https://www.medizininformatik-initiative.de/fhir/ext/modul-onko/StructureDefinition/mii-ex-onko-strahlentherapie-intention').valueCodeableConcept.first().coding.code\",\n",
    "            \"st_intention\",\n",
    "        ),  # kardinalität bei value 1...1\n",
    "        exp(\n",
    "            \"code.coding.where(system = 'http://fhir.de/CodeSystem/bfarm/ops').code\",\n",
    "            \"st_ops_code\",\n",
    "        ),\n",
    "        exp(\n",
    "            \"reasonReference.resolve().ofType(Condition).code.coding.where(system='http://fhir.de/CodeSystem/bfarm/icd-10-gm').code\",\n",
    "            \"icd10_code\",\n",
    "        ),\n",
    "        exp(\n",
    "            \"reasonReference.resolve().ofType(Condition).id\",\n",
    "            \"condition_resource_id\",\n",
    "        ),\n",
    "    ],\n",
    ").filter(\n",
    "    (\n",
    "        col(\"category_ST\").contains(\"1287742003\")  # Radiotherapy (procedure)\n",
    "        | col(\"category_ST\").contains(\"399315003\")\n",
    "    )  # Radionuclide therapy (procedure)\n",
    "    & col(\"icd10_code\").startswith(\"C71\")  # cohort selection\n",
    ")\n",
    "\n",
    "\n",
    "strahlentherapie_c71 = strahlentherapie_c71.checkpoint(eager=True)\n",
    "strahlentherapie_c71_count = strahlentherapie_c71.count()\n",
    "print(\"strahlentherapie_c71_count:\", strahlentherapie_c71)\n",
    "\n",
    "print(\n",
    "    \"distinct strahlentherapie ids count\",\n",
    "    strahlentherapie_c71.select(\"st_resource_id\").distinct().count(),\n",
    ")\n",
    "\n",
    "print(\"check dataframe: \")\n",
    "strahlentherapie_c71.show()"
   ]
  },
  {
   "cell_type": "code",
   "execution_count": 75,
   "id": "55e5611d",
   "metadata": {},
   "outputs": [
    {
     "name": "stdout",
     "output_type": "stream",
     "text": [
      "dataframe with new column op_intention_mapping: \n",
      "+----------------+-----------+------------+-----------+----------+---------------------+--------------------+\n",
      "|  st_resource_id|category_ST|st_intention|st_ops_code|icd10_code|condition_resource_id|st_intention_mapping|\n",
      "+----------------+-----------+------------+-----------+----------+---------------------+--------------------+\n",
      "|712597be978792ec| 1287742003|           P|       8-52|     C71.0|     436924e03db67321|           palliativ|\n",
      "|1c5c2b9fb5b629c8| 1287742003|           K|       8-52|     C71.2|     d02c0fbc3f94faaa|             kurativ|\n",
      "|869aca7d23038251| 1287742003|           K|       8-52|     C71.0|     436924e03db67321|             kurativ|\n",
      "|95752845616fd9d9| 1287742003|           K|       8-52|     C71.0|     15c02d0d9eb2c08c|             kurativ|\n",
      "|4b123a7abb71e6a6| 1287742003|           K|       8-52|     C71.2|     73505c829dd099ce|             kurativ|\n",
      "|e5feaa9bb95c5b0c| 1287742003|           K|       8-52|     C71.0|     48ca83204ae98070|             kurativ|\n",
      "+----------------+-----------+------------+-----------+----------+---------------------+--------------------+\n",
      "\n",
      "frequency of st intentions in cohort: \n",
      "+--------------------+-----+\n",
      "|st_intention_mapping|count|\n",
      "+--------------------+-----+\n",
      "|             kurativ|    5|\n",
      "|           palliativ|    1|\n",
      "+--------------------+-----+\n",
      "\n"
     ]
    }
   ],
   "source": [
    "from pyspark.sql.functions import create_map, lit\n",
    "\n",
    "# Dictionary für Mapping aus ValueSet https://simplifier.net/medizininformatikinitiative-modulonkologie/mii-vs-onko-strahlentherapie-intention\n",
    "intention_map = {\n",
    "    \"K\": \"kurativ\",\n",
    "    \"P\": \"palliativ\",\n",
    "    \"R\": \"Revision/Komplikation\",\n",
    "    \"S\": \"Sonstiges\",\n",
    "    \"X\": \"fehlende Angabe\",\n",
    "    \"O\": \"lokal kurativ bei Oligometastasierung\",\n",
    "}\n",
    "\n",
    "# pyspark map erstellen --> pyspark kann das nicht direkt aus python dict\n",
    "mapping_expr = create_map([lit(x) for pair in intention_map.items() for x in pair])\n",
    "\n",
    "# Neue Spalte mit Mapping erstellen\n",
    "strahlentherapie_c71 = strahlentherapie_c71.withColumn(\n",
    "    \"st_intention_mapping\", mapping_expr[col(\"st_intention\")]\n",
    ")\n",
    "\n",
    "print(\"dataframe with new column op_intention_mapping: \")\n",
    "strahlentherapie_c71.show()\n",
    "\n",
    "print(\"frequency of st intentions in cohort: \")\n",
    "strahlentherapie_c71.groupBy(\"st_intention_mapping\").count().orderBy(\n",
    "    \"count\", ascending=False\n",
    ").show()"
   ]
  },
  {
   "cell_type": "markdown",
   "id": "11fa2de7",
   "metadata": {},
   "source": [
    "### 3.5: Freie Auswertung - was interessiert dich noch innerhalb deiner Kohorte?\n",
    "#### Aufgabe: überlege dir deine eigene Auswertung, erzeuge ggf. einen anschaulichen Plot\n",
    "#### Inspiration: Geschlecht/Altersverteilung der Therapieformen"
   ]
  },
  {
   "cell_type": "code",
   "execution_count": null,
   "id": "bb8c2530-e3ff-45a6-8512-721080ab0edf",
   "metadata": {
    "execution": {
     "iopub.status.busy": "2025-06-05T11:10:22.195663Z",
     "iopub.status.idle": "2025-06-05T11:10:22.195916Z",
     "shell.execute_reply": "2025-06-05T11:10:22.195812Z",
     "shell.execute_reply.started": "2025-06-05T11:10:22.195801Z"
    }
   },
   "outputs": [],
   "source": []
  },
  {
   "cell_type": "code",
   "execution_count": null,
   "id": "89e3a037-6de0-47d0-b694-b54f93969d17",
   "metadata": {},
   "outputs": [],
   "source": []
  },
  {
   "cell_type": "code",
   "execution_count": null,
   "id": "3572129d-11b3-4cbc-98d6-53d0cf529a05",
   "metadata": {},
   "outputs": [],
   "source": []
  },
  {
   "cell_type": "code",
   "execution_count": null,
   "id": "fee8f105-bcaf-44f2-8db2-01dc47491602",
   "metadata": {},
   "outputs": [],
   "source": []
  },
  {
   "cell_type": "code",
   "execution_count": null,
   "id": "3c39b502-9945-486e-85e2-0be401dd0044",
   "metadata": {},
   "outputs": [],
   "source": []
  },
  {
   "cell_type": "code",
   "execution_count": null,
   "id": "072ad723-5871-4248-b0fe-639eca079d63",
   "metadata": {},
   "outputs": [],
   "source": []
  },
  {
   "cell_type": "code",
   "execution_count": null,
   "id": "f5ca49e7-e595-4676-8ab3-5c7b20cf51b2",
   "metadata": {},
   "outputs": [],
   "source": []
  },
  {
   "cell_type": "code",
   "execution_count": null,
   "id": "104ab237-4f8c-4708-87a3-138dbfcd8055",
   "metadata": {},
   "outputs": [],
   "source": []
  },
  {
   "cell_type": "code",
   "execution_count": null,
   "id": "b3ecce50-5c65-403c-9b50-965b16850e15",
   "metadata": {},
   "outputs": [],
   "source": []
  },
  {
   "cell_type": "code",
   "execution_count": null,
   "id": "38665273-3d20-4bbd-9d39-d7f5ca074f03",
   "metadata": {},
   "outputs": [],
   "source": []
  }
 ],
 "metadata": {
  "kernelspec": {
   "display_name": ".venv",
   "language": "python",
   "name": "python3"
  },
  "language_info": {
   "codemirror_mode": {
    "name": "ipython",
    "version": 3
   },
   "file_extension": ".py",
   "mimetype": "text/x-python",
   "name": "python",
   "nbconvert_exporter": "python",
   "pygments_lexer": "ipython3",
   "version": "3.11.9"
  }
 },
 "nbformat": 4,
 "nbformat_minor": 5
}
