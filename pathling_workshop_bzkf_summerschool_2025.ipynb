{
 "cells": [
  {
   "cell_type": "code",
   "execution_count": null,
   "id": "4707c816",
   "metadata": {},
   "outputs": [],
   "source": [
    "!unzip -o \"testdaten_edit_06.06.25.zip\""
   ]
  },
  {
   "cell_type": "markdown",
   "id": "9608b07b",
   "metadata": {},
   "source": [
    "# Pathling Workshop\n",
    "## Getting started\n",
    "### Testdaten Download: https://cloud.uk-erlangen.de/s/qS9BcyYLcpAJWH7\n",
    "\n",
    "### Relevante Links:\n",
    "#### https://build.fhir.org/fhirpath.html \n",
    "#### https://hl7.github.io/fhirpath.js/\n",
    "#### https://www.basisdatensatz.de/basisdatensatz\n",
    "#### https://simplifier.net/guide/mii-ig-modul-onkologie-2024-de/MIIIGModulOnkologie?version=current "
   ]
  },
  {
   "cell_type": "code",
   "execution_count": null,
   "id": "a5bb6345-88a3-48c3-a07f-dbcc14f45a18",
   "metadata": {
    "execution": {
     "iopub.execute_input": "2025-06-05T11:09:11.168332Z",
     "iopub.status.busy": "2025-06-05T11:09:11.167646Z",
     "iopub.status.idle": "2025-06-05T11:09:14.142762Z",
     "shell.execute_reply": "2025-06-05T11:09:14.141057Z",
     "shell.execute_reply.started": "2025-06-05T11:09:11.168279Z"
    }
   },
   "outputs": [],
   "source": [
    "!apt update\n",
    "!apt install -y openjdk-17-jdk-headless\n",
    "!pip install pathling==7.2.0 pandas==2.2.2 matplotlib==3.9.1"
   ]
  },
  {
   "cell_type": "markdown",
   "id": "c8ee90f5-824d-4490-8262-222507de5662",
   "metadata": {
    "execution": {
     "iopub.execute_input": "2025-05-28T08:22:49.178122Z",
     "iopub.status.busy": "2025-05-28T08:22:49.177510Z",
     "iopub.status.idle": "2025-05-28T08:22:51.539759Z",
     "shell.execute_reply": "2025-05-28T08:22:51.538139Z",
     "shell.execute_reply.started": "2025-05-28T08:22:49.178066Z"
    }
   },
   "source": [
    "# Einführung in die FHIR-Datenextraktion und -analyse mit Pathling"
   ]
  },
  {
   "cell_type": "code",
   "execution_count": null,
   "id": "19ad03d7-6ac7-4811-bb04-7135d128b119",
   "metadata": {
    "execution": {
     "iopub.execute_input": "2025-06-05T18:52:46.714584Z",
     "iopub.status.busy": "2025-06-05T18:52:46.714023Z",
     "iopub.status.idle": "2025-06-05T18:52:46.796101Z",
     "shell.execute_reply": "2025-06-05T18:52:46.794673Z",
     "shell.execute_reply.started": "2025-06-05T18:52:46.714536Z"
    }
   },
   "outputs": [],
   "source": [
    "from pathling import PathlingContext, Expression as exp\n",
    "from pyspark.sql import SparkSession\n",
    "\n",
    "from pyspark.sql.functions import col, regexp_replace, to_date\n",
    "\n",
    "spark = (\n",
    "    SparkSession.builder.config(\n",
    "        \"spark.jars.packages\",\n",
    "        \"au.csiro.pathling:library-runtime:7.2.0,\",\n",
    "        # \"io.delta:delta-core_2.12:2.4.0,\"\n",
    "        # \"org.apache.hadoop:hadoop-aws:3.3.4\",\n",
    "    )\n",
    "    .config(\"spark.executor.memory\", \"8g\")\n",
    "    .config(\"spark.driver.memory\", \"10g\")\n",
    "    .config(\"spark.serializer\", \"org.apache.spark.serializer.KryoSerializer\")\n",
    "    .getOrCreate()\n",
    ")\n",
    "\n",
    "spark.sparkContext.setCheckpointDir(\"/tmp\")\n",
    "\n",
    "pc = PathlingContext.create(\n",
    "    spark=spark,\n",
    "    enable_extensions=True,\n",
    "    enable_delta=True,\n",
    "    enable_terminology=False,\n",
    ")"
   ]
  },
  {
   "cell_type": "code",
   "execution_count": null,
   "id": "8511c788-e0c5-47cf-bda4-b75038d86075",
   "metadata": {
    "execution": {
     "iopub.execute_input": "2025-06-05T18:52:48.248348Z",
     "iopub.status.busy": "2025-06-05T18:52:48.247766Z",
     "iopub.status.idle": "2025-06-05T18:52:49.879123Z",
     "shell.execute_reply": "2025-06-05T18:52:49.877714Z",
     "shell.execute_reply.started": "2025-06-05T18:52:48.248296Z"
    }
   },
   "outputs": [],
   "source": [
    "### Load Patient Data\n",
    "# Wir laden die einzelnen FHIR-Bundles in eine Pathling data source\n",
    "\n",
    "# !!Vorher müssen die json-Files in den Ordner data/ hier in die Laufzeit hochgeladen werden!!\n",
    "# TO DO: curl repo and download images here\n",
    "\n",
    "data = pc.read.bundles(\n",
    "    \"./testdaten_edit_06.06.25\", [\"Patient\", \"Condition\", \"Observation\", \"Procedure\"]\n",
    ")"
   ]
  },
  {
   "cell_type": "code",
   "execution_count": null,
   "id": "a7abc06b-10a8-4550-bcf8-85439b7a1eed",
   "metadata": {
    "execution": {
     "iopub.execute_input": "2025-06-05T18:52:49.882024Z",
     "iopub.status.busy": "2025-06-05T18:52:49.881498Z",
     "iopub.status.idle": "2025-06-05T18:52:49.888568Z",
     "shell.execute_reply": "2025-06-05T18:52:49.887924Z",
     "shell.execute_reply.started": "2025-06-05T18:52:49.881973Z"
    }
   },
   "outputs": [],
   "source": [
    "data"
   ]
  },
  {
   "cell_type": "markdown",
   "id": "4c07e9d5-4a49-4144-a1e3-37a0820f493e",
   "metadata": {},
   "source": [
    "_______________________________________________________________________"
   ]
  },
  {
   "cell_type": "markdown",
   "id": "781897be-b1af-428b-a036-c2cae5f1c703",
   "metadata": {},
   "source": [
    "# MII Resourcen - Erweiterungsmodul Onkologie\n",
    "## Implementation Guide\n",
    "https://simplifier.net/guide/mii-ig-modul-onkologie-2024-de/MIIIGModulOnkologie?version=current"
   ]
  },
  {
   "cell_type": "markdown",
   "id": "67a50695-b1e7-4c60-a670-7f3754848b5e",
   "metadata": {},
   "source": [
    "# THEMEN:\n",
    "## 1. Extract\n",
    "## 2. Combining Resource Types\n",
    "### 2.1 Join \n",
    "### 2.2 Resolve \n",
    "### 2.3 ReverseResolve\n",
    "## 3. GROUP EXERCISE\n",
    "________________________________________________________________________"
   ]
  },
  {
   "cell_type": "markdown",
   "id": "12e68dc2-c2df-4c96-af4c-391564e165ae",
   "metadata": {},
   "source": [
    "# 1. Extract"
   ]
  },
  {
   "cell_type": "markdown",
   "id": "d61e7b40-a051-494b-bbbc-b663f87d45fd",
   "metadata": {},
   "source": [
    "## PATIENT -- RESOURCENTYP: PATIENT\n",
    "https://www.medizininformatik-initiative.de/Kerndatensatz/Modul_Person_Version_2/MIIIGModulPerson-TechnischeImplementierung-FHIR-Profile-PseudonymisiertePatientinPatient.html "
   ]
  },
  {
   "cell_type": "code",
   "execution_count": null,
   "id": "d24e2385-d2dd-4be3-a2aa-10b3b1ae3732",
   "metadata": {
    "execution": {
     "iopub.execute_input": "2025-06-05T18:52:52.844494Z",
     "iopub.status.busy": "2025-06-05T18:52:52.843865Z",
     "iopub.status.idle": "2025-06-05T18:52:56.286427Z",
     "shell.execute_reply": "2025-06-05T18:52:56.284929Z",
     "shell.execute_reply.started": "2025-06-05T18:52:52.844442Z"
    }
   },
   "outputs": [],
   "source": [
    "### Extract Patient Data\n",
    "\n",
    "# Wir nutzen `extract`, um nur den Resourcentyp Patient aus der Pathling datasource zu extrahieren und in einen Pyspark Dataframe zu laden\n",
    "# mithilfe von FHIR Path Ausdrücken können wir in Arrays verschachtelte FHIR Elemente \"ausklappen\" und als Spalte darstellen\n",
    "# exp(\"<FHIR Path Ausdruck>\", \"<Spaltenname>\")\n",
    "\n",
    "# Dabei extrahieren wir:\n",
    "# - die einmalige FHIR Resource ID für jede Patientenresource\n",
    "# - die pseudonymisierte Patienten-ID\n",
    "# - das Geschlecht\n",
    "# - das Geburtsdatum\n",
    "# - das Sterbedatum\n",
    "\n",
    "patients = data.extract(\n",
    "    \"Patient\",\n",
    "    columns=[\n",
    "        exp(\"id\", \"patient_resource_id\"),\n",
    "        exp(\n",
    "            \"identifier.where(type.coding.where(system='http://terminology.hl7.org/CodeSystem/v2-0203' and code='MR').exists()).value\",\n",
    "            \"patid_pseudonym\",\n",
    "        ),\n",
    "        exp(\"gender\", \"gender\"),\n",
    "        exp(\"birthDate\", \"birth_date\"),\n",
    "        exp(\"deceasedDateTime\", \"deceased_datetime\"),\n",
    "    ],\n",
    ")\n",
    "\n",
    "# da die extract Funktion relativ resourcenintensiv werden kann in Abhängigkeit der Datenmenge, und da Spark \"lazy\" agiert, lohnt es sich hier Spark Checkpoint einzusetzen\n",
    "# \"lazy\" bedeutet, dass Spark alle Befehle in einer To Do Liste sammelt und erst nach einer \"Action\" ausführt.\n",
    "# Außerdem speichert Spark keinen materialisierten Zwischenstand des dataframes, wenn man das nicht ausdrücklich verlangt\n",
    "# mithilfe des Checkpoints können wir einen solchen Zwischenstand des dataframes zwischenspeichern und verhindern somit, dass Spark dieselben Schritte immer wieder ausführt\n",
    "# das \"count\" brauchen wir hier als Action, damit auch der checkpoint sofort ausgeführt wird und nicht aufgrund der \"laziness\" in die To Do Liste wandert\n",
    "# mithilfe von spark.sparkContext.setCheckpointDir() können wir den Speicherort der Checkpoints festlegen\n",
    "\n",
    "patients = patients.checkpoint(eager=True)\n",
    "patients_count = patients.count()  # enforce checkpoint\n",
    "\n",
    "print(patients_count)"
   ]
  },
  {
   "cell_type": "code",
   "execution_count": null,
   "id": "878ed3d5-23db-456a-bc40-369b02f0cdaa",
   "metadata": {
    "execution": {
     "iopub.execute_input": "2025-06-05T18:52:56.289688Z",
     "iopub.status.busy": "2025-06-05T18:52:56.288868Z",
     "iopub.status.idle": "2025-06-05T18:52:56.391131Z",
     "shell.execute_reply": "2025-06-05T18:52:56.390608Z",
     "shell.execute_reply.started": "2025-06-05T18:52:56.289639Z"
    }
   },
   "outputs": [],
   "source": [
    "patients.show(72)"
   ]
  },
  {
   "cell_type": "code",
   "execution_count": null,
   "id": "74e20cd6-0989-43c5-94f3-ace7a067dc7c",
   "metadata": {
    "execution": {
     "iopub.execute_input": "2025-06-05T18:52:56.391983Z",
     "iopub.status.busy": "2025-06-05T18:52:56.391801Z",
     "iopub.status.idle": "2025-06-05T18:52:56.505994Z",
     "shell.execute_reply": "2025-06-05T18:52:56.505050Z",
     "shell.execute_reply.started": "2025-06-05T18:52:56.391966Z"
    }
   },
   "outputs": [],
   "source": [
    "# good practice: immer die Gesamtanzahl im Auge behalten\n",
    "# weil: potentiell explosionsartiges Duplizieren\n",
    "# z.B. mit count distinct resource ids --> manchmal kann ein zu ungenau spezifiziertes extract der Arrays dazu führen, dass durch das Aufklappen eines Arrays\n",
    "# mit mehr als einem Element mehrere Zeilen pro Patient (oder Diagnose, etc) erzeugt werden\n",
    "patients.select(\"patient_resource_id\").distinct().count()"
   ]
  },
  {
   "cell_type": "code",
   "execution_count": null,
   "id": "eeeaf769-eaa3-4343-b7d0-5b112fd0e16b",
   "metadata": {
    "execution": {
     "iopub.execute_input": "2025-06-05T18:52:57.486034Z",
     "iopub.status.busy": "2025-06-05T18:52:57.485429Z",
     "iopub.status.idle": "2025-06-05T18:52:57.600811Z",
     "shell.execute_reply": "2025-06-05T18:52:57.599358Z",
     "shell.execute_reply.started": "2025-06-05T18:52:57.485983Z"
    }
   },
   "outputs": [],
   "source": [
    "# Übung: Wieviele Patient*innen unserer Kohorte sind verstorben und wieviele leben noch bzw. haben keine Sterbeinformation?\n",
    "\n",
    "## LÖSUNG:\n",
    "verstorben = patients.filter(col(\"deceased_datetime\").isNotNull()).count()\n",
    "lebend = patients.filter(col(\"deceased_datetime\").isNull()).count()\n",
    "\n",
    "print(\"Verstorben:\", verstorben, \", lebend oder unbekannt:\", lebend)"
   ]
  },
  {
   "cell_type": "markdown",
   "id": "cf4ae697-dc40-4b42-9e41-ab7e2a514dd4",
   "metadata": {},
   "source": [
    "## PRIMAERDIAGNOSE -- RESOURCENTYP: CONDITION\n",
    "https://simplifier.net/guide/mii-ig-modul-onkologie-2024-de/MIIIGModulOnkologie/TechnischeImplementierung/FHIR-Profile/Diagnose/Diagnose-Condition.page.md?version=current"
   ]
  },
  {
   "cell_type": "code",
   "execution_count": null,
   "id": "e7c3cfd9-cc4e-426b-b937-886b4911e2e0",
   "metadata": {
    "execution": {
     "iopub.execute_input": "2025-06-05T18:52:58.384986Z",
     "iopub.status.busy": "2025-06-05T18:52:58.383905Z",
     "iopub.status.idle": "2025-06-05T18:53:00.233582Z",
     "shell.execute_reply": "2025-06-05T18:53:00.232487Z",
     "shell.execute_reply.started": "2025-06-05T18:52:58.384946Z"
    }
   },
   "outputs": [],
   "source": [
    "# wir extrahieren alle Diagnosen - jede Diagnose hat eine eindeutige ID\n",
    "# wieviele eindeutige Diagnosen haben wir?\n",
    "\n",
    "conditions = data.extract(\n",
    "    \"Condition\",\n",
    "    columns=[\n",
    "        exp(\"id\", \"condition_resource_id\"),\n",
    "    ],\n",
    ")\n",
    "conditions = conditions.checkpoint(eager=True)\n",
    "conditions_count = conditions.count()  # enforce checkpoint\n",
    "\n",
    "print(conditions_count)"
   ]
  },
  {
   "cell_type": "code",
   "execution_count": null,
   "id": "bbdbd785-64bd-4246-b40f-70b5aaa69d38",
   "metadata": {
    "execution": {
     "iopub.execute_input": "2025-06-05T18:53:00.235815Z",
     "iopub.status.busy": "2025-06-05T18:53:00.235402Z",
     "iopub.status.idle": "2025-06-05T18:53:00.455666Z",
     "shell.execute_reply": "2025-06-05T18:53:00.454478Z",
     "shell.execute_reply.started": "2025-06-05T18:53:00.235779Z"
    }
   },
   "outputs": [],
   "source": [
    "# good practice: count distinct ids\n",
    "conditions.select(\"condition_resource_id\").distinct().count()"
   ]
  },
  {
   "cell_type": "code",
   "execution_count": null,
   "id": "0c51f743",
   "metadata": {},
   "outputs": [],
   "source": [
    "# dazu extrahieren wir den ICD10 Diagnose Code\n",
    "\n",
    "# \"where\" in der FHIR Path Expression exp...() ist die Projektion (analog zu WHERE in SQL)\n",
    "# das \"where\" im Filter ist die tatsächliche Selektion (analog zu SELECT in SQL)\n",
    "\n",
    "conditions = data.extract(\n",
    "    \"Condition\",\n",
    "    columns=[\n",
    "        exp(\"id\", \"condition_resource_id\"),\n",
    "        exp(\n",
    "            \"code.coding.where(system = 'http://fhir.de/CodeSystem/bfarm/icd-10-gm').code\",  # explizit system angeben, falls es noch weitere Codings mit anderen Systemen gibt\n",
    "            \"icd10_code\",\n",
    "        ),\n",
    "    ],\n",
    "    filters=[\n",
    "        \"code.coding.where(system = 'http://fhir.de/CodeSystem/bfarm/icd-10-gm').exists()\"  # explizit System nochmal selektieren, um NULL rows zu entfernen, die durch andere Codings ggf. entstehen\n",
    "    ],\n",
    ")\n",
    "\n",
    "conditions = conditions.checkpoint(eager=True)\n",
    "conditions_count = conditions.count()  # enforce checkpoint\n",
    "\n",
    "print(conditions_count)"
   ]
  },
  {
   "cell_type": "code",
   "execution_count": null,
   "id": "43e79cf5",
   "metadata": {},
   "outputs": [],
   "source": [
    "# Welche Diagnosen kommen in unserem Datensatz vor?\n",
    "\n",
    "icd10_codes = (\n",
    "    conditions.select(\"icd10_code\")\n",
    "    .distinct()\n",
    "    .orderBy(\"icd10_code\")\n",
    "    .rdd.flatMap(lambda x: x)\n",
    "    .collect()\n",
    ")\n",
    "icd10_codes"
   ]
  },
  {
   "cell_type": "code",
   "execution_count": null,
   "id": "7ba1e24c-bc27-4918-abbb-9f5eecc1fc2a",
   "metadata": {
    "execution": {
     "iopub.execute_input": "2025-06-05T18:53:06.775018Z",
     "iopub.status.busy": "2025-06-05T18:53:06.774551Z",
     "iopub.status.idle": "2025-06-05T18:53:13.712298Z",
     "shell.execute_reply": "2025-06-05T18:53:13.711291Z",
     "shell.execute_reply.started": "2025-06-05T18:53:06.774987Z"
    }
   },
   "outputs": [],
   "source": [
    "# Achtung vor explodierenden row counts und Duplikaten!\n",
    "\n",
    "# die Duplikation entsteht erst wenn ein Element auf condition ebene (höher als code.coding.code Ebene) hinzukommt zum\n",
    "# framework macht intern einen cross join\n",
    "# https://pathling.csiro.au/docs/server/operations/extract --> siehe Abschnitt \"Notes\"\n",
    "conditions = data.extract(\n",
    "    \"Condition\",\n",
    "    columns=[\n",
    "        exp(\"id\", \"condition_resource_id\"),\n",
    "        exp(\n",
    "            \"code.coding.where(system = 'http://fhir.de/CodeSystem/bfarm/icd-10-gm').code\",\n",
    "            \"icd10_code\",\n",
    "        ),  # kardinalität 0...1\n",
    "        exp(\n",
    "            \"extension('http://hl7.org/fhir/StructureDefinition/condition-assertedDate').valueDateTime\",\n",
    "            \"date_diagnosis\",\n",
    "        ),  # kardinalität 1..1\n",
    "    ],\n",
    "    filters=[\n",
    "        \"code.coding.where(system = 'http://fhir.de/CodeSystem/bfarm/icd-10-gm').exists()\",\n",
    "    ],\n",
    ")\n",
    "\n",
    "conditions = conditions.checkpoint(eager=True)\n",
    "conditions_count = conditions.count()  # enforce checkpoint\n",
    "\n",
    "print(\"Falscher count: \", conditions_count)"
   ]
  },
  {
   "cell_type": "code",
   "execution_count": null,
   "id": "f7f73f4b-a38c-4a8d-ad4e-a2127766b019",
   "metadata": {
    "execution": {
     "iopub.execute_input": "2025-06-05T18:53:13.714335Z",
     "iopub.status.busy": "2025-06-05T18:53:13.713830Z",
     "iopub.status.idle": "2025-06-05T18:53:13.845395Z",
     "shell.execute_reply": "2025-06-05T18:53:13.844210Z",
     "shell.execute_reply.started": "2025-06-05T18:53:13.714288Z"
    }
   },
   "outputs": [],
   "source": [
    "print(\n",
    "    \"distinct id count ist immer noch:\",\n",
    "    conditions.select(\"condition_resource_id\").distinct().count(),\n",
    ")"
   ]
  },
  {
   "cell_type": "code",
   "execution_count": null,
   "id": "70644063-53eb-404e-a1dd-dc05c998e3e0",
   "metadata": {
    "execution": {
     "iopub.execute_input": "2025-06-05T18:53:13.847558Z",
     "iopub.status.busy": "2025-06-05T18:53:13.847054Z",
     "iopub.status.idle": "2025-06-05T18:53:13.907965Z",
     "shell.execute_reply": "2025-06-05T18:53:13.906781Z",
     "shell.execute_reply.started": "2025-06-05T18:53:13.847510Z"
    }
   },
   "outputs": [],
   "source": [
    "# hier siehst du, dass dupliziert wurde --> jede condition_resource_id kommt jetzt 2x vor\n",
    "conditions.show()"
   ]
  },
  {
   "cell_type": "code",
   "execution_count": null,
   "id": "4bcf36e6-c19d-40af-994b-28a52e3a3e98",
   "metadata": {
    "execution": {
     "iopub.execute_input": "2025-06-05T18:53:13.910458Z",
     "iopub.status.busy": "2025-06-05T18:53:13.909530Z",
     "iopub.status.idle": "2025-06-05T18:53:19.653767Z",
     "shell.execute_reply": "2025-06-05T18:53:19.652275Z",
     "shell.execute_reply.started": "2025-06-05T18:53:13.910413Z"
    }
   },
   "outputs": [],
   "source": [
    "# wir brauchen da ein first wo wir sicher sind, dass es nur max. einmal vorkommen kann --> Stichwort Kardinalitäten (0...1 oder 1...1)\n",
    "conditions = data.extract(\n",
    "    \"Condition\",\n",
    "    columns=[\n",
    "        exp(\"id\", \"condition_resource_id\"),\n",
    "        exp(\n",
    "            \"code.coding.where(system = 'http://fhir.de/CodeSystem/bfarm/icd-10-gm').code.first()\",\n",
    "            \"icd10_code\",\n",
    "        ),  # kardinalität 0...1\n",
    "        exp(\n",
    "            \"extension('http://hl7.org/fhir/StructureDefinition/condition-assertedDate').valueDateTime.first()\",\n",
    "            \"date_diagnosis\",\n",
    "        ),  # kardinalität 1..1\n",
    "        exp(\"recordedDate\", \"recorded_date\"),\n",
    "    ],\n",
    "    filters=[\n",
    "        \"code.coding.where(system = 'http://fhir.de/CodeSystem/bfarm/icd-10-gm').exists()\",\n",
    "    ],\n",
    ")\n",
    "\n",
    "conditions = conditions.checkpoint(eager=True)\n",
    "conditions_count = conditions.count()  # enforce checkpoint\n",
    "\n",
    "print(conditions_count)"
   ]
  },
  {
   "cell_type": "code",
   "execution_count": null,
   "id": "fa00ef5f-ba15-4e7b-ac62-183d5ad0fb1a",
   "metadata": {
    "execution": {
     "iopub.execute_input": "2025-06-05T18:53:19.656456Z",
     "iopub.status.busy": "2025-06-05T18:53:19.655472Z",
     "iopub.status.idle": "2025-06-05T18:53:19.693340Z",
     "shell.execute_reply": "2025-06-05T18:53:19.692344Z",
     "shell.execute_reply.started": "2025-06-05T18:53:19.656401Z"
    }
   },
   "outputs": [],
   "source": [
    "# hier siehst du jetzt, dass die doppelte Zeile mit condition_resource_id korrekterweise wieder entfernt wurde\n",
    "conditions.show()"
   ]
  },
  {
   "cell_type": "code",
   "execution_count": null,
   "id": "0cf2d112-4a80-415a-979f-b2be6db510a8",
   "metadata": {
    "execution": {
     "iopub.execute_input": "2025-06-05T18:53:19.699080Z",
     "iopub.status.busy": "2025-06-05T18:53:19.698439Z",
     "iopub.status.idle": "2025-06-05T18:53:25.063468Z",
     "shell.execute_reply": "2025-06-05T18:53:25.062283Z",
     "shell.execute_reply.started": "2025-06-05T18:53:19.699063Z"
    }
   },
   "outputs": [],
   "source": [
    "# Referenz zum Patienten\n",
    "conditions = data.extract(\n",
    "    \"Condition\",\n",
    "    columns=[\n",
    "        exp(\"id\", \"condition_resource_id\"),\n",
    "        exp(\n",
    "            \"code.coding.where(system = 'http://fhir.de/CodeSystem/bfarm/icd-10-gm').code.first()\",\n",
    "            \"icd10_code\",\n",
    "        ),  # kardinalität 0...1\n",
    "        exp(\n",
    "            \"extension('http://hl7.org/fhir/StructureDefinition/condition-assertedDate').valueDateTime.first()\",\n",
    "            \"date_diagnosis\",\n",
    "        ),  # kardinalität 1..1\n",
    "        exp(\"subject.reference\", \"condition_subject_reference\"),\n",
    "    ],\n",
    "    filters=[\n",
    "        \"code.coding.where(system = 'http://fhir.de/CodeSystem/bfarm/icd-10-gm').exists()\"\n",
    "    ],\n",
    ")\n",
    "\n",
    "conditions = conditions.checkpoint(eager=True)\n",
    "conditions_count = conditions.count()  # enforce checkpoint\n",
    "\n",
    "print(conditions_count)"
   ]
  },
  {
   "cell_type": "code",
   "execution_count": null,
   "id": "c6080f72-83af-4eef-9b76-fcabaae181ba",
   "metadata": {
    "execution": {
     "iopub.execute_input": "2025-06-05T18:53:25.065271Z",
     "iopub.status.busy": "2025-06-05T18:53:25.064994Z",
     "iopub.status.idle": "2025-06-05T18:53:25.092871Z",
     "shell.execute_reply": "2025-06-05T18:53:25.091751Z",
     "shell.execute_reply.started": "2025-06-05T18:53:25.065245Z"
    }
   },
   "outputs": [],
   "source": [
    "conditions.show()"
   ]
  },
  {
   "cell_type": "code",
   "execution_count": null,
   "id": "e5943f9e-e208-4895-9cef-e406c7ed40d5",
   "metadata": {
    "execution": {
     "iopub.execute_input": "2025-06-05T18:53:25.095087Z",
     "iopub.status.busy": "2025-06-05T18:53:25.094336Z",
     "iopub.status.idle": "2025-06-05T18:53:25.138651Z",
     "shell.execute_reply": "2025-06-05T18:53:25.137567Z",
     "shell.execute_reply.started": "2025-06-05T18:53:25.095043Z"
    }
   },
   "outputs": [],
   "source": [
    "# Vergleiche condition_subject_reference aus dem conditions dataframe mit patient_resource_id aus dem patients dataframe -- wo ist der Unterschied?\n",
    "patients.show()"
   ]
  },
  {
   "cell_type": "markdown",
   "id": "e4058e8b-c80d-4e04-b36a-1e11594d4bed",
   "metadata": {},
   "source": [
    "## JOIN"
   ]
  },
  {
   "cell_type": "code",
   "execution_count": null,
   "id": "06c983b1-c000-4985-80d7-63258b80d608",
   "metadata": {
    "execution": {
     "iopub.execute_input": "2025-06-05T18:53:25.140636Z",
     "iopub.status.busy": "2025-06-05T18:53:25.140125Z",
     "iopub.status.idle": "2025-06-05T18:53:25.242162Z",
     "shell.execute_reply": "2025-06-05T18:53:25.241497Z",
     "shell.execute_reply.started": "2025-06-05T18:53:25.140614Z"
    }
   },
   "outputs": [],
   "source": [
    "# entferne das \"Patient/\" in den Werten der Spalte \"condition_subject_reference\", da dieser Präfix in patient_resource_id auch nicht vorkommt\n",
    "# nach dieser Vorverarbeitung können wir dann joinen: patients[\"patient_resource_id\"] == conditions[\"condition_subject_reference\"]\n",
    "\n",
    "conditions = conditions.withColumn(\n",
    "    \"condition_subject_reference\",\n",
    "    regexp_replace(\"condition_subject_reference\", \"^Patient/\", \"\"),\n",
    ")\n",
    "conditions = conditions.checkpoint(eager=True)\n",
    "conditions.count()  # enforce checkpoint"
   ]
  },
  {
   "cell_type": "code",
   "execution_count": null,
   "id": "721a8ca8-96fe-4326-8608-38dfb6e71991",
   "metadata": {
    "execution": {
     "iopub.execute_input": "2025-06-05T18:53:25.243328Z",
     "iopub.status.busy": "2025-06-05T18:53:25.243075Z",
     "iopub.status.idle": "2025-06-05T18:53:25.265920Z",
     "shell.execute_reply": "2025-06-05T18:53:25.265304Z",
     "shell.execute_reply.started": "2025-06-05T18:53:25.243304Z"
    },
    "scrolled": true
   },
   "outputs": [],
   "source": [
    "conditions.show()"
   ]
  },
  {
   "cell_type": "code",
   "execution_count": null,
   "id": "da348c92-a8c9-4802-9768-4fe1475e04ba",
   "metadata": {
    "execution": {
     "iopub.execute_input": "2025-06-05T18:53:25.266999Z",
     "iopub.status.busy": "2025-06-05T18:53:25.266765Z",
     "iopub.status.idle": "2025-06-05T18:53:25.460910Z",
     "shell.execute_reply": "2025-06-05T18:53:25.459754Z",
     "shell.execute_reply.started": "2025-06-05T18:53:25.266976Z"
    }
   },
   "outputs": [],
   "source": [
    "patients_conditions = (\n",
    "    patients.alias(\"p\")\n",
    "    .join(\n",
    "        conditions.alias(\"c\"),\n",
    "        patients[\"patient_resource_id\"]\n",
    "        == conditions[\"condition_subject_reference\"],  # Join condition\n",
    "        \"left\",  # Left join\n",
    "    )\n",
    "    .select(\"c.*\", \"p.*\")\n",
    ")\n",
    "\n",
    "patients_conditions = patients_conditions.checkpoint(eager=True)\n",
    "patients_conditions_count = patients_conditions.count()\n",
    "patients_conditions_count"
   ]
  },
  {
   "cell_type": "code",
   "execution_count": null,
   "id": "66c6ee9e-5651-47e9-a2cf-ba9ba8af9fc0",
   "metadata": {
    "execution": {
     "iopub.execute_input": "2025-06-05T18:53:25.462125Z",
     "iopub.status.busy": "2025-06-05T18:53:25.461875Z",
     "iopub.status.idle": "2025-06-05T18:53:25.501266Z",
     "shell.execute_reply": "2025-06-05T18:53:25.499887Z",
     "shell.execute_reply.started": "2025-06-05T18:53:25.462101Z"
    }
   },
   "outputs": [],
   "source": [
    "patients_conditions.show()"
   ]
  },
  {
   "cell_type": "code",
   "execution_count": null,
   "id": "d4537856-01fc-4832-839a-1ff376991361",
   "metadata": {},
   "outputs": [],
   "source": []
  },
  {
   "cell_type": "markdown",
   "id": "1100703a-39a5-470a-84db-9544b9f021a0",
   "metadata": {},
   "source": [
    "## Resolve"
   ]
  },
  {
   "cell_type": "code",
   "execution_count": null,
   "id": "aa2c0818-6ebb-4382-affc-6da3a65f2075",
   "metadata": {
    "execution": {
     "iopub.execute_input": "2025-06-05T18:53:25.503460Z",
     "iopub.status.busy": "2025-06-05T18:53:25.502956Z",
     "iopub.status.idle": "2025-06-05T18:53:39.369006Z",
     "shell.execute_reply": "2025-06-05T18:53:39.367823Z",
     "shell.execute_reply.started": "2025-06-05T18:53:25.503412Z"
    }
   },
   "outputs": [],
   "source": [
    "# deutlich schlankere Alternative zu zwei einzelnen extracts von patients und conditions und join\n",
    "# resolve löst Referenz auf\n",
    "\n",
    "conditions_patients_resolve = data.extract(\n",
    "    \"Condition\",\n",
    "    columns=[\n",
    "        exp(\"id\", \"condition_resource_id\"),\n",
    "        exp(\n",
    "            \"code.coding.where(system = 'http://fhir.de/CodeSystem/bfarm/icd-10-gm').code.first()\",\n",
    "            \"icd10_code\",\n",
    "        ),  # kardinalität 0...1\n",
    "        exp(\n",
    "            \"extension('http://hl7.org/fhir/StructureDefinition/condition-assertedDate').valueDateTime.first()\",\n",
    "            \"date_diagnosis\",\n",
    "        ),  # kardinalität 1..1\n",
    "        exp(\"subject.reference\", \"condition_subject_reference\"),\n",
    "        exp(\"subject.resolve().ofType(Patient).id\", \"patient_resource_id\"),\n",
    "        exp(\n",
    "            \"subject.resolve().ofType(Patient).identifier.where(type.coding.where(system='http://terminology.hl7.org/CodeSystem/v2-0203' and code='MR').exists()).value\",\n",
    "            \"patid_pseudonym\",\n",
    "        ),\n",
    "        exp(\"subject.resolve().ofType(Patient).birthDate\", \"birth_date\"),\n",
    "        exp(\"subject.resolve().ofType(Patient).gender\", \"gender\"),\n",
    "        exp(\"subject.resolve().ofType(Patient).deceasedDateTime\", \"deceased_datetime\"),\n",
    "    ],\n",
    "    filters=[\n",
    "        \"code.coding.where(system = 'http://fhir.de/CodeSystem/bfarm/icd-10-gm').exists()\"\n",
    "    ],\n",
    ")\n",
    "conditions_patients_resolve = conditions_patients_resolve.checkpoint(eager=True)\n",
    "conditions_patients_resolve_count = conditions_patients_resolve.count()\n",
    "conditions_patients_resolve_count"
   ]
  },
  {
   "cell_type": "code",
   "execution_count": null,
   "id": "9dd171bb-9c28-4011-9a0e-fddec7978fb1",
   "metadata": {
    "execution": {
     "iopub.execute_input": "2025-06-05T18:53:39.370193Z",
     "iopub.status.busy": "2025-06-05T18:53:39.369963Z",
     "iopub.status.idle": "2025-06-05T18:53:39.399619Z",
     "shell.execute_reply": "2025-06-05T18:53:39.398782Z",
     "shell.execute_reply.started": "2025-06-05T18:53:39.370173Z"
    }
   },
   "outputs": [],
   "source": [
    "conditions_patients_resolve.show()"
   ]
  },
  {
   "cell_type": "markdown",
   "id": "21238d44-45a9-461c-9ced-065609970478",
   "metadata": {},
   "source": [
    "## ReverseResolve"
   ]
  },
  {
   "cell_type": "code",
   "execution_count": null,
   "id": "de15e1fb-8714-48e3-abcf-6a5831d88f66",
   "metadata": {
    "execution": {
     "iopub.execute_input": "2025-06-05T18:53:39.400489Z",
     "iopub.status.busy": "2025-06-05T18:53:39.400283Z",
     "iopub.status.idle": "2025-06-05T18:53:54.782122Z",
     "shell.execute_reply": "2025-06-05T18:53:54.781301Z",
     "shell.execute_reply.started": "2025-06-05T18:53:39.400470Z"
    }
   },
   "outputs": [],
   "source": [
    "# löst Referenz rückwarts auf\n",
    "\n",
    "patients_condition_reverse_resolve = data.extract(\n",
    "    \"Patient\",\n",
    "    columns=[\n",
    "        exp(\"id\", \"patient_resource_id\"),\n",
    "        exp(\n",
    "            \"identifier.where(type.coding.where(system='http://terminology.hl7.org/CodeSystem/v2-0203' and code='MR').exists()).value\",\n",
    "            \"patid_pseudonym\",\n",
    "        ),\n",
    "        exp(\"gender\", \"gender\"),\n",
    "        exp(\"birthDate\", \"birth_date\"),\n",
    "        exp(\"deceasedDateTime\", \"deceased_datetime\"),\n",
    "        exp(\"id\", \"condition_resource_id\"),\n",
    "        exp(\n",
    "            \"reverseResolve(Condition.subject).code.coding.where(system = 'http://fhir.de/CodeSystem/bfarm/icd-10-gm').code.first()\",\n",
    "            \"icd10_code\",\n",
    "        ),  # kardinalität 0...1\n",
    "        exp(\n",
    "            \"reverseResolve(Condition.subject).extension('http://hl7.org/fhir/StructureDefinition/condition-assertedDate').valueDateTime.first()\",\n",
    "            \"date_diagnosis\",\n",
    "        ),  # kardinalität 1..1\n",
    "        exp(\n",
    "            \"reverseResolve(Condition.subject).subject.reference\",\n",
    "            \"condition_subject_reference\",\n",
    "        ),\n",
    "    ],\n",
    ")\n",
    "\n",
    "patients_condition_reverse_resolve = patients_condition_reverse_resolve.checkpoint(\n",
    "    eager=True\n",
    ")\n",
    "patients_condition_reverse_resolve_count = patients_condition_reverse_resolve.count()\n",
    "patients_condition_reverse_resolve_count"
   ]
  },
  {
   "cell_type": "code",
   "execution_count": null,
   "id": "ba3595a2-b71f-461f-ab1a-9828833c6a77",
   "metadata": {
    "execution": {
     "iopub.execute_input": "2025-06-05T18:53:54.783863Z",
     "iopub.status.busy": "2025-06-05T18:53:54.783414Z",
     "iopub.status.idle": "2025-06-05T18:53:54.816098Z",
     "shell.execute_reply": "2025-06-05T18:53:54.814746Z",
     "shell.execute_reply.started": "2025-06-05T18:53:54.783823Z"
    }
   },
   "outputs": [],
   "source": [
    "patients_condition_reverse_resolve.show()"
   ]
  },
  {
   "cell_type": "markdown",
   "id": "c659c236-8b0b-4ba9-8a82-fb5f1a8ede77",
   "metadata": {},
   "source": [
    "### 3 Lösungswege für dasselbe Ergebnis"
   ]
  },
  {
   "cell_type": "code",
   "execution_count": null,
   "id": "e7b0622a-6abb-4155-a43a-22004c10fb12",
   "metadata": {
    "execution": {
     "iopub.execute_input": "2025-06-05T18:53:54.818517Z",
     "iopub.status.busy": "2025-06-05T18:53:54.817680Z",
     "iopub.status.idle": "2025-06-05T18:53:54.891204Z",
     "shell.execute_reply": "2025-06-05T18:53:54.890067Z",
     "shell.execute_reply.started": "2025-06-05T18:53:54.818470Z"
    }
   },
   "outputs": [],
   "source": [
    "# 1)\n",
    "print(\"aus join\")\n",
    "patients_conditions.sort(\"condition_resource_id\").show(2)\n",
    "\n",
    "# 2)\n",
    "print(\"aus resolve:\")\n",
    "conditions_patients_resolve.sort(\"condition_resource_id\").show(2)\n",
    "\n",
    "# 3\n",
    "print(\"aus reverseResolve:\")\n",
    "patients_condition_reverse_resolve.sort(\"condition_resource_id\").show(2)"
   ]
  },
  {
   "cell_type": "code",
   "execution_count": null,
   "id": "8250a3ab-aafd-4a82-8725-6ea140f6de69",
   "metadata": {
    "execution": {
     "iopub.execute_input": "2025-06-05T18:53:54.893582Z",
     "iopub.status.busy": "2025-06-05T18:53:54.892770Z",
     "iopub.status.idle": "2025-06-05T18:53:55.047579Z",
     "shell.execute_reply": "2025-06-05T18:53:55.046417Z",
     "shell.execute_reply.started": "2025-06-05T18:53:54.893533Z"
    }
   },
   "outputs": [],
   "source": [
    "### Übung: Altersverteilung der onkologischen Patient:innen\n",
    "\n",
    "# 1.1 Berechne das Alter bei Diagnose aus dem Geburtsdatum und Diagnosedatum und füge es als neue Spalte in den DataFrame ein\n",
    "# Hinweis: diese Funktionen sind hilfreich: withColumn und\n",
    "from pyspark.sql.functions import col, datediff, floor, to_date\n",
    "\n",
    "patients_conditions = patients_conditions.withColumn(\n",
    "    \"birth_date\", to_date(col(\"birth_date\"))\n",
    ").withColumn(\n",
    "    \"age_at_diagnosis\",\n",
    "    floor(datediff(col(\"date_diagnosis\"), col(\"birth_date\")) / 365.25),\n",
    ")\n",
    "\n",
    "patients_conditions.show(truncate=False)\n",
    "\n",
    "# 1.2 Daten in Pandas überführen\n",
    "\n",
    "patients_conditions_pd = patients_conditions.toPandas()\n",
    "\n",
    "# 1.3 Zeichne ein Histogramm der Altersverteilung\n",
    "\n",
    "import matplotlib.pyplot as plt\n",
    "\n",
    "plt.figure(figsize=(10, 6))\n",
    "plt.hist(\n",
    "    patients_conditions_pd[\"age_at_diagnosis\"].dropna(),\n",
    "    bins=10,\n",
    "    edgecolor=\"black\",\n",
    "    color=\"blue\",\n",
    ")\n",
    "plt.xlabel(\"Alter (Jahre)\")\n",
    "plt.ylabel(\"Anzahl Patient:innen\")\n",
    "plt.grid(True)\n",
    "plt.show()"
   ]
  },
  {
   "cell_type": "markdown",
   "id": "60045f55-8804-4e7f-baef-bd010b08c194",
   "metadata": {},
   "source": [
    "# 3.  GRUPPENARBEIT\n",
    "### 4 ENTITÄTEN: \n",
    "##### (Quelle zugegebenermaßen aus Zeitgründen ChatGPT und stichprobenartig überprüft - falls hier etwas gar nicht passt, bitte melden :) )\n",
    "### 1. Ösophagus C15\n",
    "#### (Speiseröhrenkrebs)\n",
    "\n",
    "    Häufigkeit: Relativ selten, aber mit hoher Sterblichkeitsrate – etwa 5.000–6.000 Neuerkrankungen pro Jahr in Deutschland.\n",
    "\n",
    "    Typen: Zwei Hauptformen – Plattenepithelkarzinom (oberer/mittlerer Ösophagus) und Adenokarzinom (unterer Ösophagus).\n",
    "\n",
    "    Risikofaktoren: Rauchen, Alkohol, Refluxkrankheit (Barrett-Ösophagus), Adipositas.\n",
    "\n",
    "    Symptome: Schluckbeschwerden (Dysphagie), Gewichtsverlust, Brustschmerzen.\n",
    "\n",
    "    Prognose: Sehr schlecht; 5-Jahres-Überlebensrate liegt bei unter 20 %, oft wegen später Diagnose.\n",
    "### 2. Colon C18\n",
    "#### (Dickdarmkrebs, ohne Rektum)\n",
    "\n",
    "    Häufigkeit: Eine der häufigsten Krebsarten – etwa 33.000 Neuerkrankungen pro Jahr in Deutschland.\n",
    "\n",
    "    Früherkennung: Darmspiegelung (Koloskopie) ab 50 (Männer) bzw. 55 (Frauen) empfohlen.\n",
    "\n",
    "    Risikofaktoren: Ernährung (viel rotes Fleisch, wenig Ballaststoffe), familiäre Belastung, chronisch entzündliche Darmerkrankungen.\n",
    "\n",
    "    Symptome: Blut im Stuhl, Veränderungen des Stuhlgangs, unklare Bauchschmerzen.\n",
    "\n",
    "    Prognose: Bei früher Diagnose gute Heilungschancen – 5-Jahres-Überlebensrate >60 %.\n",
    "### 3. Pankreas C25\n",
    "#### (Bauchspeicheldrüsenkrebs)\n",
    "\n",
    "    Häufigkeit: Etwa 20.000 Neuerkrankungen jährlich in Deutschland, steigende Tendenz.\n",
    "\n",
    "    Typ: Meist duktales Adenokarzinom des Pankreaskopfes.\n",
    "\n",
    "    Risikofaktoren: Rauchen, chronische Pankreatitis, Diabetes mellitus, genetische Prädisposition.\n",
    "\n",
    "    Symptome: Unspezifisch – Gewichtsverlust, Oberbauchschmerzen, Ikterus (Gelbsucht).\n",
    "\n",
    "    Prognose: Sehr schlecht – 5-Jahres-Überlebensrate unter 10 %, meist späte Diagnose.\n",
    "### 4. Gliom C71\n",
    "#### (Hirntumor, maligner, z. B. Glioblastom)\n",
    "\n",
    "    Häufigkeit: Etwa 6.000–8.000 neue primäre Hirntumoren pro Jahr in Deutschland, davon viele Gliome.\n",
    "\n",
    "    Typen: Astrozytom, Oligodendrogliom, Glioblastom (besonders aggressiv).\n",
    "\n",
    "    Risikofaktoren: Meist unklar; wenige bekannte genetische Syndrome (z. B. Li-Fraumeni).\n",
    "\n",
    "    Symptome: Kopfschmerzen, epileptische Anfälle, neurologische Ausfälle (z. B. Lähmungen, Sprachstörungen).\n",
    "\n",
    "    Prognose: Stark abhängig vom Grad – Glioblastome (WHO Grad IV) haben eine mittlere Überlebenszeit von ca. 15 Monaten trotz Therapie.\n",
    "### Aufgabe: Wählt eine Entität aus (jede Entität sollte von mind. einer Gruppe gewählt werden) und führt folgende Analysen durch.\n",
    "#### 3.1: Wie häufig ist die Diagnose?\n",
    "#### 3.2: Wie ist die Diagnoseverteilung zwischen den Geschlechtern verteilt?\n",
    "#### 3.3: Wie sieht die Altersverteilung der Diagnose aus? Visualisiere das Ergebnis, z.B. in einem Histogramm.\n",
    "#### 3.4: Therapieanalyse: Operation, Strahlentherapie\n",
    "#### 3.5: Freie Auswertung - was interessiert dich noch innerhalb deiner Kohorte?"
   ]
  },
  {
   "cell_type": "code",
   "execution_count": null,
   "id": "211ddcf9-add5-4578-a14f-b2328a346e8a",
   "metadata": {
    "execution": {
     "iopub.status.busy": "2025-06-05T18:53:55.047993Z",
     "iopub.status.idle": "2025-06-05T18:53:55.048186Z",
     "shell.execute_reply": "2025-06-05T18:53:55.048097Z",
     "shell.execute_reply.started": "2025-06-05T18:53:55.048087Z"
    }
   },
   "outputs": [],
   "source": [
    "# Lösung 3.1 für C71 Kohorte\n",
    "patients_conditions_c71 = patients_conditions.filter(\n",
    "    col(\"icd10_code\").startswith(\"C71\")\n",
    ")\n",
    "\n",
    "patients_conditions_c71 = patients_conditions_c71.checkpoint(eager=True)\n",
    "patients_conditions_c71_count = patients_conditions_c71.count()\n",
    "\n",
    "print(\"patients_conditions_c71_count =\", patients_conditions_c71_count)\n",
    "\n",
    "print(\n",
    "    \"distinct condition ids count =\",\n",
    "    patients_conditions_c71.select(\"condition_resource_id\").distinct().count(),\n",
    ")"
   ]
  },
  {
   "cell_type": "code",
   "execution_count": null,
   "id": "fccc83df-1c90-48a6-a3b8-111c45522cb8",
   "metadata": {
    "execution": {
     "iopub.status.busy": "2025-06-05T18:53:55.048696Z",
     "iopub.status.idle": "2025-06-05T18:53:55.048874Z",
     "shell.execute_reply": "2025-06-05T18:53:55.048793Z",
     "shell.execute_reply.started": "2025-06-05T18:53:55.048784Z"
    }
   },
   "outputs": [],
   "source": [
    "patients_conditions_c71.show()"
   ]
  },
  {
   "cell_type": "code",
   "execution_count": null,
   "id": "1a464640-bf1a-42ad-88e1-aceb02eb4d05",
   "metadata": {
    "execution": {
     "iopub.status.busy": "2025-06-05T18:53:55.049381Z",
     "iopub.status.idle": "2025-06-05T18:53:55.049557Z",
     "shell.execute_reply": "2025-06-05T18:53:55.049476Z",
     "shell.execute_reply.started": "2025-06-05T18:53:55.049467Z"
    }
   },
   "outputs": [],
   "source": [
    "# Lösung 3.2 für C71 Kohorte\n",
    "\n",
    "female = patients_conditions_c71.filter(col(\"gender\") == \"female\").count()\n",
    "male = patients_conditions_c71.filter(col(\"gender\") == \"male\").count()\n",
    "\n",
    "print(\"female:\", female, \", male:\", male)"
   ]
  },
  {
   "cell_type": "code",
   "execution_count": null,
   "id": "da00b42c-02a4-4a49-8c8f-e11eef19e2d5",
   "metadata": {
    "execution": {
     "iopub.status.busy": "2025-06-05T18:53:55.050137Z",
     "iopub.status.idle": "2025-06-05T18:53:55.050319Z",
     "shell.execute_reply": "2025-06-05T18:53:55.050237Z",
     "shell.execute_reply.started": "2025-06-05T18:53:55.050228Z"
    }
   },
   "outputs": [],
   "source": [
    "# Lösung 3.3 für C71 Kohorte\n",
    "patients_conditions_c71 = patients_conditions_c71.withColumn(\n",
    "    \"birth_date\", to_date(col(\"birth_date\"))\n",
    ").withColumn(\n",
    "    \"age_at_diagnosis\",\n",
    "    floor(datediff(col(\"date_diagnosis\"), col(\"birth_date\")) / 365.25),\n",
    ")\n",
    "\n",
    "patients_conditions_c71.show(truncate=False)\n",
    "\n",
    "patients_conditions_c71 = patients_conditions_c71.toPandas()\n",
    "\n",
    "import matplotlib.pyplot as plt\n",
    "\n",
    "plt.figure(figsize=(10, 6))\n",
    "plt.hist(\n",
    "    patients_conditions_pd[\"age_at_diagnosis\"].dropna(),\n",
    "    bins=10,\n",
    "    edgecolor=\"black\",\n",
    "    color=\"blue\",\n",
    ")\n",
    "plt.xlabel(\"Alter (Jahre)\")\n",
    "plt.ylabel(\"Anzahl Patient:innen\")\n",
    "plt.grid(True)\n",
    "plt.show()"
   ]
  },
  {
   "cell_type": "markdown",
   "id": "14907e12",
   "metadata": {},
   "source": [
    "### 3.4: Therapieanalyse"
   ]
  },
  {
   "cell_type": "markdown",
   "id": "73ac6c45-22a0-4315-ab19-b7e66ddd7145",
   "metadata": {
    "execution": {
     "iopub.status.busy": "2025-06-05T11:10:22.194312Z",
     "iopub.status.idle": "2025-06-05T11:10:22.194513Z",
     "shell.execute_reply": "2025-06-05T11:10:22.194422Z",
     "shell.execute_reply.started": "2025-06-05T11:10:22.194412Z"
    }
   },
   "source": [
    "#### OPERATION -- RESOURCENTYP: PROCEDURE\n",
    "https://simplifier.net/guide/mii-ig-modul-onkologie-2024-de/MIIIGModulOnkologie/TechnischeImplementierung/FHIR-Profile/Operation/Operation-Procedure.page.md?version=current"
   ]
  },
  {
   "cell_type": "code",
   "execution_count": null,
   "id": "c3db28a7-e696-41e7-b2d5-39207482a502",
   "metadata": {
    "execution": {
     "iopub.execute_input": "2025-06-05T18:02:52.034025Z",
     "iopub.status.busy": "2025-06-05T18:02:52.033424Z",
     "iopub.status.idle": "2025-06-05T18:02:52.039882Z",
     "shell.execute_reply": "2025-06-05T18:02:52.038507Z",
     "shell.execute_reply.started": "2025-06-05T18:02:52.033974Z"
    }
   },
   "outputs": [],
   "source": [
    "# 3.4 Operationen: untersuche wie häufig deine Kohorte die Therapieform Operation erhält.\n",
    "\n",
    "# Extrahiere die folgenden Spalten: op resource id, category, op_date, op intention, OPS Code + icd10 code und condition_resource_id der zugrundeliegenden Diagnose\n",
    "# Welche OP Intentionen findest du in deiner Kohorte, wie oft kommen sie jeweils vor und wofür stehen die Codes? (Stichwort ValueSet im Implementation Guide)\n",
    "# Extrahiere hierfür die entsprechende Extension (analog zum Diagnosedatum im Einführungsbeispiel).\n",
    "\n",
    "# Hinweise\n",
    "# - mithilfe der folgenden Snomed CT category.coding.codes kannst du Operationen filtern:\n",
    "# 387713003 - Surgical procedure\n",
    "# 165197003 - Diagnostic assessment\n",
    "# 394841004 - Other category\n",
    "\n",
    "# - über Procedure.reasonReference hast du die Verbindung zur zugrundeliegenden Condition Resource = Diagnose.\n",
    "# - überprüfe dringend jederzeit die distinct op_resource_ids und betrachte den gesamten dataframe, um sicherzustellen, dass du keine duplizierten Zeilen erzeugt hast."
   ]
  },
  {
   "cell_type": "markdown",
   "id": "08c64da2",
   "metadata": {},
   "source": [
    "#### STRAHLENTHERAPIE -- RESOURCENTYP: PROCEDURE\n",
    "https://simplifier.net/guide/mii-ig-modul-onkologie-2024-de/MIIIGModulOnkologie/TechnischeImplementierung/FHIR-Profile/Strahlentherapie/Strahlentherapie-Procedure.page.md?version=current"
   ]
  },
  {
   "cell_type": "code",
   "execution_count": null,
   "id": "46919526-8f21-45f2-a7f1-bac8584f3b87",
   "metadata": {},
   "outputs": [],
   "source": [
    "# 3.4 Strahlentherapie: untersuche wie häufig deine Kohorte die Therapieform Strahlentherapie erhält.\n",
    "\n",
    "# Extrahiere die folgenden Spalten: st resource id, category, st_start_date und st_end_date und st_datetime, op intention, OPS Code + icd10 code und condition_resource_id der zugrundeliegenden Diagnose\n",
    "# Welche OP Intentionen findest du in deiner Kohorte, wie oft kommen sie jeweils vor und wofür stehen die Codes? (Stichwort ValueSet im Implementation Guide)\n",
    "# Extrahiere hierfür die entsprechende Extension (analog zum Diagnosedatum im Einführungsbeispiel).\n",
    "\n",
    "# Hinweise\n",
    "# - mithilfe der folgenden Snomed CT category.coding.codes kannst du Operationen filtern:\n",
    "# \"1287742003\" Radiotherapy (procedure)\n",
    "# \"399315003\" Radionuclide therapy (procedure)\n",
    "\n",
    "# - über Procedure.reasonReference hast du die Verbindung zur zugrundeliegenden Condition Resource = Diagnose.\n",
    "# - überprüfe dringend jederzeit die distinct st_resource_ids und betrachte den gesamten dataframe, um sicherzustellen, dass du keine duplizierten Zeilen erzeugt hast.\n",
    "\n",
    "\n",
    "# 3.4 Operationen - Lösung:"
   ]
  },
  {
   "cell_type": "code",
   "execution_count": null,
   "id": "55e5611d",
   "metadata": {},
   "outputs": [],
   "source": []
  },
  {
   "cell_type": "markdown",
   "id": "11fa2de7",
   "metadata": {},
   "source": [
    "### 3.5: Freie Auswertung - was interessiert dich noch innerhalb deiner Kohorte?\n",
    "#### Aufgabe: überlege dir deine eigene Auswertung, erzeuge ggf. einen anschaulichen Plot\n",
    "#### Inspiration: Geschlecht/Altersverteilung der Therapieformen"
   ]
  },
  {
   "cell_type": "code",
   "execution_count": null,
   "id": "bb8c2530-e3ff-45a6-8512-721080ab0edf",
   "metadata": {
    "execution": {
     "iopub.status.busy": "2025-06-05T11:10:22.195663Z",
     "iopub.status.idle": "2025-06-05T11:10:22.195916Z",
     "shell.execute_reply": "2025-06-05T11:10:22.195812Z",
     "shell.execute_reply.started": "2025-06-05T11:10:22.195801Z"
    }
   },
   "outputs": [],
   "source": []
  },
  {
   "cell_type": "code",
   "execution_count": null,
   "id": "89e3a037-6de0-47d0-b694-b54f93969d17",
   "metadata": {},
   "outputs": [],
   "source": []
  },
  {
   "cell_type": "code",
   "execution_count": null,
   "id": "3572129d-11b3-4cbc-98d6-53d0cf529a05",
   "metadata": {},
   "outputs": [],
   "source": []
  },
  {
   "cell_type": "code",
   "execution_count": null,
   "id": "fee8f105-bcaf-44f2-8db2-01dc47491602",
   "metadata": {},
   "outputs": [],
   "source": []
  },
  {
   "cell_type": "code",
   "execution_count": null,
   "id": "3c39b502-9945-486e-85e2-0be401dd0044",
   "metadata": {},
   "outputs": [],
   "source": []
  },
  {
   "cell_type": "code",
   "execution_count": null,
   "id": "072ad723-5871-4248-b0fe-639eca079d63",
   "metadata": {},
   "outputs": [],
   "source": []
  },
  {
   "cell_type": "code",
   "execution_count": null,
   "id": "f5ca49e7-e595-4676-8ab3-5c7b20cf51b2",
   "metadata": {},
   "outputs": [],
   "source": []
  },
  {
   "cell_type": "code",
   "execution_count": null,
   "id": "104ab237-4f8c-4708-87a3-138dbfcd8055",
   "metadata": {},
   "outputs": [],
   "source": []
  },
  {
   "cell_type": "code",
   "execution_count": null,
   "id": "b3ecce50-5c65-403c-9b50-965b16850e15",
   "metadata": {},
   "outputs": [],
   "source": []
  },
  {
   "cell_type": "code",
   "execution_count": null,
   "id": "38665273-3d20-4bbd-9d39-d7f5ca074f03",
   "metadata": {},
   "outputs": [],
   "source": []
  }
 ],
 "metadata": {
  "kernelspec": {
   "display_name": ".venv",
   "language": "python",
   "name": "python3"
  },
  "language_info": {
   "codemirror_mode": {
    "name": "ipython",
    "version": 3
   },
   "file_extension": ".py",
   "mimetype": "text/x-python",
   "name": "python",
   "nbconvert_exporter": "python",
   "pygments_lexer": "ipython3",
   "version": "3.11.9"
  }
 },
 "nbformat": 4,
 "nbformat_minor": 5
}
